{
 "cells": [
  {
   "cell_type": "markdown",
   "metadata": {},
   "source": [
    "# Course 2: Project - Task E - Build a database"
   ]
  },
  {
   "cell_type": "markdown",
   "metadata": {},
   "source": [
    "<a name=\"task-e-top\"></a>\n",
    "This notebook is concerned with task E.\n",
    "\n",
    "**Contents:**\n",
    "* [Imports](#task-e-imports)\n",
    "* [Data loading](#task-e-data-loading)"
   ]
  },
  {
   "cell_type": "markdown",
   "metadata": {},
   "source": [
    "## Imports<a name=\"task-e-imports\"></a> ([top](#task-e-top))\n",
    "---"
   ]
  },
  {
   "cell_type": "code",
   "execution_count": 44,
   "metadata": {},
   "outputs": [],
   "source": [
    "# Standard library:\n",
    "import itertools\n",
    "import pathlib\n",
    "import re\n",
    "import typing as t\n",
    "import unicodedata\n",
    "\n",
    "# 3rd party:\n",
    "import numpy as np\n",
    "import matplotlib.pyplot as plt\n",
    "import pandas as pd\n",
    "import pandas.io.formats.style\n",
    "import seaborn as sns\n",
    "from pandas.plotting import register_matplotlib_converters\n",
    "\n",
    "# Project:\n",
    "import ingredients\n",
    "import utils\n",
    "\n",
    "%matplotlib inline\n",
    "register_matplotlib_converters()"
   ]
  },
  {
   "cell_type": "markdown",
   "metadata": {},
   "source": [
    "## Data loading<a name=\"task-e-data-loading\"></a> ([top](#task-e-top))\n",
    "---"
   ]
  },
  {
   "cell_type": "markdown",
   "metadata": {},
   "source": [
    "First, we load the subset of the cleaned-up dataset that we need:"
   ]
  },
  {
   "cell_type": "code",
   "execution_count": 34,
   "metadata": {},
   "outputs": [],
   "source": [
    "base_name = pathlib.Path.cwd().joinpath('en.openfoodfacts.org.products.clean')"
   ]
  },
  {
   "cell_type": "code",
   "execution_count": 35,
   "metadata": {},
   "outputs": [],
   "source": [
    "# The columns to load:\n",
    "usecols=['created_on', 'last_modified_on']\n",
    "\n",
    "# Load:\n",
    "data_types, parse_dates  = utils.amend_dtypes(utils.load_dtypes(base_name))\n",
    "# We can only parse dates in the columns that we are loading:\n",
    "parse_dates = list(set(parse_dates) & set(usecols))\n",
    "df = pd.read_csv(\n",
    "        f'{base_name}.csv',\n",
    "        header=0,\n",
    "        parse_dates=parse_dates,\n",
    "        usecols=usecols,\n",
    "        dtype=data_types)"
   ]
  },
  {
   "cell_type": "markdown",
   "metadata": {},
   "source": [
    "We get some general information:"
   ]
  },
  {
   "cell_type": "code",
   "execution_count": 36,
   "metadata": {},
   "outputs": [
    {
     "name": "stdout",
     "output_type": "stream",
     "text": [
      "<class 'pandas.core.frame.DataFrame'>\n",
      "RangeIndex: 355569 entries, 0 to 355568\n",
      "Data columns (total 2 columns):\n",
      "created_on          355569 non-null datetime64[ns, UTC]\n",
      "last_modified_on    355569 non-null datetime64[ns, UTC]\n",
      "dtypes: datetime64[ns, UTC](2)\n",
      "memory usage: 5.4 MB\n"
     ]
    }
   ],
   "source": [
    "df.info(verbose=True, null_counts=True)"
   ]
  },
  {
   "cell_type": "markdown",
   "metadata": {},
   "source": [
    "We look at the first few rows:"
   ]
  },
  {
   "cell_type": "code",
   "execution_count": 37,
   "metadata": {},
   "outputs": [
    {
     "data": {
      "text/html": [
       "<div>\n",
       "<style scoped>\n",
       "    .dataframe tbody tr th:only-of-type {\n",
       "        vertical-align: middle;\n",
       "    }\n",
       "\n",
       "    .dataframe tbody tr th {\n",
       "        vertical-align: top;\n",
       "    }\n",
       "\n",
       "    .dataframe thead th {\n",
       "        text-align: right;\n",
       "    }\n",
       "</style>\n",
       "<table border=\"1\" class=\"dataframe\">\n",
       "  <thead>\n",
       "    <tr style=\"text-align: right;\">\n",
       "      <th></th>\n",
       "      <th>created_on</th>\n",
       "      <th>last_modified_on</th>\n",
       "    </tr>\n",
       "  </thead>\n",
       "  <tbody>\n",
       "    <tr>\n",
       "      <th>0</th>\n",
       "      <td>2016-09-17 09:17:46+00:00</td>\n",
       "      <td>2016-09-17 09:18:13+00:00</td>\n",
       "    </tr>\n",
       "    <tr>\n",
       "      <th>1</th>\n",
       "      <td>2017-03-09 14:32:37+00:00</td>\n",
       "      <td>2017-03-09 14:32:37+00:00</td>\n",
       "    </tr>\n",
       "    <tr>\n",
       "      <th>2</th>\n",
       "      <td>2017-03-09 14:32:37+00:00</td>\n",
       "      <td>2017-03-09 14:32:37+00:00</td>\n",
       "    </tr>\n",
       "    <tr>\n",
       "      <th>3</th>\n",
       "      <td>2017-03-09 10:35:31+00:00</td>\n",
       "      <td>2017-03-09 10:35:31+00:00</td>\n",
       "    </tr>\n",
       "    <tr>\n",
       "      <th>4</th>\n",
       "      <td>2017-03-09 10:34:13+00:00</td>\n",
       "      <td>2017-03-09 10:34:13+00:00</td>\n",
       "    </tr>\n",
       "  </tbody>\n",
       "</table>\n",
       "</div>"
      ],
      "text/plain": [
       "                 created_on          last_modified_on\n",
       "0 2016-09-17 09:17:46+00:00 2016-09-17 09:18:13+00:00\n",
       "1 2017-03-09 14:32:37+00:00 2017-03-09 14:32:37+00:00\n",
       "2 2017-03-09 14:32:37+00:00 2017-03-09 14:32:37+00:00\n",
       "3 2017-03-09 10:35:31+00:00 2017-03-09 10:35:31+00:00\n",
       "4 2017-03-09 10:34:13+00:00 2017-03-09 10:34:13+00:00"
      ]
     },
     "execution_count": 37,
     "metadata": {},
     "output_type": "execute_result"
    }
   ],
   "source": [
    "df.head()"
   ]
  },
  {
   "cell_type": "markdown",
   "metadata": {},
   "source": [
    "## Mean time difference<a name=\"task-d-mean-time-difference\"></a> ([top](#task-d-top))\n",
    "---"
   ]
  },
  {
   "cell_type": "markdown",
   "metadata": {},
   "source": [
    "**Task:** You will build a database to hold your data. It is up to you to define appropriate tables and well as primary keys for connecting them. (The focus is definitely more on just using the basic methods/tools introduced in the course and not on building a complex database.) In particular, you can follow the following list of steps:\n",
    "\n",
    "* restrict your data to 1000 entries and 5 columns of your choice\n",
    "* create a connection to a sqlite3 database\n",
    "* create one or multiple tables, at least one of the tables should have a PRIMARY KEY\n",
    "* fill the database with your data\n",
    "* run at least one query to demonstrate that it works correctly"
   ]
  },
  {
   "cell_type": "code",
   "execution_count": null,
   "metadata": {},
   "outputs": [],
   "source": []
  }
 ],
 "metadata": {
  "kernelspec": {
   "display_name": "Python 3",
   "language": "python",
   "name": "python3"
  },
  "language_info": {
   "codemirror_mode": {
    "name": "ipython",
    "version": 3
   },
   "file_extension": ".py",
   "mimetype": "text/x-python",
   "name": "python",
   "nbconvert_exporter": "python",
   "pygments_lexer": "ipython3",
   "version": "3.6.7"
  }
 },
 "nbformat": 4,
 "nbformat_minor": 2
}
