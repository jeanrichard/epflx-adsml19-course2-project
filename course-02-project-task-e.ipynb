{
 "cells": [
  {
   "cell_type": "markdown",
   "metadata": {},
   "source": [
    "# Course 2: Project - Task E - Build a database"
   ]
  },
  {
   "cell_type": "markdown",
   "metadata": {},
   "source": [
    "<a name=\"task-e-top\"></a>\n",
    "This notebook is concerned with task E.\n",
    "\n",
    "**Contents:**\n",
    "* [Imports](#task-e-imports)\n",
    "* [Utilities](#task-e-utilities)\n",
    "* [Data loading](#task-e-data-loading)\n",
    "* [Build the database](#task-e-build-the-database)"
   ]
  },
  {
   "cell_type": "markdown",
   "metadata": {},
   "source": [
    "## Imports<a name=\"task-e-imports\"></a> ([top](#task-e-top))\n",
    "---"
   ]
  },
  {
   "cell_type": "code",
   "execution_count": 75,
   "metadata": {},
   "outputs": [],
   "source": [
    "# Standard library:\n",
    "import pathlib\n",
    "import sqlite3\n",
    "import typing as t\n",
    "\n",
    "# 3rd party:\n",
    "import pandas as pd\n",
    "\n",
    "# Project:\n",
    "import utils"
   ]
  },
  {
   "cell_type": "markdown",
   "metadata": {},
   "source": [
    "## Utilities<a name=\"task-e-utilities\"></a> ([top](#task-e-top))\n",
    "---"
   ]
  },
  {
   "cell_type": "markdown",
   "metadata": {},
   "source": [
    "We define a few utilities that we will use later in this notebook:"
   ]
  },
  {
   "cell_type": "code",
   "execution_count": 56,
   "metadata": {},
   "outputs": [],
   "source": [
    "QueryParams = t.Optional[t.Union[t.Sequence[t.Any], t.Mapping[str, t.Any]]]\n",
    "\n",
    "def pd_execute(con: sqlite3.Connection, query: str, params: QueryParams = None) -> pd.DataFrame:\n",
    "    return pd.read_sql_query(query, con, params=params)\n",
    "\n",
    "\n",
    "def pd_explain(con: sqlite3.Connection, query: str, params: QueryParams = None) -> pd.DataFrame:\n",
    "    return pd.read_sql_query('EXPLAIN QUERY PLAN ' + query, con, params=params)\n",
    "\n",
    "\n",
    "def execute(cursor: sqlite3.Cursor, query: str, params: QueryParams = None) -> sqlite3.Cursor:\n",
    "    if params:\n",
    "        cursor.execute(query, params)\n",
    "    else:\n",
    "        cursor.execute(query)\n",
    "    return cursor\n",
    "\n",
    "\n",
    "def fetchall(cursor: sqlite3.Cursor, query: str, params: QueryParams = None) -> t.List[t.Any]:\n",
    "    return execute(cursor, query, params).fetchall()\n",
    "\n",
    "\n",
    "def fetchone(cursor: sqlite3.Cursor, query: str, params: QueryParams = None) -> t.Optional[t.Any]:\n",
    "    return execute(cursor, query, params).fetchone()"
   ]
  },
  {
   "cell_type": "markdown",
   "metadata": {},
   "source": [
    "## Data loading<a name=\"task-e-data-loading\"></a> ([top](#task-e-top))\n",
    "---"
   ]
  },
  {
   "cell_type": "markdown",
   "metadata": {},
   "source": [
    "First, we load the subset of the cleaned-up dataset that we need:"
   ]
  },
  {
   "cell_type": "code",
   "execution_count": 3,
   "metadata": {},
   "outputs": [],
   "source": [
    "base_name = pathlib.Path.cwd().joinpath('en.openfoodfacts.org.products.clean')"
   ]
  },
  {
   "cell_type": "markdown",
   "metadata": {},
   "source": [
    "As indicated, we restrict the data to 1000 rows and 5 columns of our choice:"
   ]
  },
  {
   "cell_type": "code",
   "execution_count": 72,
   "metadata": {},
   "outputs": [],
   "source": [
    "# The columns to load:\n",
    "usecols=[\n",
    "    'code',\n",
    "    'url',\n",
    "    'creator',\n",
    "    'created_on_utc',\n",
    "    'product_name'\n",
    "]\n",
    "\n",
    "# Load the data-types:\n",
    "data_types, parse_dates = utils.load_and_amend_dtypes(base_name)\n",
    "# We can only parse dates in the columns that we are loading:\n",
    "parse_dates = list(set(parse_dates) & set(usecols))\n",
    "\n",
    "# Load the data-frame:\n",
    "df = pd.read_csv(\n",
    "    f'{base_name}.csv',\n",
    "    header=0,\n",
    "    parse_dates=parse_dates,\n",
    "    usecols=usecols,\n",
    "    nrows=1000,\n",
    "    dtype=data_types)"
   ]
  },
  {
   "cell_type": "markdown",
   "metadata": {},
   "source": [
    "We get some general information:"
   ]
  },
  {
   "cell_type": "code",
   "execution_count": 44,
   "metadata": {},
   "outputs": [
    {
     "name": "stdout",
     "output_type": "stream",
     "text": [
      "<class 'pandas.core.frame.DataFrame'>\n",
      "RangeIndex: 1000 entries, 0 to 999\n",
      "Data columns (total 5 columns):\n",
      "code              1000 non-null object\n",
      "url               1000 non-null object\n",
      "creator           1000 non-null object\n",
      "product_name      933 non-null object\n",
      "created_on_utc    1000 non-null datetime64[ns]\n",
      "dtypes: datetime64[ns](1), object(4)\n",
      "memory usage: 39.1+ KB\n"
     ]
    }
   ],
   "source": [
    "df.info(verbose=True, null_counts=True)"
   ]
  },
  {
   "cell_type": "markdown",
   "metadata": {},
   "source": [
    "We look at the first few rows:"
   ]
  },
  {
   "cell_type": "code",
   "execution_count": 45,
   "metadata": {},
   "outputs": [
    {
     "data": {
      "text/html": [
       "<div>\n",
       "<style scoped>\n",
       "    .dataframe tbody tr th:only-of-type {\n",
       "        vertical-align: middle;\n",
       "    }\n",
       "\n",
       "    .dataframe tbody tr th {\n",
       "        vertical-align: top;\n",
       "    }\n",
       "\n",
       "    .dataframe thead th {\n",
       "        text-align: right;\n",
       "    }\n",
       "</style>\n",
       "<table border=\"1\" class=\"dataframe\">\n",
       "  <thead>\n",
       "    <tr style=\"text-align: right;\">\n",
       "      <th></th>\n",
       "      <th>code</th>\n",
       "      <th>url</th>\n",
       "      <th>creator</th>\n",
       "      <th>product_name</th>\n",
       "      <th>created_on_utc</th>\n",
       "    </tr>\n",
       "  </thead>\n",
       "  <tbody>\n",
       "    <tr>\n",
       "      <th>0</th>\n",
       "      <td>0000000003087</td>\n",
       "      <td>http://world-en.openfoodfacts.org/product/0000...</td>\n",
       "      <td>openfoodfacts-contributors</td>\n",
       "      <td>Farine de blé noir</td>\n",
       "      <td>2016-09-17 09:17:46</td>\n",
       "    </tr>\n",
       "    <tr>\n",
       "      <th>1</th>\n",
       "      <td>0000000004530</td>\n",
       "      <td>http://world-en.openfoodfacts.org/product/0000...</td>\n",
       "      <td>usda-ndb-import</td>\n",
       "      <td>Banana Chips Sweetened (Whole)</td>\n",
       "      <td>2017-03-09 14:32:37</td>\n",
       "    </tr>\n",
       "    <tr>\n",
       "      <th>2</th>\n",
       "      <td>0000000004559</td>\n",
       "      <td>http://world-en.openfoodfacts.org/product/0000...</td>\n",
       "      <td>usda-ndb-import</td>\n",
       "      <td>Peanuts</td>\n",
       "      <td>2017-03-09 14:32:37</td>\n",
       "    </tr>\n",
       "    <tr>\n",
       "      <th>3</th>\n",
       "      <td>0000000016087</td>\n",
       "      <td>http://world-en.openfoodfacts.org/product/0000...</td>\n",
       "      <td>usda-ndb-import</td>\n",
       "      <td>Organic Salted Nut Mix</td>\n",
       "      <td>2017-03-09 10:35:31</td>\n",
       "    </tr>\n",
       "    <tr>\n",
       "      <th>4</th>\n",
       "      <td>0000000016094</td>\n",
       "      <td>http://world-en.openfoodfacts.org/product/0000...</td>\n",
       "      <td>usda-ndb-import</td>\n",
       "      <td>Organic Polenta</td>\n",
       "      <td>2017-03-09 10:34:13</td>\n",
       "    </tr>\n",
       "  </tbody>\n",
       "</table>\n",
       "</div>"
      ],
      "text/plain": [
       "            code                                                url  \\\n",
       "0  0000000003087  http://world-en.openfoodfacts.org/product/0000...   \n",
       "1  0000000004530  http://world-en.openfoodfacts.org/product/0000...   \n",
       "2  0000000004559  http://world-en.openfoodfacts.org/product/0000...   \n",
       "3  0000000016087  http://world-en.openfoodfacts.org/product/0000...   \n",
       "4  0000000016094  http://world-en.openfoodfacts.org/product/0000...   \n",
       "\n",
       "                      creator                    product_name  \\\n",
       "0  openfoodfacts-contributors              Farine de blé noir   \n",
       "1             usda-ndb-import  Banana Chips Sweetened (Whole)   \n",
       "2             usda-ndb-import                         Peanuts   \n",
       "3             usda-ndb-import          Organic Salted Nut Mix   \n",
       "4             usda-ndb-import                 Organic Polenta   \n",
       "\n",
       "       created_on_utc  \n",
       "0 2016-09-17 09:17:46  \n",
       "1 2017-03-09 14:32:37  \n",
       "2 2017-03-09 14:32:37  \n",
       "3 2017-03-09 10:35:31  \n",
       "4 2017-03-09 10:34:13  "
      ]
     },
     "execution_count": 45,
     "metadata": {},
     "output_type": "execute_result"
    }
   ],
   "source": [
    "df.head()"
   ]
  },
  {
   "cell_type": "markdown",
   "metadata": {},
   "source": [
    "## Build the database<a name=\"task-e-build-the-database\"></a> ([top](#task-e-top))\n",
    "---"
   ]
  },
  {
   "cell_type": "markdown",
   "metadata": {},
   "source": [
    "We decide to call the databse *test* and to store it in the same directory as this notebook:"
   ]
  },
  {
   "cell_type": "code",
   "execution_count": 48,
   "metadata": {},
   "outputs": [],
   "source": [
    "db_name = pathlib.Path.cwd().joinpath('test.db')"
   ]
  },
  {
   "cell_type": "markdown",
   "metadata": {},
   "source": [
    "### Create a connection"
   ]
  },
  {
   "cell_type": "code",
   "execution_count": 50,
   "metadata": {},
   "outputs": [],
   "source": [
    "con = sqlite3.connect(str(db_name))"
   ]
  },
  {
   "cell_type": "markdown",
   "metadata": {},
   "source": [
    "Given the time spent on the other tasks, we implement the basis requirements for this task and create only 1 table. We confirm that `code` is suitable as a PRIMARY KEY:"
   ]
  },
  {
   "cell_type": "code",
   "execution_count": 11,
   "metadata": {},
   "outputs": [
    {
     "data": {
      "text/plain": [
       "True"
      ]
     },
     "execution_count": 11,
     "metadata": {},
     "output_type": "execute_result"
    }
   ],
   "source": [
    "df['code'].is_unique"
   ]
  },
  {
   "cell_type": "markdown",
   "metadata": {},
   "source": [
    "### Create one table"
   ]
  },
  {
   "cell_type": "markdown",
   "metadata": {},
   "source": [
    "We create the `test` table. Since SQLite has a limited set of data-types, we decide to store [dates and times](https://www.sqlite.org/datatype3.html#date_and_time_datatype) as ISO 8601 strings."
   ]
  },
  {
   "cell_type": "code",
   "execution_count": 57,
   "metadata": {},
   "outputs": [],
   "source": [
    "query_drop = '''\\\n",
    "DROP TABLE IF EXISTS test\n",
    "'''\n",
    "\n",
    "query_create = '''\\\n",
    "CREATE TABLE IF NOT EXISTS test (\n",
    "    code TEXT PRIMARY KEY,\n",
    "    url TEXT,\n",
    "    creator TEXT,\n",
    "    created_on_utc TEXT,\n",
    "    product_name TEXT\n",
    ");\n",
    "'''\n",
    "\n",
    "with con:\n",
    "    cursor = con.cursor()\n",
    "    execute(cursor, query_drop)\n",
    "    execute(cursor, query_create)"
   ]
  },
  {
   "cell_type": "markdown",
   "metadata": {},
   "source": [
    "We check the result:"
   ]
  },
  {
   "cell_type": "code",
   "execution_count": 66,
   "metadata": {},
   "outputs": [
    {
     "data": {
      "text/html": [
       "<div>\n",
       "<style scoped>\n",
       "    .dataframe tbody tr th:only-of-type {\n",
       "        vertical-align: middle;\n",
       "    }\n",
       "\n",
       "    .dataframe tbody tr th {\n",
       "        vertical-align: top;\n",
       "    }\n",
       "\n",
       "    .dataframe thead th {\n",
       "        text-align: right;\n",
       "    }\n",
       "</style>\n",
       "<table border=\"1\" class=\"dataframe\">\n",
       "  <thead>\n",
       "    <tr style=\"text-align: right;\">\n",
       "      <th></th>\n",
       "      <th>cid</th>\n",
       "      <th>name</th>\n",
       "      <th>type</th>\n",
       "      <th>notnull</th>\n",
       "      <th>dflt_value</th>\n",
       "      <th>pk</th>\n",
       "    </tr>\n",
       "  </thead>\n",
       "  <tbody>\n",
       "    <tr>\n",
       "      <th>0</th>\n",
       "      <td>0</td>\n",
       "      <td>code</td>\n",
       "      <td>TEXT</td>\n",
       "      <td>0</td>\n",
       "      <td>None</td>\n",
       "      <td>1</td>\n",
       "    </tr>\n",
       "    <tr>\n",
       "      <th>1</th>\n",
       "      <td>1</td>\n",
       "      <td>url</td>\n",
       "      <td>TEXT</td>\n",
       "      <td>0</td>\n",
       "      <td>None</td>\n",
       "      <td>0</td>\n",
       "    </tr>\n",
       "    <tr>\n",
       "      <th>2</th>\n",
       "      <td>2</td>\n",
       "      <td>creator</td>\n",
       "      <td>TEXT</td>\n",
       "      <td>0</td>\n",
       "      <td>None</td>\n",
       "      <td>0</td>\n",
       "    </tr>\n",
       "    <tr>\n",
       "      <th>3</th>\n",
       "      <td>3</td>\n",
       "      <td>created_on_utc</td>\n",
       "      <td>TEXT</td>\n",
       "      <td>0</td>\n",
       "      <td>None</td>\n",
       "      <td>0</td>\n",
       "    </tr>\n",
       "    <tr>\n",
       "      <th>4</th>\n",
       "      <td>4</td>\n",
       "      <td>product_name</td>\n",
       "      <td>TEXT</td>\n",
       "      <td>0</td>\n",
       "      <td>None</td>\n",
       "      <td>0</td>\n",
       "    </tr>\n",
       "  </tbody>\n",
       "</table>\n",
       "</div>"
      ],
      "text/plain": [
       "   cid            name  type  notnull dflt_value  pk\n",
       "0    0            code  TEXT        0       None   1\n",
       "1    1             url  TEXT        0       None   0\n",
       "2    2         creator  TEXT        0       None   0\n",
       "3    3  created_on_utc  TEXT        0       None   0\n",
       "4    4    product_name  TEXT        0       None   0"
      ]
     },
     "execution_count": 66,
     "metadata": {},
     "output_type": "execute_result"
    }
   ],
   "source": [
    "pd_execute(con, \"PRAGMA table_info('test');\")"
   ]
  },
  {
   "cell_type": "markdown",
   "metadata": {},
   "source": [
    "### Fill the database"
   ]
  },
  {
   "cell_type": "markdown",
   "metadata": {},
   "source": [
    "We fill the database with our data:"
   ]
  },
  {
   "cell_type": "code",
   "execution_count": 67,
   "metadata": {},
   "outputs": [],
   "source": [
    "df.to_sql(name='test', con=con, if_exists='append', index=False)"
   ]
  },
  {
   "cell_type": "markdown",
   "metadata": {},
   "source": [
    "We check the result:"
   ]
  },
  {
   "cell_type": "code",
   "execution_count": 69,
   "metadata": {},
   "outputs": [
    {
     "data": {
      "text/html": [
       "<div>\n",
       "<style scoped>\n",
       "    .dataframe tbody tr th:only-of-type {\n",
       "        vertical-align: middle;\n",
       "    }\n",
       "\n",
       "    .dataframe tbody tr th {\n",
       "        vertical-align: top;\n",
       "    }\n",
       "\n",
       "    .dataframe thead th {\n",
       "        text-align: right;\n",
       "    }\n",
       "</style>\n",
       "<table border=\"1\" class=\"dataframe\">\n",
       "  <thead>\n",
       "    <tr style=\"text-align: right;\">\n",
       "      <th></th>\n",
       "      <th>code</th>\n",
       "      <th>url</th>\n",
       "      <th>creator</th>\n",
       "      <th>created_on_utc</th>\n",
       "      <th>product_name</th>\n",
       "    </tr>\n",
       "  </thead>\n",
       "  <tbody>\n",
       "    <tr>\n",
       "      <th>0</th>\n",
       "      <td>0000000003087</td>\n",
       "      <td>http://world-en.openfoodfacts.org/product/0000...</td>\n",
       "      <td>openfoodfacts-contributors</td>\n",
       "      <td>2016-09-17 09:17:46</td>\n",
       "      <td>Farine de blé noir</td>\n",
       "    </tr>\n",
       "    <tr>\n",
       "      <th>1</th>\n",
       "      <td>0000000004530</td>\n",
       "      <td>http://world-en.openfoodfacts.org/product/0000...</td>\n",
       "      <td>usda-ndb-import</td>\n",
       "      <td>2017-03-09 14:32:37</td>\n",
       "      <td>Banana Chips Sweetened (Whole)</td>\n",
       "    </tr>\n",
       "    <tr>\n",
       "      <th>2</th>\n",
       "      <td>0000000004559</td>\n",
       "      <td>http://world-en.openfoodfacts.org/product/0000...</td>\n",
       "      <td>usda-ndb-import</td>\n",
       "      <td>2017-03-09 14:32:37</td>\n",
       "      <td>Peanuts</td>\n",
       "    </tr>\n",
       "    <tr>\n",
       "      <th>3</th>\n",
       "      <td>0000000016087</td>\n",
       "      <td>http://world-en.openfoodfacts.org/product/0000...</td>\n",
       "      <td>usda-ndb-import</td>\n",
       "      <td>2017-03-09 10:35:31</td>\n",
       "      <td>Organic Salted Nut Mix</td>\n",
       "    </tr>\n",
       "    <tr>\n",
       "      <th>4</th>\n",
       "      <td>0000000016094</td>\n",
       "      <td>http://world-en.openfoodfacts.org/product/0000...</td>\n",
       "      <td>usda-ndb-import</td>\n",
       "      <td>2017-03-09 10:34:13</td>\n",
       "      <td>Organic Polenta</td>\n",
       "    </tr>\n",
       "  </tbody>\n",
       "</table>\n",
       "</div>"
      ],
      "text/plain": [
       "            code                                                url  \\\n",
       "0  0000000003087  http://world-en.openfoodfacts.org/product/0000...   \n",
       "1  0000000004530  http://world-en.openfoodfacts.org/product/0000...   \n",
       "2  0000000004559  http://world-en.openfoodfacts.org/product/0000...   \n",
       "3  0000000016087  http://world-en.openfoodfacts.org/product/0000...   \n",
       "4  0000000016094  http://world-en.openfoodfacts.org/product/0000...   \n",
       "\n",
       "                      creator       created_on_utc  \\\n",
       "0  openfoodfacts-contributors  2016-09-17 09:17:46   \n",
       "1             usda-ndb-import  2017-03-09 14:32:37   \n",
       "2             usda-ndb-import  2017-03-09 14:32:37   \n",
       "3             usda-ndb-import  2017-03-09 10:35:31   \n",
       "4             usda-ndb-import  2017-03-09 10:34:13   \n",
       "\n",
       "                     product_name  \n",
       "0              Farine de blé noir  \n",
       "1  Banana Chips Sweetened (Whole)  \n",
       "2                         Peanuts  \n",
       "3          Organic Salted Nut Mix  \n",
       "4                 Organic Polenta  "
      ]
     },
     "execution_count": 69,
     "metadata": {},
     "output_type": "execute_result"
    }
   ],
   "source": [
    "pd_execute(con, 'SELECT * FROM test LIMIT 5;')"
   ]
  },
  {
   "cell_type": "markdown",
   "metadata": {},
   "source": [
    "### Run one query"
   ]
  },
  {
   "cell_type": "markdown",
   "metadata": {},
   "source": [
    "We select all entries created in January 2017:"
   ]
  },
  {
   "cell_type": "code",
   "execution_count": 70,
   "metadata": {},
   "outputs": [
    {
     "data": {
      "text/html": [
       "<div>\n",
       "<style scoped>\n",
       "    .dataframe tbody tr th:only-of-type {\n",
       "        vertical-align: middle;\n",
       "    }\n",
       "\n",
       "    .dataframe tbody tr th {\n",
       "        vertical-align: top;\n",
       "    }\n",
       "\n",
       "    .dataframe thead th {\n",
       "        text-align: right;\n",
       "    }\n",
       "</style>\n",
       "<table border=\"1\" class=\"dataframe\">\n",
       "  <thead>\n",
       "    <tr style=\"text-align: right;\">\n",
       "      <th></th>\n",
       "      <th>code</th>\n",
       "      <th>url</th>\n",
       "      <th>creator</th>\n",
       "      <th>created_on_utc</th>\n",
       "      <th>product_name</th>\n",
       "    </tr>\n",
       "  </thead>\n",
       "  <tbody>\n",
       "    <tr>\n",
       "      <th>0</th>\n",
       "      <td>0000000290616</td>\n",
       "      <td>http://world-en.openfoodfacts.org/product/0000...</td>\n",
       "      <td>b7</td>\n",
       "      <td>2017-01-16 22:32:58</td>\n",
       "      <td>Salade Cesar</td>\n",
       "    </tr>\n",
       "    <tr>\n",
       "      <th>1</th>\n",
       "      <td>0000000394710</td>\n",
       "      <td>http://world-en.openfoodfacts.org/product/0000...</td>\n",
       "      <td>b7</td>\n",
       "      <td>2017-01-15 16:22:50</td>\n",
       "      <td>Danoises à la cannelle roulées</td>\n",
       "    </tr>\n",
       "    <tr>\n",
       "      <th>2</th>\n",
       "      <td>0000001938067</td>\n",
       "      <td>http://world-en.openfoodfacts.org/product/0000...</td>\n",
       "      <td>b7</td>\n",
       "      <td>2017-01-15 17:32:08</td>\n",
       "      <td>Chaussons tressés aux pommes</td>\n",
       "    </tr>\n",
       "    <tr>\n",
       "      <th>3</th>\n",
       "      <td>0000013000004</td>\n",
       "      <td>http://world-en.openfoodfacts.org/product/0000...</td>\n",
       "      <td>openfoodfacts-contributors</td>\n",
       "      <td>2017-01-14 22:13:19</td>\n",
       "      <td>Kochspeck</td>\n",
       "    </tr>\n",
       "    <tr>\n",
       "      <th>4</th>\n",
       "      <td>0000069016165</td>\n",
       "      <td>http://world-en.openfoodfacts.org/product/0000...</td>\n",
       "      <td>date-limite-app</td>\n",
       "      <td>2017-01-27 17:52:15</td>\n",
       "      <td>BoFrost Nudelpfanne</td>\n",
       "    </tr>\n",
       "    <tr>\n",
       "      <th>5</th>\n",
       "      <td>0000250632969</td>\n",
       "      <td>http://world-en.openfoodfacts.org/product/0000...</td>\n",
       "      <td>allfitnessfactory-de</td>\n",
       "      <td>2017-01-13 07:30:12</td>\n",
       "      <td>Mehrkomponeneten Protein 90 C6 Banane</td>\n",
       "    </tr>\n",
       "    <tr>\n",
       "      <th>6</th>\n",
       "      <td>0000470322800</td>\n",
       "      <td>http://world-en.openfoodfacts.org/product/0000...</td>\n",
       "      <td>allfitnessfactory-de</td>\n",
       "      <td>2017-01-13 10:22:12</td>\n",
       "      <td>Whey Protein aus Molke Vanilla</td>\n",
       "    </tr>\n",
       "    <tr>\n",
       "      <th>7</th>\n",
       "      <td>0000501050603</td>\n",
       "      <td>http://world-en.openfoodfacts.org/product/0000...</td>\n",
       "      <td>allfitnessfactory-de</td>\n",
       "      <td>2017-01-13 10:12:31</td>\n",
       "      <td>Whey Protein aus Molke 1000 Gramm Vanilla</td>\n",
       "    </tr>\n",
       "    <tr>\n",
       "      <th>8</th>\n",
       "      <td>0000526938306</td>\n",
       "      <td>http://world-en.openfoodfacts.org/product/0000...</td>\n",
       "      <td>allfitnessfactory-de</td>\n",
       "      <td>2017-01-13 10:03:47</td>\n",
       "      <td>Whey Protein aus Molke 500 Gramm Vanilla</td>\n",
       "    </tr>\n",
       "    <tr>\n",
       "      <th>9</th>\n",
       "      <td>0001000008706</td>\n",
       "      <td>http://world-en.openfoodfacts.org/product/0001...</td>\n",
       "      <td>date-limite-app</td>\n",
       "      <td>2017-01-14 15:07:01</td>\n",
       "      <td>Huile d'olive Monini</td>\n",
       "    </tr>\n",
       "    <tr>\n",
       "      <th>10</th>\n",
       "      <td>00026857</td>\n",
       "      <td>http://world-en.openfoodfacts.org/product/0002...</td>\n",
       "      <td>teolemon</td>\n",
       "      <td>2017-01-26 22:09:41</td>\n",
       "      <td>Cornish Cruncher &amp; Balsamic Onion</td>\n",
       "    </tr>\n",
       "    <tr>\n",
       "      <th>11</th>\n",
       "      <td>00051378</td>\n",
       "      <td>http://world-en.openfoodfacts.org/product/0005...</td>\n",
       "      <td>openfoodfacts-contributors</td>\n",
       "      <td>2017-01-21 17:54:30</td>\n",
       "      <td>None</td>\n",
       "    </tr>\n",
       "    <tr>\n",
       "      <th>12</th>\n",
       "      <td>0006100001213</td>\n",
       "      <td>http://world-en.openfoodfacts.org/product/0006...</td>\n",
       "      <td>date-limite-app</td>\n",
       "      <td>2017-01-29 13:42:47</td>\n",
       "      <td>Riz à la méditerranéenne</td>\n",
       "    </tr>\n",
       "    <tr>\n",
       "      <th>13</th>\n",
       "      <td>00074742</td>\n",
       "      <td>http://world-en.openfoodfacts.org/product/0007...</td>\n",
       "      <td>jm0804</td>\n",
       "      <td>2017-01-11 14:23:31</td>\n",
       "      <td>Taste the Difference Raspberry Conserve</td>\n",
       "    </tr>\n",
       "  </tbody>\n",
       "</table>\n",
       "</div>"
      ],
      "text/plain": [
       "             code                                                url  \\\n",
       "0   0000000290616  http://world-en.openfoodfacts.org/product/0000...   \n",
       "1   0000000394710  http://world-en.openfoodfacts.org/product/0000...   \n",
       "2   0000001938067  http://world-en.openfoodfacts.org/product/0000...   \n",
       "3   0000013000004  http://world-en.openfoodfacts.org/product/0000...   \n",
       "4   0000069016165  http://world-en.openfoodfacts.org/product/0000...   \n",
       "5   0000250632969  http://world-en.openfoodfacts.org/product/0000...   \n",
       "6   0000470322800  http://world-en.openfoodfacts.org/product/0000...   \n",
       "7   0000501050603  http://world-en.openfoodfacts.org/product/0000...   \n",
       "8   0000526938306  http://world-en.openfoodfacts.org/product/0000...   \n",
       "9   0001000008706  http://world-en.openfoodfacts.org/product/0001...   \n",
       "10       00026857  http://world-en.openfoodfacts.org/product/0002...   \n",
       "11       00051378  http://world-en.openfoodfacts.org/product/0005...   \n",
       "12  0006100001213  http://world-en.openfoodfacts.org/product/0006...   \n",
       "13       00074742  http://world-en.openfoodfacts.org/product/0007...   \n",
       "\n",
       "                       creator       created_on_utc  \\\n",
       "0                           b7  2017-01-16 22:32:58   \n",
       "1                           b7  2017-01-15 16:22:50   \n",
       "2                           b7  2017-01-15 17:32:08   \n",
       "3   openfoodfacts-contributors  2017-01-14 22:13:19   \n",
       "4              date-limite-app  2017-01-27 17:52:15   \n",
       "5         allfitnessfactory-de  2017-01-13 07:30:12   \n",
       "6         allfitnessfactory-de  2017-01-13 10:22:12   \n",
       "7         allfitnessfactory-de  2017-01-13 10:12:31   \n",
       "8         allfitnessfactory-de  2017-01-13 10:03:47   \n",
       "9              date-limite-app  2017-01-14 15:07:01   \n",
       "10                    teolemon  2017-01-26 22:09:41   \n",
       "11  openfoodfacts-contributors  2017-01-21 17:54:30   \n",
       "12             date-limite-app  2017-01-29 13:42:47   \n",
       "13                      jm0804  2017-01-11 14:23:31   \n",
       "\n",
       "                                 product_name  \n",
       "0                                Salade Cesar  \n",
       "1              Danoises à la cannelle roulées  \n",
       "2                Chaussons tressés aux pommes  \n",
       "3                                   Kochspeck  \n",
       "4                         BoFrost Nudelpfanne  \n",
       "5       Mehrkomponeneten Protein 90 C6 Banane  \n",
       "6              Whey Protein aus Molke Vanilla  \n",
       "7   Whey Protein aus Molke 1000 Gramm Vanilla  \n",
       "8    Whey Protein aus Molke 500 Gramm Vanilla  \n",
       "9                        Huile d'olive Monini  \n",
       "10          Cornish Cruncher & Balsamic Onion  \n",
       "11                                       None  \n",
       "12                   Riz à la méditerranéenne  \n",
       "13    Taste the Difference Raspberry Conserve  "
      ]
     },
     "execution_count": 70,
     "metadata": {},
     "output_type": "execute_result"
    }
   ],
   "source": [
    "query = '''\\\n",
    "SELECT *\n",
    "FROM test\n",
    "WHERE strftime('%Y-%m-%d', created_on_utc) BETWEEN '2017-01-01' AND '2017-01-31';\n",
    "'''\n",
    "\n",
    "pd_execute(con, query)"
   ]
  },
  {
   "cell_type": "markdown",
   "metadata": {},
   "source": [
    "### Cleanup"
   ]
  },
  {
   "cell_type": "markdown",
   "metadata": {},
   "source": [
    "Finally, we close the connection:"
   ]
  },
  {
   "cell_type": "code",
   "execution_count": 74,
   "metadata": {},
   "outputs": [],
   "source": [
    "con.close()"
   ]
  },
  {
   "cell_type": "code",
   "execution_count": null,
   "metadata": {},
   "outputs": [],
   "source": []
  }
 ],
 "metadata": {
  "kernelspec": {
   "display_name": "Python 3",
   "language": "python",
   "name": "python3"
  },
  "language_info": {
   "codemirror_mode": {
    "name": "ipython",
    "version": 3
   },
   "file_extension": ".py",
   "mimetype": "text/x-python",
   "name": "python",
   "nbconvert_exporter": "python",
   "pygments_lexer": "ipython3",
   "version": "3.6.7"
  }
 },
 "nbformat": 4,
 "nbformat_minor": 2
}
