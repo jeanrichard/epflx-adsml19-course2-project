{
 "cells": [
  {
   "cell_type": "markdown",
   "metadata": {},
   "source": [
    "# Course 2: Project - Task D - Time-series analysis"
   ]
  },
  {
   "cell_type": "markdown",
   "metadata": {},
   "source": [
    "<a name=\"task-d-top\"></a>\n",
    "This notebook is concerned with task D.\n",
    "\n",
    "**Contents:**\n",
    "* [Imports](#task-d-imports)\n",
    "* [Data loading](#task-d-data-loading)\n",
    "* [Mean time difference](#task-d-mean-time-difference)\n",
    "* [Number of items](#task-d-number-of-items)"
   ]
  },
  {
   "cell_type": "markdown",
   "metadata": {},
   "source": [
    "## Imports<a name=\"task-c-imports\"></a> ([top](#task-d-top))\n",
    "---"
   ]
  },
  {
   "cell_type": "code",
   "execution_count": 2,
   "metadata": {},
   "outputs": [],
   "source": [
    "# Standard library:\n",
    "import itertools\n",
    "import pathlib\n",
    "import re\n",
    "import typing as t\n",
    "import unicodedata\n",
    "\n",
    "# 3rd party:\n",
    "import numpy as np\n",
    "import matplotlib.pyplot as plt\n",
    "import pandas as pd\n",
    "import pandas.io.formats.style\n",
    "import seaborn as sns\n",
    "from pandas.plotting import register_matplotlib_converters\n",
    "\n",
    "# Project:\n",
    "import ingredients\n",
    "import utils\n",
    "\n",
    "%matplotlib inline\n",
    "register_matplotlib_converters()"
   ]
  },
  {
   "cell_type": "markdown",
   "metadata": {},
   "source": [
    "## Data loading<a name=\"task-d-data-loading\"></a> ([top](#task-d-top))\n",
    "---"
   ]
  },
  {
   "cell_type": "markdown",
   "metadata": {},
   "source": [
    "First, we load the subset of the cleaned-up dataset that we need:"
   ]
  },
  {
   "cell_type": "code",
   "execution_count": 3,
   "metadata": {},
   "outputs": [],
   "source": [
    "base_name = pathlib.Path.cwd().joinpath('en.openfoodfacts.org.products.clean')"
   ]
  },
  {
   "cell_type": "code",
   "execution_count": 4,
   "metadata": {},
   "outputs": [],
   "source": [
    "# The columns to load:\n",
    "usecols=['created_on_utc', 'last_modified_on_utc']\n",
    "\n",
    "# Load:\n",
    "data_types, parse_dates  = utils.amend_dtypes(utils.load_dtypes(base_name))\n",
    "# We can only parse dates in the columns that we are loading:\n",
    "parse_dates = list(set(parse_dates) & set(usecols))\n",
    "df = pd.read_csv(\n",
    "        f'{base_name}.csv',\n",
    "        header=0,\n",
    "        parse_dates=parse_dates,\n",
    "        usecols=usecols,\n",
    "        dtype=data_types)"
   ]
  },
  {
   "cell_type": "markdown",
   "metadata": {},
   "source": [
    "We get some general information:"
   ]
  },
  {
   "cell_type": "code",
   "execution_count": 5,
   "metadata": {},
   "outputs": [
    {
     "name": "stdout",
     "output_type": "stream",
     "text": [
      "<class 'pandas.core.frame.DataFrame'>\n",
      "RangeIndex: 355569 entries, 0 to 355568\n",
      "Data columns (total 2 columns):\n",
      "created_on_utc          355569 non-null datetime64[ns]\n",
      "last_modified_on_utc    355569 non-null datetime64[ns]\n",
      "dtypes: datetime64[ns](2)\n",
      "memory usage: 5.4 MB\n"
     ]
    }
   ],
   "source": [
    "df.info(verbose=True, null_counts=True)"
   ]
  },
  {
   "cell_type": "markdown",
   "metadata": {},
   "source": [
    "We look at the first few rows:"
   ]
  },
  {
   "cell_type": "code",
   "execution_count": 6,
   "metadata": {},
   "outputs": [
    {
     "data": {
      "text/html": [
       "<div>\n",
       "<style scoped>\n",
       "    .dataframe tbody tr th:only-of-type {\n",
       "        vertical-align: middle;\n",
       "    }\n",
       "\n",
       "    .dataframe tbody tr th {\n",
       "        vertical-align: top;\n",
       "    }\n",
       "\n",
       "    .dataframe thead th {\n",
       "        text-align: right;\n",
       "    }\n",
       "</style>\n",
       "<table border=\"1\" class=\"dataframe\">\n",
       "  <thead>\n",
       "    <tr style=\"text-align: right;\">\n",
       "      <th></th>\n",
       "      <th>created_on_utc</th>\n",
       "      <th>last_modified_on_utc</th>\n",
       "    </tr>\n",
       "  </thead>\n",
       "  <tbody>\n",
       "    <tr>\n",
       "      <th>0</th>\n",
       "      <td>2016-09-17 09:17:46</td>\n",
       "      <td>2016-09-17 09:18:13</td>\n",
       "    </tr>\n",
       "    <tr>\n",
       "      <th>1</th>\n",
       "      <td>2017-03-09 14:32:37</td>\n",
       "      <td>2017-03-09 14:32:37</td>\n",
       "    </tr>\n",
       "    <tr>\n",
       "      <th>2</th>\n",
       "      <td>2017-03-09 14:32:37</td>\n",
       "      <td>2017-03-09 14:32:37</td>\n",
       "    </tr>\n",
       "    <tr>\n",
       "      <th>3</th>\n",
       "      <td>2017-03-09 10:35:31</td>\n",
       "      <td>2017-03-09 10:35:31</td>\n",
       "    </tr>\n",
       "    <tr>\n",
       "      <th>4</th>\n",
       "      <td>2017-03-09 10:34:13</td>\n",
       "      <td>2017-03-09 10:34:13</td>\n",
       "    </tr>\n",
       "  </tbody>\n",
       "</table>\n",
       "</div>"
      ],
      "text/plain": [
       "       created_on_utc last_modified_on_utc\n",
       "0 2016-09-17 09:17:46  2016-09-17 09:18:13\n",
       "1 2017-03-09 14:32:37  2017-03-09 14:32:37\n",
       "2 2017-03-09 14:32:37  2017-03-09 14:32:37\n",
       "3 2017-03-09 10:35:31  2017-03-09 10:35:31\n",
       "4 2017-03-09 10:34:13  2017-03-09 10:34:13"
      ]
     },
     "execution_count": 6,
     "metadata": {},
     "output_type": "execute_result"
    }
   ],
   "source": [
    "df.head()"
   ]
  },
  {
   "cell_type": "markdown",
   "metadata": {},
   "source": [
    "## Mean time difference<a name=\"task-d-mean-time-difference\"></a> ([top](#task-d-top))\n",
    "---"
   ]
  },
  {
   "cell_type": "markdown",
   "metadata": {},
   "source": [
    "**Task:** Analyze the mean time difference between `created_on_utc` and `last_modified_on_utc`."
   ]
  },
  {
   "cell_type": "markdown",
   "metadata": {},
   "source": [
    "From task A, we know that both values are always set together and that `created_on` always precede `last_modified_on`."
   ]
  },
  {
   "cell_type": "code",
   "execution_count": 7,
   "metadata": {},
   "outputs": [
    {
     "name": "stdout",
     "output_type": "stream",
     "text": [
      "mean time difference: 108 days, 4:23:48.361964\n"
     ]
    }
   ],
   "source": [
    "difference = df['last_modified_on_utc'] - df['created_on_utc']\n",
    "print(f'mean time difference: {str(difference.mean().to_pytimedelta())}')"
   ]
  },
  {
   "cell_type": "markdown",
   "metadata": {},
   "source": [
    "## Number of items<a name=\"task-d-number-of-items\"></a> ([top](#task-d-top))\n",
    "---"
   ]
  },
  {
   "cell_type": "markdown",
   "metadata": {},
   "source": [
    "**Taks:** Analyze the total number of items created each month over the full timeline of the data. Choose an appropriate method to visualize your findings."
   ]
  },
  {
   "cell_type": "code",
   "execution_count": 8,
   "metadata": {},
   "outputs": [],
   "source": [
    "df_items = df[['created_on_utc']]\n",
    "df_items['count'] = 1\n",
    "df_items = df_items.set_index('created_on_utc')\n",
    "# Make sure that the entries are sorted:\n",
    "df_items.sort_index()  \n",
    "# Sum by month:\n",
    "df_result = df_items.resample('M').sum()\n",
    "df_result = df_result.rename(columns={'count': 'sum'})\n",
    "# Compute the cumulative sum:\n",
    "df_result['cum_sum'] = df_result['sum'].cumsum()\n",
    "# Reset the index:\n",
    "df_result = df_result.reset_index()"
   ]
  },
  {
   "cell_type": "code",
   "execution_count": 9,
   "metadata": {},
   "outputs": [
    {
     "data": {
      "image/png": "[encoded data removed]",
      "text/plain": [
       "<Figure size 850.394x566.929 with 1 Axes>"
      ]
     },
     "metadata": {
      "needs_background": "light"
     },
     "output_type": "display_data"
    }
   ],
   "source": [
    "# https://stackoverflow.com/a/22787457\n",
    "def cm2inch(*tupl):\n",
    "    inch = 2.54  # cm\n",
    "    if isinstance(tupl[0], tuple):\n",
    "        return tuple(i/inch for i in tupl[0])\n",
    "    else:\n",
    "        return tuple(i/inch for i in tupl)\n",
    "\n",
    "\n",
    "# Default figure size seems to be 6 x 4 inches (ca. 15.24 x 10.16 cm):\n",
    "fig, ax = plt.subplots(figsize=cm2inch(30, 20))\n",
    "df_result.plot(x=\"created_on_utc\", y=\"sum\", label='absolute', ax=ax)\n",
    "df_result.plot(x=\"created_on_utc\", y=\"cum_sum\", label='cumulative', color=\"orange\", style='--', ax=ax)\n",
    "ax.set_title('Total number of items created each month')\n",
    "ax.set_xlabel('timeline (UTC)')\n",
    "plt.show()"
   ]
  },
  {
   "cell_type": "markdown",
   "metadata": {},
   "source": [
    "We see that there was a huge increase in the first half of 2017, which is confirmed by looking at the data:"
   ]
  },
  {
   "cell_type": "code",
   "execution_count": 10,
   "metadata": {},
   "outputs": [
    {
     "data": {
      "text/html": [
       "<div>\n",
       "<style scoped>\n",
       "    .dataframe tbody tr th:only-of-type {\n",
       "        vertical-align: middle;\n",
       "    }\n",
       "\n",
       "    .dataframe tbody tr th {\n",
       "        vertical-align: top;\n",
       "    }\n",
       "\n",
       "    .dataframe thead th {\n",
       "        text-align: right;\n",
       "    }\n",
       "</style>\n",
       "<table border=\"1\" class=\"dataframe\">\n",
       "  <thead>\n",
       "    <tr style=\"text-align: right;\">\n",
       "      <th></th>\n",
       "      <th>created_on_utc</th>\n",
       "      <th>sum</th>\n",
       "      <th>cum_sum</th>\n",
       "    </tr>\n",
       "  </thead>\n",
       "  <tbody>\n",
       "    <tr>\n",
       "      <th>60</th>\n",
       "      <td>2017-01-31</td>\n",
       "      <td>4854</td>\n",
       "      <td>115789</td>\n",
       "    </tr>\n",
       "    <tr>\n",
       "      <th>61</th>\n",
       "      <td>2017-02-28</td>\n",
       "      <td>19928</td>\n",
       "      <td>135717</td>\n",
       "    </tr>\n",
       "    <tr>\n",
       "      <th>62</th>\n",
       "      <td>2017-03-31</td>\n",
       "      <td>178777</td>\n",
       "      <td>314494</td>\n",
       "    </tr>\n",
       "    <tr>\n",
       "      <th>63</th>\n",
       "      <td>2017-04-30</td>\n",
       "      <td>7797</td>\n",
       "      <td>322291</td>\n",
       "    </tr>\n",
       "    <tr>\n",
       "      <th>64</th>\n",
       "      <td>2017-05-31</td>\n",
       "      <td>7141</td>\n",
       "      <td>329432</td>\n",
       "    </tr>\n",
       "    <tr>\n",
       "      <th>65</th>\n",
       "      <td>2017-06-30</td>\n",
       "      <td>6675</td>\n",
       "      <td>336107</td>\n",
       "    </tr>\n",
       "  </tbody>\n",
       "</table>\n",
       "</div>"
      ],
      "text/plain": [
       "   created_on_utc     sum  cum_sum\n",
       "60     2017-01-31    4854   115789\n",
       "61     2017-02-28   19928   135717\n",
       "62     2017-03-31  178777   314494\n",
       "63     2017-04-30    7797   322291\n",
       "64     2017-05-31    7141   329432\n",
       "65     2017-06-30    6675   336107"
      ]
     },
     "execution_count": 10,
     "metadata": {},
     "output_type": "execute_result"
    }
   ],
   "source": [
    "df_result[(df_result['created_on_utc'] > pd.Timestamp('2017-01-01')) &\n",
    "          (df_result['created_on_utc'] < pd.Timestamp('2017-07-01'))]"
   ]
  },
  {
   "cell_type": "code",
   "execution_count": null,
   "metadata": {},
   "outputs": [],
   "source": []
  }
 ],
 "metadata": {
  "kernelspec": {
   "display_name": "Python 3",
   "language": "python",
   "name": "python3"
  },
  "language_info": {
   "codemirror_mode": {
    "name": "ipython",
    "version": 3
   },
   "file_extension": ".py",
   "mimetype": "text/x-python",
   "name": "python",
   "nbconvert_exporter": "python",
   "pygments_lexer": "ipython3",
   "version": "3.6.7"
  }
 },
 "nbformat": 4,
 "nbformat_minor": 2
}
