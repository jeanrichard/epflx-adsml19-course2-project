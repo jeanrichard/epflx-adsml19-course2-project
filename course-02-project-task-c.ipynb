{
 "cells": [
  {
   "cell_type": "markdown",
   "metadata": {},
   "source": [
    "# Course 2: Project - Task C - Text data"
   ]
  },
  {
   "cell_type": "markdown",
   "metadata": {},
   "source": [
    "<a name=\"top\"></a>\n",
    "This notebook is concerned with task C.\n",
    "\n",
    "**Contents:**\n",
    "* [Imports](#task-c-imports)\n",
    "* [Data loading](#task-c-data-loading)\n",
    "* [Exploration](#task-c-exploration)\n",
    "* [Implementation & execution](#task-c-implementation-and-execution)\n",
    "* [Result](#task-c-result)"
   ]
  },
  {
   "cell_type": "markdown",
   "metadata": {},
   "source": [
    "## Imports<a name=\"task-c-imports\"></a> ([top](#top))\n",
    "---"
   ]
  },
  {
   "cell_type": "code",
   "execution_count": 1,
   "metadata": {},
   "outputs": [],
   "source": [
    "# Standard library:\n",
    "import pathlib\n",
    "import typing as t\n",
    "\n",
    "# 3rd party:\n",
    "import numpy as np\n",
    "import pandas as pd\n",
    "import pandas.io.formats.style\n",
    "\n",
    "# Project:\n",
    "import ingredients\n",
    "import utils"
   ]
  },
  {
   "cell_type": "markdown",
   "metadata": {},
   "source": [
    "## Data loading<a name=\"task-c-data-loading\"></a> ([top](#top))\n",
    "---"
   ]
  },
  {
   "cell_type": "markdown",
   "metadata": {},
   "source": [
    "First, we load the subset of the cleaned-up dataset that we need:"
   ]
  },
  {
   "cell_type": "code",
   "execution_count": 2,
   "metadata": {},
   "outputs": [],
   "source": [
    "base_name = pathlib.Path.cwd().joinpath('en.openfoodfacts.org.products.clean')"
   ]
  },
  {
   "cell_type": "code",
   "execution_count": 3,
   "metadata": {},
   "outputs": [],
   "source": [
    "# The columns to load:\n",
    "usecols=['countries_tags', 'ingredients_text']\n",
    "\n",
    "# Load:\n",
    "data_types, parse_dates  = utils.load_and_amend_dtypes(base_name)\n",
    "# We can only parse dates in the columns that we are loading:\n",
    "parse_dates = list(set(parse_dates) & set(usecols))\n",
    "df = pd.read_csv(\n",
    "        f'{base_name}.csv',\n",
    "        header=0,\n",
    "        parse_dates=parse_dates,\n",
    "        usecols=usecols,\n",
    "        dtype=data_types)"
   ]
  },
  {
   "cell_type": "code",
   "execution_count": 4,
   "metadata": {},
   "outputs": [
    {
     "name": "stdout",
     "output_type": "stream",
     "text": [
      "the dataset contains 355569 rows and 2 columns\n"
     ]
    }
   ],
   "source": [
    "nrows, ncols = df.shape\n",
    "print(f'the dataset contains {nrows} rows and {ncols} columns')"
   ]
  },
  {
   "cell_type": "markdown",
   "metadata": {},
   "source": [
    "Here are the first few rows:"
   ]
  },
  {
   "cell_type": "code",
   "execution_count": 5,
   "metadata": {},
   "outputs": [
    {
     "data": {
      "text/html": [
       "<div>\n",
       "<style scoped>\n",
       "    .dataframe tbody tr th:only-of-type {\n",
       "        vertical-align: middle;\n",
       "    }\n",
       "\n",
       "    .dataframe tbody tr th {\n",
       "        vertical-align: top;\n",
       "    }\n",
       "\n",
       "    .dataframe thead th {\n",
       "        text-align: right;\n",
       "    }\n",
       "</style>\n",
       "<table border=\"1\" class=\"dataframe\">\n",
       "  <thead>\n",
       "    <tr style=\"text-align: right;\">\n",
       "      <th></th>\n",
       "      <th>countries_tags</th>\n",
       "      <th>ingredients_text</th>\n",
       "    </tr>\n",
       "  </thead>\n",
       "  <tbody>\n",
       "    <tr>\n",
       "      <th>0</th>\n",
       "      <td>en:france</td>\n",
       "      <td>NaN</td>\n",
       "    </tr>\n",
       "    <tr>\n",
       "      <th>1</th>\n",
       "      <td>en:united-states</td>\n",
       "      <td>Bananas, vegetable oil (coconut oil, corn oil ...</td>\n",
       "    </tr>\n",
       "    <tr>\n",
       "      <th>2</th>\n",
       "      <td>en:united-states</td>\n",
       "      <td>Peanuts, wheat flour, sugar, rice flour, tapio...</td>\n",
       "    </tr>\n",
       "    <tr>\n",
       "      <th>3</th>\n",
       "      <td>en:united-states</td>\n",
       "      <td>Organic hazelnuts, organic cashews, organic wa...</td>\n",
       "    </tr>\n",
       "    <tr>\n",
       "      <th>4</th>\n",
       "      <td>en:united-states</td>\n",
       "      <td>Organic polenta</td>\n",
       "    </tr>\n",
       "  </tbody>\n",
       "</table>\n",
       "</div>"
      ],
      "text/plain": [
       "     countries_tags                                   ingredients_text\n",
       "0         en:france                                                NaN\n",
       "1  en:united-states  Bananas, vegetable oil (coconut oil, corn oil ...\n",
       "2  en:united-states  Peanuts, wheat flour, sugar, rice flour, tapio...\n",
       "3  en:united-states  Organic hazelnuts, organic cashews, organic wa...\n",
       "4  en:united-states                                    Organic polenta"
      ]
     },
     "execution_count": 5,
     "metadata": {},
     "output_type": "execute_result"
    }
   ],
   "source": [
    "df.head()"
   ]
  },
  {
   "cell_type": "markdown",
   "metadata": {},
   "source": [
    "## Exploration<a name=\"task-c-exploration\"></a> ([top](#top))\n",
    "---"
   ]
  },
  {
   "cell_type": "markdown",
   "metadata": {},
   "source": [
    "**Observations:** After manually inspecting multiple records (spot-checking), we noticed that:\n",
    "\n",
    "* **Content:** The majority of entries are valid entries that contain a list of ingredients. Some invalid entries are clearly malicious in nature (e.g. for `code`: *355951*, we have `product_name`: _Ma b***_ (_My d***_)). Other invalid entries might be the resulf of a genuine mix-up (e.g. for `code`: *355945*, we have `product_name:` *La pratique du vocabulaire allemand* (*German vocabulary*)).\n",
    "\n",
    "* **Language:** In the majority of cases, the list of ingredients uses a single language. In some cases it uses two or more languages (e.g. for `code`: *930*, it uses English, French and Dutch). In the majority of cases the `country_tags` column seems to be a good proxy for the language used.\n",
    "\n",
    "* **Format:** The \"ideal\" underlying format seem to be a comma-delimited list of ingredients, where each ingredient may be either \"simple\" or \"composite\". A \"composite\" ingredient is followed by the list of its own ingredients (recursion). The list in question is enclosed in matching parentheses. Very few entries conform to this \"ideal\" format, though. **Parentheses:** In some cases they are used to precise the percentage of an ingredient (e.g. for `code`: *155*, we have *\"[...] milk chocolate (32%) (sugar, cocoa butter [...]\"*) or to provide clarification (e.g. for `code`: *24* we have *\"[...] soy lecithin (an emulsifier) [...]\"*). Different types of parentheses are used, such as round brackets and square brackets. **Delimiters:** Different types of delimiters are used, such as comma, colon and bullets to name a few."
   ]
  },
  {
   "cell_type": "markdown",
   "metadata": {},
   "source": [
    "**Assumptions:** In order to keep complexity under control, we make the following assumptions:\n",
    "* Entries are valid and contain a list of ingredients.\n",
    "* Entries use a single language. The `country_tags` column is a good proxy for the language used.\n",
    "* The format is a delimited list of ingredients (that uses some type of delimiter), where each ingredient may be either \"simple\" or \"composite\". A \"composite\" ingredient is followed by the list of its own ingredients (recursion). The list in questions starts with some type of opening parenthesis and contains at least one ingredient.\n",
    "\n",
    "We expect entries that do not conform to the above to be \"infrequent enough\" so as to not impact the final result."
   ]
  },
  {
   "cell_type": "markdown",
   "metadata": {},
   "source": [
    "**Scope:** Also in order to keep complexity under control, we take the following decisions:\n",
    "* We will limit oursevles to 2 markets - the USA and France. Each one is a rather large country, with a single official language (that we understand). (For the USA, although there is no official language, English is considered to be the de-facto official language. For France, French is the official language.)"
   ]
  },
  {
   "cell_type": "markdown",
   "metadata": {},
   "source": [
    "## Implementation & execution<a name=\"task-c-implementation-and-execution\"></a> ([top](#top))\n",
    "---"
   ]
  },
  {
   "cell_type": "markdown",
   "metadata": {},
   "source": [
    "### Implementation"
   ]
  },
  {
   "cell_type": "markdown",
   "metadata": {},
   "source": [
    "**Note:** In order not to clutter the notebook, most of the code is in a separate module - see `ingredients.py`."
   ]
  },
  {
   "cell_type": "markdown",
   "metadata": {},
   "source": [
    "**Tokenization:** The first step is to split a given list of ingredients into tokens. For that we decided to hand-roll our own tokenizer. Another way would have been to use NLTK (e.g. the [nltk.chunk](https://www.nltk.org/api/nltk.chunk.html) package) or another 3rd party library. The code is quite short (< 150 lines). We use 2 phases:\n",
    "\n",
    "* **Phase 1:** Language agnostic. We use regular expressions to split the text into tokens:\n",
    "  * `SPACE`: A sequence of 1+ white spaces\n",
    "  * `DELIM`: A delimiter\n",
    "  * `LPAR`: A left parenthesis\n",
    "  * `RPAR`: A right parenthesis\n",
    "  * `FIELD`: This is everything in-between tokens of the above types. If a *'.'* or a *','* is surrounded by digits, we consider it as part of a decimal number and do not treat it as a delimiter\n",
    "  * `END`: This is an additional type, used to communicate that we reached the end-of-input\n",
    "  * `INVALID`: This is an additional type, used to communicate that we encountered an error (and the sequence of characters that we had to skip until we could re-synchronize with the input)\n",
    "* **Phase 2:** Language-specific. Tokens of type `FIELD` are further split on language-specific delimiters (e.g. _and_, _or_, for English; _et_, _ou_ for French)."
   ]
  },
  {
   "cell_type": "markdown",
   "metadata": {},
   "source": [
    "Here are the language-specific delimiters:"
   ]
  },
  {
   "cell_type": "code",
   "execution_count": 6,
   "metadata": {},
   "outputs": [],
   "source": [
    "# Order matters due to substrings:\n",
    "delims_en = ['and/or', 'or/and', 'and', 'or']  \n",
    "delims_fr = ['et/ou', 'ou/et', 'et',  'ou']"
   ]
  },
  {
   "cell_type": "markdown",
   "metadata": {},
   "source": [
    "Here is a small example (for each token, we print its type and highlight its position in the text with `[` and `]`):"
   ]
  },
  {
   "cell_type": "code",
   "execution_count": 7,
   "metadata": {},
   "outputs": [
    {
     "name": "stdout",
     "output_type": "stream",
     "text": [
      "FIELD | [Organic dry roasted pumpkin seeds], tamari (soybeans, water and salt), garlic and cayenne.\n",
      "DELIM | Organic dry roasted pumpkin seeds[,] tamari (soybeans, water and salt), garlic and cayenne.\n",
      "FIELD | Organic dry roasted pumpkin seeds, [tamari] (soybeans, water and salt), garlic and cayenne.\n",
      "LPAR  | Organic dry roasted pumpkin seeds, tamari [(]soybeans, water and salt), garlic and cayenne.\n",
      "FIELD | Organic dry roasted pumpkin seeds, tamari ([soybeans], water and salt), garlic and cayenne.\n",
      "DELIM | Organic dry roasted pumpkin seeds, tamari (soybeans[,] water and salt), garlic and cayenne.\n",
      "FIELD | Organic dry roasted pumpkin seeds, tamari (soybeans, [water] and salt), garlic and cayenne.\n",
      "DELIM | Organic dry roasted pumpkin seeds, tamari (soybeans, water [and] salt), garlic and cayenne.\n",
      "FIELD | Organic dry roasted pumpkin seeds, tamari (soybeans, water and [salt]), garlic and cayenne.\n",
      "RPAR  | Organic dry roasted pumpkin seeds, tamari (soybeans, water and salt[)], garlic and cayenne.\n",
      "DELIM | Organic dry roasted pumpkin seeds, tamari (soybeans, water and salt)[,] garlic and cayenne.\n",
      "FIELD | Organic dry roasted pumpkin seeds, tamari (soybeans, water and salt), [garlic] and cayenne.\n",
      "DELIM | Organic dry roasted pumpkin seeds, tamari (soybeans, water and salt), garlic [and] cayenne.\n",
      "FIELD | Organic dry roasted pumpkin seeds, tamari (soybeans, water and salt), garlic and [cayenne].\n",
      "DELIM | Organic dry roasted pumpkin seeds, tamari (soybeans, water and salt), garlic and cayenne[.]\n",
      "END   | Organic dry roasted pumpkin seeds, tamari (soybeans, water and salt), garlic and cayenne.[]\n"
     ]
    }
   ],
   "source": [
    "text = 'Organic dry roasted pumpkin seeds, tamari (soybeans, water and salt), garlic and cayenne.'\n",
    "\n",
    "for token in ingredients.tokenize(text, delims_en):\n",
    "    print(f\"{token.type.name:5} | {ingredients.highglight_token(text, token, '[', ']')}\")"
   ]
  },
  {
   "cell_type": "markdown",
   "metadata": {},
   "source": [
    "**Normalization:** We perform the following steps to normalize the tokens:\n",
    "- Convert to lower-case\n",
    "- Remove numbers\n",
    "- Replace punctuation marks by a single space\n",
    "- Remove accents\n",
    "- Replace a sequence of 1+ white spaces by a single space\n",
    "- Strip leading/trailing white spaces"
   ]
  },
  {
   "cell_type": "markdown",
   "metadata": {},
   "source": [
    "**Finding ingredients:** Finally, we keep only tokens of type `FIELD`. We also need a criterion to decide whether an ingredient is simple or composite. For that, we look 3 tokens ahead. To be classified as \"composite\", an ingredient must be the 1st field in a sequence `FIELD`, `LPAR`, `FIELD`."
   ]
  },
  {
   "cell_type": "markdown",
   "metadata": {},
   "source": [
    "Here is a small example:"
   ]
  },
  {
   "cell_type": "code",
   "execution_count": 8,
   "metadata": {},
   "outputs": [
    {
     "data": {
      "text/html": [
       "<div>\n",
       "<style scoped>\n",
       "    .dataframe tbody tr th:only-of-type {\n",
       "        vertical-align: middle;\n",
       "    }\n",
       "\n",
       "    .dataframe tbody tr th {\n",
       "        vertical-align: top;\n",
       "    }\n",
       "\n",
       "    .dataframe thead th {\n",
       "        text-align: right;\n",
       "    }\n",
       "</style>\n",
       "<table border=\"1\" class=\"dataframe\">\n",
       "  <thead>\n",
       "    <tr style=\"text-align: right;\">\n",
       "      <th></th>\n",
       "      <th>ingredient</th>\n",
       "      <th>is_composite</th>\n",
       "    </tr>\n",
       "  </thead>\n",
       "  <tbody>\n",
       "    <tr>\n",
       "      <th>0</th>\n",
       "      <td>the noir de chine</td>\n",
       "      <td>0</td>\n",
       "    </tr>\n",
       "    <tr>\n",
       "      <th>1</th>\n",
       "      <td>zestes d oranges</td>\n",
       "      <td>0</td>\n",
       "    </tr>\n",
       "    <tr>\n",
       "      <th>2</th>\n",
       "      <td>aromes naturels</td>\n",
       "      <td>1</td>\n",
       "    </tr>\n",
       "    <tr>\n",
       "      <th>3</th>\n",
       "      <td>cannelle</td>\n",
       "      <td>0</td>\n",
       "    </tr>\n",
       "    <tr>\n",
       "      <th>4</th>\n",
       "      <td>orange</td>\n",
       "      <td>0</td>\n",
       "    </tr>\n",
       "    <tr>\n",
       "      <th>5</th>\n",
       "      <td>poudre de cannelle</td>\n",
       "      <td>0</td>\n",
       "    </tr>\n",
       "  </tbody>\n",
       "</table>\n",
       "</div>"
      ],
      "text/plain": [
       "           ingredient  is_composite\n",
       "0   the noir de chine             0\n",
       "1    zestes d oranges             0\n",
       "2     aromes naturels             1\n",
       "3            cannelle             0\n",
       "4              orange             0\n",
       "5  poudre de cannelle             0"
      ]
     },
     "execution_count": 8,
     "metadata": {},
     "output_type": "execute_result"
    }
   ],
   "source": [
    "text = \"Thé noir de Chine, zestes d'oranges 7,5 %, arômes naturels (cannelle 4,7 %, orange 4,7 %, poudre de cannelle 3,9 %).\"\n",
    "\n",
    "ingredients.texts_to_ingredients_df([text], delims_fr)"
   ]
  },
  {
   "cell_type": "markdown",
   "metadata": {},
   "source": [
    "### Execution"
   ]
  },
  {
   "cell_type": "markdown",
   "metadata": {},
   "source": [
    "We create a separate data-frame for each country and discard rows with NA values:"
   ]
  },
  {
   "cell_type": "code",
   "execution_count": 9,
   "metadata": {},
   "outputs": [],
   "source": [
    "def filter_country(country: str) -> pd.DataFrame:\n",
    "    is_country = df['countries_tags'].str.contains(country, na=False, regex=False)\n",
    "    df_country = df[is_country & df['ingredients_text'].notna()]\n",
    "    return df_country[['ingredients_text']]"
   ]
  },
  {
   "cell_type": "code",
   "execution_count": 10,
   "metadata": {},
   "outputs": [
    {
     "name": "stdout",
     "output_type": "stream",
     "text": [
      "the dataset 'us' contains 171605 row(s) and 1 column(s)\n",
      "the dataset 'fr' contains 86654 row(s) and 1 column(s)\n"
     ]
    }
   ],
   "source": [
    "df_us = filter_country('united-states')\n",
    "nrows, ncols = df_us.shape\n",
    "print(f\"the dataset 'us' contains {nrows} row(s) and {ncols} column(s)\")\n",
    "\n",
    "df_fr = filter_country('france')\n",
    "nrows, ncols = df_fr.shape\n",
    "print(f\"the dataset 'fr' contains {nrows} row(s) and {ncols} column(s)\")"
   ]
  },
  {
   "cell_type": "markdown",
   "metadata": {},
   "source": [
    "We take a peek at the result so far:"
   ]
  },
  {
   "cell_type": "code",
   "execution_count": 11,
   "metadata": {},
   "outputs": [
    {
     "data": {
      "text/html": [
       "<div>\n",
       "<style scoped>\n",
       "    .dataframe tbody tr th:only-of-type {\n",
       "        vertical-align: middle;\n",
       "    }\n",
       "\n",
       "    .dataframe tbody tr th {\n",
       "        vertical-align: top;\n",
       "    }\n",
       "\n",
       "    .dataframe thead th {\n",
       "        text-align: right;\n",
       "    }\n",
       "</style>\n",
       "<table border=\"1\" class=\"dataframe\">\n",
       "  <thead>\n",
       "    <tr style=\"text-align: right;\">\n",
       "      <th></th>\n",
       "      <th>ingredients_text</th>\n",
       "    </tr>\n",
       "  </thead>\n",
       "  <tbody>\n",
       "    <tr>\n",
       "      <th>184</th>\n",
       "      <td>lentilles vertes</td>\n",
       "    </tr>\n",
       "    <tr>\n",
       "      <th>185</th>\n",
       "      <td>Eau gazéifiée, sirop de maïs à haute teneur en...</td>\n",
       "    </tr>\n",
       "    <tr>\n",
       "      <th>186</th>\n",
       "      <td>Sucre, farine de _Blé_, graisse et huiles végé...</td>\n",
       "    </tr>\n",
       "    <tr>\n",
       "      <th>189</th>\n",
       "      <td>Thé noir aromatisé à la fleur de violette et p...</td>\n",
       "    </tr>\n",
       "    <tr>\n",
       "      <th>190</th>\n",
       "      <td>Thé noir de Chine, zestes d'oranges 7,5 %, arô...</td>\n",
       "    </tr>\n",
       "  </tbody>\n",
       "</table>\n",
       "</div>"
      ],
      "text/plain": [
       "                                      ingredients_text\n",
       "184                                   lentilles vertes\n",
       "185  Eau gazéifiée, sirop de maïs à haute teneur en...\n",
       "186  Sucre, farine de _Blé_, graisse et huiles végé...\n",
       "189  Thé noir aromatisé à la fleur de violette et p...\n",
       "190  Thé noir de Chine, zestes d'oranges 7,5 %, arô..."
      ]
     },
     "metadata": {},
     "output_type": "display_data"
    },
    {
     "data": {
      "text/html": [
       "<div>\n",
       "<style scoped>\n",
       "    .dataframe tbody tr th:only-of-type {\n",
       "        vertical-align: middle;\n",
       "    }\n",
       "\n",
       "    .dataframe tbody tr th {\n",
       "        vertical-align: top;\n",
       "    }\n",
       "\n",
       "    .dataframe thead th {\n",
       "        text-align: right;\n",
       "    }\n",
       "</style>\n",
       "<table border=\"1\" class=\"dataframe\">\n",
       "  <thead>\n",
       "    <tr style=\"text-align: right;\">\n",
       "      <th></th>\n",
       "      <th>ingredients_text</th>\n",
       "    </tr>\n",
       "  </thead>\n",
       "  <tbody>\n",
       "    <tr>\n",
       "      <th>1</th>\n",
       "      <td>Bananas, vegetable oil (coconut oil, corn oil ...</td>\n",
       "    </tr>\n",
       "    <tr>\n",
       "      <th>2</th>\n",
       "      <td>Peanuts, wheat flour, sugar, rice flour, tapio...</td>\n",
       "    </tr>\n",
       "    <tr>\n",
       "      <th>3</th>\n",
       "      <td>Organic hazelnuts, organic cashews, organic wa...</td>\n",
       "    </tr>\n",
       "    <tr>\n",
       "      <th>4</th>\n",
       "      <td>Organic polenta</td>\n",
       "    </tr>\n",
       "    <tr>\n",
       "      <th>5</th>\n",
       "      <td>Rolled oats, grape concentrate, expeller press...</td>\n",
       "    </tr>\n",
       "  </tbody>\n",
       "</table>\n",
       "</div>"
      ],
      "text/plain": [
       "                                    ingredients_text\n",
       "1  Bananas, vegetable oil (coconut oil, corn oil ...\n",
       "2  Peanuts, wheat flour, sugar, rice flour, tapio...\n",
       "3  Organic hazelnuts, organic cashews, organic wa...\n",
       "4                                    Organic polenta\n",
       "5  Rolled oats, grape concentrate, expeller press..."
      ]
     },
     "metadata": {},
     "output_type": "display_data"
    }
   ],
   "source": [
    "display(\n",
    "    df_fr.head(),\n",
    "    df_us.head()\n",
    ")"
   ]
  },
  {
   "cell_type": "markdown",
   "metadata": {},
   "source": [
    "We convert each dataset into a data-frame with columns _(ingredient, is-composite)_:"
   ]
  },
  {
   "cell_type": "code",
   "execution_count": 12,
   "metadata": {},
   "outputs": [],
   "source": [
    "df_us_ingredients = ingredients.texts_to_ingredients_df(df_us['ingredients_text'], delims_en)\n",
    "df_fr_ingredients = ingredients.texts_to_ingredients_df(df_fr['ingredients_text'], delims_fr)"
   ]
  },
  {
   "cell_type": "markdown",
   "metadata": {},
   "source": [
    "**Note:** Some ingredients appear multiple times, sometimes marked as \"simple\" and sometime marked as \"composite\". Some form of \"reconciliation\" is thus required. In order for an ingredient to be considered as \"composite\", we require that the fraction of instances marked as \"composite\" be greater than 0.5."
   ]
  },
  {
   "cell_type": "code",
   "execution_count": 13,
   "metadata": {},
   "outputs": [],
   "source": [
    "df_us_final = ingredients.reconcile_composite(df_us_ingredients, 0.5)\n",
    "df_fr_final = ingredients.reconcile_composite(df_fr_ingredients, 0.5)"
   ]
  },
  {
   "cell_type": "markdown",
   "metadata": {},
   "source": [
    "## Result<a name=\"task-c-result\"></a> ([top](#top))\n",
    "---"
   ]
  },
  {
   "cell_type": "markdown",
   "metadata": {},
   "source": [
    "We implement utility functions to find the 5 most common \"simple\" ingredients, the 5 most common ingredient overall and finally the 5 most common \"composite\" ingredients. We also compute their prevalence, i.e. the percentage of products that contain that ingredient:"
   ]
  },
  {
   "cell_type": "code",
   "execution_count": 14,
   "metadata": {},
   "outputs": [],
   "source": [
    "def compute_prevalence(df: pd.DataFrame, nproducts: int) -> pd.DataFrame:\n",
    "    df['prevalence'] = df['count'] / nproducts\n",
    "    return df\n",
    "\n",
    "\n",
    "# Custom format for the 'prevalence' column:\n",
    "def styled(df: pd.DataFrame) -> pd.io.formats.style.Styler:\n",
    "    df = df.style.format({\n",
    "        'prevalence': lambda n: f'{n*100:.2f} %'\n",
    "    })\n",
    "    return df\n",
    "\n",
    "\n",
    "def top_n_simple(df: pd.DataFrame, nproducts: int) -> pd.DataFrame:\n",
    "    df_result = df[~df['is_composite']].nlargest(5, columns=['count'])[['count']]\n",
    "    return styled(compute_prevalence(df_result, nproducts))\n",
    "\n",
    "\n",
    "def top_n_overall(df: pd.DataFrame ,nproducts: int) -> pd.DataFrame:\n",
    "    df_result = df.nlargest(5, columns=['count'])[['count']]\n",
    "    return styled(compute_prevalence(df_result, nproducts))\n",
    "\n",
    "\n",
    "def top_n_composite(df, nproducts):\n",
    "    df_result = (df[df['is_composite']].nlargest(5, columns=['count']))[['count']]\n",
    "    return styled(compute_prevalence(df_result, nproducts))"
   ]
  },
  {
   "cell_type": "markdown",
   "metadata": {},
   "source": [
    "The 5 most common \"simple\" ingredients for the USA and France are:"
   ]
  },
  {
   "cell_type": "code",
   "execution_count": 15,
   "metadata": {},
   "outputs": [
    {
     "name": "stdout",
     "output_type": "stream",
     "text": [
      "USA:\n"
     ]
    },
    {
     "data": {
      "text/html": [
       "<style  type=\"text/css\" >\n",
       "</style><table id=\"T_c4104b28_914d_11e9_8eb0_c869cdc070be\" ><thead>    <tr>        <th class=\"blank level0\" ></th>        <th class=\"col_heading level0 col0\" >count</th>        <th class=\"col_heading level0 col1\" >prevalence</th>    </tr>    <tr>        <th class=\"index_name level0\" >ingredient</th>        <th class=\"blank\" ></th>        <th class=\"blank\" ></th>    </tr></thead><tbody>\n",
       "                <tr>\n",
       "                        <th id=\"T_c4104b28_914d_11e9_8eb0_c869cdc070belevel0_row0\" class=\"row_heading level0 row0\" >salt</th>\n",
       "                        <td id=\"T_c4104b28_914d_11e9_8eb0_c869cdc070berow0_col0\" class=\"data row0 col0\" >104086</td>\n",
       "                        <td id=\"T_c4104b28_914d_11e9_8eb0_c869cdc070berow0_col1\" class=\"data row0 col1\" >60.65 %</td>\n",
       "            </tr>\n",
       "            <tr>\n",
       "                        <th id=\"T_c4104b28_914d_11e9_8eb0_c869cdc070belevel0_row1\" class=\"row_heading level0 row1\" >sugar</th>\n",
       "                        <td id=\"T_c4104b28_914d_11e9_8eb0_c869cdc070berow1_col0\" class=\"data row1 col0\" >77270</td>\n",
       "                        <td id=\"T_c4104b28_914d_11e9_8eb0_c869cdc070berow1_col1\" class=\"data row1 col1\" >45.03 %</td>\n",
       "            </tr>\n",
       "            <tr>\n",
       "                        <th id=\"T_c4104b28_914d_11e9_8eb0_c869cdc070belevel0_row2\" class=\"row_heading level0 row2\" >water</th>\n",
       "                        <td id=\"T_c4104b28_914d_11e9_8eb0_c869cdc070berow2_col0\" class=\"data row2 col0\" >71749</td>\n",
       "                        <td id=\"T_c4104b28_914d_11e9_8eb0_c869cdc070berow2_col1\" class=\"data row2 col1\" >41.81 %</td>\n",
       "            </tr>\n",
       "            <tr>\n",
       "                        <th id=\"T_c4104b28_914d_11e9_8eb0_c869cdc070belevel0_row3\" class=\"row_heading level0 row3\" >citric acid</th>\n",
       "                        <td id=\"T_c4104b28_914d_11e9_8eb0_c869cdc070berow3_col0\" class=\"data row3 col0\" >34792</td>\n",
       "                        <td id=\"T_c4104b28_914d_11e9_8eb0_c869cdc070berow3_col1\" class=\"data row3 col1\" >20.27 %</td>\n",
       "            </tr>\n",
       "            <tr>\n",
       "                        <th id=\"T_c4104b28_914d_11e9_8eb0_c869cdc070belevel0_row4\" class=\"row_heading level0 row4\" >riboflavin</th>\n",
       "                        <td id=\"T_c4104b28_914d_11e9_8eb0_c869cdc070berow4_col0\" class=\"data row4 col0\" >22443</td>\n",
       "                        <td id=\"T_c4104b28_914d_11e9_8eb0_c869cdc070berow4_col1\" class=\"data row4 col1\" >13.08 %</td>\n",
       "            </tr>\n",
       "    </tbody></table>"
      ],
      "text/plain": [
       "<pandas.io.formats.style.Styler at 0x12d824940>"
      ]
     },
     "metadata": {},
     "output_type": "display_data"
    },
    {
     "name": "stdout",
     "output_type": "stream",
     "text": [
      "France:\n"
     ]
    },
    {
     "data": {
      "text/html": [
       "<style  type=\"text/css\" >\n",
       "</style><table id=\"T_c429f7be_914d_11e9_b8c5_c869cdc070be\" ><thead>    <tr>        <th class=\"blank level0\" ></th>        <th class=\"col_heading level0 col0\" >count</th>        <th class=\"col_heading level0 col1\" >prevalence</th>    </tr>    <tr>        <th class=\"index_name level0\" >ingredient</th>        <th class=\"blank\" ></th>        <th class=\"blank\" ></th>    </tr></thead><tbody>\n",
       "                <tr>\n",
       "                        <th id=\"T_c429f7be_914d_11e9_b8c5_c869cdc070belevel0_row0\" class=\"row_heading level0 row0\" >sel</th>\n",
       "                        <td id=\"T_c429f7be_914d_11e9_b8c5_c869cdc070berow0_col0\" class=\"data row0 col0\" >51785</td>\n",
       "                        <td id=\"T_c429f7be_914d_11e9_b8c5_c869cdc070berow0_col1\" class=\"data row0 col1\" >59.76 %</td>\n",
       "            </tr>\n",
       "            <tr>\n",
       "                        <th id=\"T_c429f7be_914d_11e9_b8c5_c869cdc070belevel0_row1\" class=\"row_heading level0 row1\" >sucre</th>\n",
       "                        <td id=\"T_c429f7be_914d_11e9_b8c5_c869cdc070berow1_col0\" class=\"data row1 col0\" >37253</td>\n",
       "                        <td id=\"T_c429f7be_914d_11e9_b8c5_c869cdc070berow1_col1\" class=\"data row1 col1\" >42.99 %</td>\n",
       "            </tr>\n",
       "            <tr>\n",
       "                        <th id=\"T_c429f7be_914d_11e9_b8c5_c869cdc070belevel0_row2\" class=\"row_heading level0 row2\" >eau</th>\n",
       "                        <td id=\"T_c429f7be_914d_11e9_b8c5_c869cdc070berow2_col0\" class=\"data row2 col0\" >35592</td>\n",
       "                        <td id=\"T_c429f7be_914d_11e9_b8c5_c869cdc070berow2_col1\" class=\"data row2 col1\" >41.07 %</td>\n",
       "            </tr>\n",
       "            <tr>\n",
       "                        <th id=\"T_c429f7be_914d_11e9_b8c5_c869cdc070belevel0_row3\" class=\"row_heading level0 row3\" >farine de ble</th>\n",
       "                        <td id=\"T_c429f7be_914d_11e9_b8c5_c869cdc070berow3_col0\" class=\"data row3 col0\" >13048</td>\n",
       "                        <td id=\"T_c429f7be_914d_11e9_b8c5_c869cdc070berow3_col1\" class=\"data row3 col1\" >15.06 %</td>\n",
       "            </tr>\n",
       "            <tr>\n",
       "                        <th id=\"T_c429f7be_914d_11e9_b8c5_c869cdc070belevel0_row4\" class=\"row_heading level0 row4\" >huile de tournesol</th>\n",
       "                        <td id=\"T_c429f7be_914d_11e9_b8c5_c869cdc070berow4_col0\" class=\"data row4 col0\" >9060</td>\n",
       "                        <td id=\"T_c429f7be_914d_11e9_b8c5_c869cdc070berow4_col1\" class=\"data row4 col1\" >10.46 %</td>\n",
       "            </tr>\n",
       "    </tbody></table>"
      ],
      "text/plain": [
       "<pandas.io.formats.style.Styler at 0x12d53ceb8>"
      ]
     },
     "metadata": {},
     "output_type": "display_data"
    }
   ],
   "source": [
    "print(\"USA:\")\n",
    "display(top_n_simple(df_us_final, len(df_us)))\n",
    "print(\"France:\")\n",
    "display(top_n_simple(df_fr_final, len(df_fr)))"
   ]
  },
  {
   "cell_type": "markdown",
   "metadata": {},
   "source": [
    "**Comment:** Salt, sugar and water top the ranking for both the USA and France and are present in a large percentage of all products."
   ]
  },
  {
   "cell_type": "markdown",
   "metadata": {},
   "source": [
    "The 5 most common ingredients overall for the USA and France are:"
   ]
  },
  {
   "cell_type": "code",
   "execution_count": 16,
   "metadata": {},
   "outputs": [
    {
     "name": "stdout",
     "output_type": "stream",
     "text": [
      "USA:\n"
     ]
    },
    {
     "data": {
      "text/html": [
       "<style  type=\"text/css\" >\n",
       "</style><table id=\"T_c431d114_914d_11e9_ae5d_c869cdc070be\" ><thead>    <tr>        <th class=\"blank level0\" ></th>        <th class=\"col_heading level0 col0\" >count</th>        <th class=\"col_heading level0 col1\" >prevalence</th>    </tr>    <tr>        <th class=\"index_name level0\" >ingredient</th>        <th class=\"blank\" ></th>        <th class=\"blank\" ></th>    </tr></thead><tbody>\n",
       "                <tr>\n",
       "                        <th id=\"T_c431d114_914d_11e9_ae5d_c869cdc070belevel0_row0\" class=\"row_heading level0 row0\" >salt</th>\n",
       "                        <td id=\"T_c431d114_914d_11e9_ae5d_c869cdc070berow0_col0\" class=\"data row0 col0\" >104086</td>\n",
       "                        <td id=\"T_c431d114_914d_11e9_ae5d_c869cdc070berow0_col1\" class=\"data row0 col1\" >60.65 %</td>\n",
       "            </tr>\n",
       "            <tr>\n",
       "                        <th id=\"T_c431d114_914d_11e9_ae5d_c869cdc070belevel0_row1\" class=\"row_heading level0 row1\" >sugar</th>\n",
       "                        <td id=\"T_c431d114_914d_11e9_ae5d_c869cdc070berow1_col0\" class=\"data row1 col0\" >77270</td>\n",
       "                        <td id=\"T_c431d114_914d_11e9_ae5d_c869cdc070berow1_col1\" class=\"data row1 col1\" >45.03 %</td>\n",
       "            </tr>\n",
       "            <tr>\n",
       "                        <th id=\"T_c431d114_914d_11e9_ae5d_c869cdc070belevel0_row2\" class=\"row_heading level0 row2\" >water</th>\n",
       "                        <td id=\"T_c431d114_914d_11e9_ae5d_c869cdc070berow2_col0\" class=\"data row2 col0\" >71749</td>\n",
       "                        <td id=\"T_c431d114_914d_11e9_ae5d_c869cdc070berow2_col1\" class=\"data row2 col1\" >41.81 %</td>\n",
       "            </tr>\n",
       "            <tr>\n",
       "                        <th id=\"T_c431d114_914d_11e9_ae5d_c869cdc070belevel0_row3\" class=\"row_heading level0 row3\" >citric acid</th>\n",
       "                        <td id=\"T_c431d114_914d_11e9_ae5d_c869cdc070berow3_col0\" class=\"data row3 col0\" >34792</td>\n",
       "                        <td id=\"T_c431d114_914d_11e9_ae5d_c869cdc070berow3_col1\" class=\"data row3 col1\" >20.27 %</td>\n",
       "            </tr>\n",
       "            <tr>\n",
       "                        <th id=\"T_c431d114_914d_11e9_ae5d_c869cdc070belevel0_row4\" class=\"row_heading level0 row4\" >riboflavin</th>\n",
       "                        <td id=\"T_c431d114_914d_11e9_ae5d_c869cdc070berow4_col0\" class=\"data row4 col0\" >22443</td>\n",
       "                        <td id=\"T_c431d114_914d_11e9_ae5d_c869cdc070berow4_col1\" class=\"data row4 col1\" >13.08 %</td>\n",
       "            </tr>\n",
       "    </tbody></table>"
      ],
      "text/plain": [
       "<pandas.io.formats.style.Styler at 0x10c8084a8>"
      ]
     },
     "metadata": {},
     "output_type": "display_data"
    },
    {
     "name": "stdout",
     "output_type": "stream",
     "text": [
      "France:\n"
     ]
    },
    {
     "data": {
      "text/html": [
       "<style  type=\"text/css\" >\n",
       "</style><table id=\"T_c4392586_914d_11e9_86ae_c869cdc070be\" ><thead>    <tr>        <th class=\"blank level0\" ></th>        <th class=\"col_heading level0 col0\" >count</th>        <th class=\"col_heading level0 col1\" >prevalence</th>    </tr>    <tr>        <th class=\"index_name level0\" >ingredient</th>        <th class=\"blank\" ></th>        <th class=\"blank\" ></th>    </tr></thead><tbody>\n",
       "                <tr>\n",
       "                        <th id=\"T_c4392586_914d_11e9_86ae_c869cdc070belevel0_row0\" class=\"row_heading level0 row0\" >sel</th>\n",
       "                        <td id=\"T_c4392586_914d_11e9_86ae_c869cdc070berow0_col0\" class=\"data row0 col0\" >51785</td>\n",
       "                        <td id=\"T_c4392586_914d_11e9_86ae_c869cdc070berow0_col1\" class=\"data row0 col1\" >59.76 %</td>\n",
       "            </tr>\n",
       "            <tr>\n",
       "                        <th id=\"T_c4392586_914d_11e9_86ae_c869cdc070belevel0_row1\" class=\"row_heading level0 row1\" >sucre</th>\n",
       "                        <td id=\"T_c4392586_914d_11e9_86ae_c869cdc070berow1_col0\" class=\"data row1 col0\" >37253</td>\n",
       "                        <td id=\"T_c4392586_914d_11e9_86ae_c869cdc070berow1_col1\" class=\"data row1 col1\" >42.99 %</td>\n",
       "            </tr>\n",
       "            <tr>\n",
       "                        <th id=\"T_c4392586_914d_11e9_86ae_c869cdc070belevel0_row2\" class=\"row_heading level0 row2\" >eau</th>\n",
       "                        <td id=\"T_c4392586_914d_11e9_86ae_c869cdc070berow2_col0\" class=\"data row2 col0\" >35592</td>\n",
       "                        <td id=\"T_c4392586_914d_11e9_86ae_c869cdc070berow2_col1\" class=\"data row2 col1\" >41.07 %</td>\n",
       "            </tr>\n",
       "            <tr>\n",
       "                        <th id=\"T_c4392586_914d_11e9_86ae_c869cdc070belevel0_row3\" class=\"row_heading level0 row3\" >farine de ble</th>\n",
       "                        <td id=\"T_c4392586_914d_11e9_86ae_c869cdc070berow3_col0\" class=\"data row3 col0\" >13048</td>\n",
       "                        <td id=\"T_c4392586_914d_11e9_86ae_c869cdc070berow3_col1\" class=\"data row3 col1\" >15.06 %</td>\n",
       "            </tr>\n",
       "            <tr>\n",
       "                        <th id=\"T_c4392586_914d_11e9_86ae_c869cdc070belevel0_row4\" class=\"row_heading level0 row4\" >huile de tournesol</th>\n",
       "                        <td id=\"T_c4392586_914d_11e9_86ae_c869cdc070berow4_col0\" class=\"data row4 col0\" >9060</td>\n",
       "                        <td id=\"T_c4392586_914d_11e9_86ae_c869cdc070berow4_col1\" class=\"data row4 col1\" >10.46 %</td>\n",
       "            </tr>\n",
       "    </tbody></table>"
      ],
      "text/plain": [
       "<pandas.io.formats.style.Styler at 0x101416f60>"
      ]
     },
     "metadata": {},
     "output_type": "display_data"
    }
   ],
   "source": [
    "print('USA:')\n",
    "display(top_n_overall(df_us_final, len(df_us)))\n",
    "print('France:')\n",
    "display(top_n_overall(df_fr_final, len(df_fr)))"
   ]
  },
  {
   "cell_type": "markdown",
   "metadata": {},
   "source": [
    "**Comment:** The 5 most common \"simple\" ingredients are also the 5 most common ingredients overall."
   ]
  },
  {
   "cell_type": "markdown",
   "metadata": {},
   "source": [
    "Finally, the 5 most common \"composite\" ingredients are:"
   ]
  },
  {
   "cell_type": "code",
   "execution_count": 17,
   "metadata": {},
   "outputs": [
    {
     "name": "stdout",
     "output_type": "stream",
     "text": [
      "USA:\n"
     ]
    },
    {
     "data": {
      "text/html": [
       "<style  type=\"text/css\" >\n",
       "</style><table id=\"T_c443db0c_914d_11e9_922b_c869cdc070be\" ><thead>    <tr>        <th class=\"blank level0\" ></th>        <th class=\"col_heading level0 col0\" >count</th>        <th class=\"col_heading level0 col1\" >prevalence</th>    </tr>    <tr>        <th class=\"index_name level0\" >ingredient</th>        <th class=\"blank\" ></th>        <th class=\"blank\" ></th>    </tr></thead><tbody>\n",
       "                <tr>\n",
       "                        <th id=\"T_c443db0c_914d_11e9_922b_c869cdc070belevel0_row0\" class=\"row_heading level0 row0\" >ascorbic acid</th>\n",
       "                        <td id=\"T_c443db0c_914d_11e9_922b_c869cdc070berow0_col0\" class=\"data row0 col0\" >8937</td>\n",
       "                        <td id=\"T_c443db0c_914d_11e9_922b_c869cdc070berow0_col1\" class=\"data row0 col1\" >5.21 %</td>\n",
       "            </tr>\n",
       "            <tr>\n",
       "                        <th id=\"T_c443db0c_914d_11e9_922b_c869cdc070belevel0_row1\" class=\"row_heading level0 row1\" >vegetable oil</th>\n",
       "                        <td id=\"T_c443db0c_914d_11e9_922b_c869cdc070berow1_col0\" class=\"data row1 col0\" >7915</td>\n",
       "                        <td id=\"T_c443db0c_914d_11e9_922b_c869cdc070berow1_col1\" class=\"data row1 col1\" >4.61 %</td>\n",
       "            </tr>\n",
       "            <tr>\n",
       "                        <th id=\"T_c443db0c_914d_11e9_922b_c869cdc070belevel0_row2\" class=\"row_heading level0 row2\" >potassium sorbate</th>\n",
       "                        <td id=\"T_c443db0c_914d_11e9_922b_c869cdc070berow2_col0\" class=\"data row2 col0\" >7683</td>\n",
       "                        <td id=\"T_c443db0c_914d_11e9_922b_c869cdc070berow2_col1\" class=\"data row2 col1\" >4.48 %</td>\n",
       "            </tr>\n",
       "            <tr>\n",
       "                        <th id=\"T_c443db0c_914d_11e9_922b_c869cdc070belevel0_row3\" class=\"row_heading level0 row3\" >butter</th>\n",
       "                        <td id=\"T_c443db0c_914d_11e9_922b_c869cdc070berow3_col0\" class=\"data row3 col0\" >5620</td>\n",
       "                        <td id=\"T_c443db0c_914d_11e9_922b_c869cdc070berow3_col1\" class=\"data row3 col1\" >3.27 %</td>\n",
       "            </tr>\n",
       "            <tr>\n",
       "                        <th id=\"T_c443db0c_914d_11e9_922b_c869cdc070belevel0_row4\" class=\"row_heading level0 row4\" >sodium benzoate</th>\n",
       "                        <td id=\"T_c443db0c_914d_11e9_922b_c869cdc070berow4_col0\" class=\"data row4 col0\" >5380</td>\n",
       "                        <td id=\"T_c443db0c_914d_11e9_922b_c869cdc070berow4_col1\" class=\"data row4 col1\" >3.14 %</td>\n",
       "            </tr>\n",
       "    </tbody></table>"
      ],
      "text/plain": [
       "<pandas.io.formats.style.Styler at 0x12d53ceb8>"
      ]
     },
     "metadata": {},
     "output_type": "display_data"
    },
    {
     "name": "stdout",
     "output_type": "stream",
     "text": [
      "France:\n"
     ]
    },
    {
     "data": {
      "text/html": [
       "<style  type=\"text/css\" >\n",
       "</style><table id=\"T_c44b5030_914d_11e9_b26b_c869cdc070be\" ><thead>    <tr>        <th class=\"blank level0\" ></th>        <th class=\"col_heading level0 col0\" >count</th>        <th class=\"col_heading level0 col1\" >prevalence</th>    </tr>    <tr>        <th class=\"index_name level0\" >ingredient</th>        <th class=\"blank\" ></th>        <th class=\"blank\" ></th>    </tr></thead><tbody>\n",
       "                <tr>\n",
       "                        <th id=\"T_c44b5030_914d_11e9_b26b_c869cdc070belevel0_row0\" class=\"row_heading level0 row0\" >emulsifiant</th>\n",
       "                        <td id=\"T_c44b5030_914d_11e9_b26b_c869cdc070berow0_col0\" class=\"data row0 col0\" >2776</td>\n",
       "                        <td id=\"T_c44b5030_914d_11e9_b26b_c869cdc070berow0_col1\" class=\"data row0 col1\" >3.20 %</td>\n",
       "            </tr>\n",
       "            <tr>\n",
       "                        <th id=\"T_c44b5030_914d_11e9_b26b_c869cdc070belevel0_row1\" class=\"row_heading level0 row1\" >legumes</th>\n",
       "                        <td id=\"T_c44b5030_914d_11e9_b26b_c869cdc070berow1_col0\" class=\"data row1 col0\" >1628</td>\n",
       "                        <td id=\"T_c44b5030_914d_11e9_b26b_c869cdc070berow1_col1\" class=\"data row1 col1\" >1.88 %</td>\n",
       "            </tr>\n",
       "            <tr>\n",
       "                        <th id=\"T_c44b5030_914d_11e9_b26b_c869cdc070belevel0_row2\" class=\"row_heading level0 row2\" >huiles vegetales</th>\n",
       "                        <td id=\"T_c44b5030_914d_11e9_b26b_c869cdc070berow2_col0\" class=\"data row2 col0\" >1607</td>\n",
       "                        <td id=\"T_c44b5030_914d_11e9_b26b_c869cdc070berow2_col1\" class=\"data row2 col1\" >1.85 %</td>\n",
       "            </tr>\n",
       "            <tr>\n",
       "                        <th id=\"T_c44b5030_914d_11e9_b26b_c869cdc070belevel0_row3\" class=\"row_heading level0 row3\" >colorant</th>\n",
       "                        <td id=\"T_c44b5030_914d_11e9_b26b_c869cdc070berow3_col0\" class=\"data row3 col0\" >1463</td>\n",
       "                        <td id=\"T_c44b5030_914d_11e9_b26b_c869cdc070berow3_col1\" class=\"data row3 col1\" >1.69 %</td>\n",
       "            </tr>\n",
       "            <tr>\n",
       "                        <th id=\"T_c44b5030_914d_11e9_b26b_c869cdc070belevel0_row4\" class=\"row_heading level0 row4\" >acidifiant</th>\n",
       "                        <td id=\"T_c44b5030_914d_11e9_b26b_c869cdc070berow4_col0\" class=\"data row4 col0\" >1202</td>\n",
       "                        <td id=\"T_c44b5030_914d_11e9_b26b_c869cdc070berow4_col1\" class=\"data row4 col1\" >1.39 %</td>\n",
       "            </tr>\n",
       "    </tbody></table>"
      ],
      "text/plain": [
       "<pandas.io.formats.style.Styler at 0x12d824630>"
      ]
     },
     "metadata": {},
     "output_type": "display_data"
    }
   ],
   "source": [
    "print('USA:')\n",
    "display(top_n_composite(df_us_final, len(df_us)))\n",
    "print('France:')\n",
    "display(top_n_composite(df_fr_final, len(df_fr)))"
   ]
  },
  {
   "cell_type": "markdown",
   "metadata": {},
   "source": [
    "**Comment:** We see that the 5 most common \"composite\" ingredients seem to be some sort of additives. The result is not perfect, though. E.g. we would not put *legumes* on the same level as *soy sauce* for instance, as the former would not appear as-is in a recipe bool while the latter would. Since this was not part of the requirements for this task, we will not pursue this further."
   ]
  },
  {
   "cell_type": "code",
   "execution_count": null,
   "metadata": {},
   "outputs": [],
   "source": []
  }
 ],
 "metadata": {
  "kernelspec": {
   "display_name": "Python 3",
   "language": "python",
   "name": "python3"
  },
  "language_info": {
   "codemirror_mode": {
    "name": "ipython",
    "version": 3
   },
   "file_extension": ".py",
   "mimetype": "text/x-python",
   "name": "python",
   "nbconvert_exporter": "python",
   "pygments_lexer": "ipython3",
   "version": "3.6.7"
  }
 },
 "nbformat": 4,
 "nbformat_minor": 2
}
