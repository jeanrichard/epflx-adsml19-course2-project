{
 "cells": [
  {
   "cell_type": "markdown",
   "metadata": {},
   "source": [
    "# Course 2: Project - Task C: text data"
   ]
  },
  {
   "cell_type": "markdown",
   "metadata": {},
   "source": [
    "<a name=\"top\"></a>\n",
    "This notebook is concerned with task C.\n",
    "\n",
    "**Contents:**\n",
    "* [Imports](#imports)\n",
    "* [Preparatives](#preparatives)\n",
    "* [Data loading](#task-c-data-loading)\n",
    "* [Data exploration](#task-c-data-exploration)\n",
    "* [Implementation](#task-c-implementation)"
   ]
  },
  {
   "cell_type": "markdown",
   "metadata": {},
   "source": [
    "## Imports<a name=\"imports\"></a>\n",
    "---"
   ]
  },
  {
   "cell_type": "code",
   "execution_count": 11,
   "metadata": {},
   "outputs": [],
   "source": [
    "# Standard library:\n",
    "import functools\n",
    "import itertools\n",
    "import pathlib\n",
    "import re\n",
    "import typing as t\n",
    "import unicodedata\n",
    "\n",
    "# 3rd party:\n",
    "import numpy as np\n",
    "import matplotlib.pyplot as plt\n",
    "import pandas as pd\n",
    "import seaborn as sns\n",
    "\n",
    "# Project:\n",
    "import ingredients\n",
    "\n",
    "%matplotlib inline"
   ]
  },
  {
   "cell_type": "markdown",
   "metadata": {},
   "source": [
    "## Preparatives<a name=\"preparatives\"></a>\n",
    "---"
   ]
  },
  {
   "cell_type": "markdown",
   "metadata": {},
   "source": [
    "This section regroups utility functions, etc. that we will use later in this notebook."
   ]
  },
  {
   "cell_type": "markdown",
   "metadata": {},
   "source": [
    "### Utilities"
   ]
  },
  {
   "cell_type": "code",
   "execution_count": 2,
   "metadata": {},
   "outputs": [],
   "source": [
    "@functools.wraps(display)  # nicer for interactive use\n",
    "def display_allcols(*args, **kwargs):\n",
    "    \"\"\"Behaves exactly like ``display`` but in a context where Pandas display all columns.\"\"\"\n",
    "    with pd.option_context('display.max_columns', None):\n",
    "        display(*args, **kwargs)\n",
    "        \n",
    "        \n",
    "@functools.wraps(display)  # nicer for interactive use\n",
    "def display_allcols_notrunc(*args, **kwargs):\n",
    "    \"\"\"Behaves exactly like ``display`` but in a context where Pandas display all columns with no truncation.\"\"\"\n",
    "    with pd.option_context('display.max_columns', None, 'display.max_colwidth', -1):\n",
    "        display(*args, **kwargs)\n",
    "\n",
    "\n",
    "def move_after(words: t.List[str], word: str, word_to_move: str) -> t.List[str]:\n",
    "    \"\"\"Utility function to re-order columns.\"\"\"\n",
    "    try:\n",
    "        word_idx = words.index(word)\n",
    "        word_to_move_idx = words.index(word_to_move)\n",
    "    except ValueError:\n",
    "        pass\n",
    "    else:\n",
    "        if word_idx < word_to_move_idx:\n",
    "            words.pop(word_to_move_idx)\n",
    "            words.insert(word_idx + 1, word_to_move)\n",
    "        else:\n",
    "            words.insert(word_idx + 1, word_to_move)\n",
    "            words.pop(word_to_move_idx)\n",
    "    return words"
   ]
  },
  {
   "cell_type": "markdown",
   "metadata": {},
   "source": [
    "## Data loading<a name=\"task-c-data-loading\"></a> ([top](#top))\n",
    "---"
   ]
  },
  {
   "cell_type": "markdown",
   "metadata": {},
   "source": [
    "First, we load the subset of the cleaned-up dataset that we need:"
   ]
  },
  {
   "cell_type": "markdown",
   "metadata": {},
   "source": [
    "**/!\\ TODO: Load the cleaned-up data-frame once it is available!**"
   ]
  },
  {
   "cell_type": "code",
   "execution_count": 3,
   "metadata": {},
   "outputs": [],
   "source": [
    "data_filename = pathlib.Path.cwd().joinpath('en.openfoodfacts.org.products.tsv')"
   ]
  },
  {
   "cell_type": "code",
   "execution_count": 67,
   "metadata": {},
   "outputs": [],
   "source": [
    "df = pd.read_csv(data_filename,\n",
    "                 sep='\\t',\n",
    "                 usecols=['countries_tags', 'ingredients_text'],\n",
    "                 lineterminator='\\n')"
   ]
  },
  {
   "cell_type": "code",
   "execution_count": 72,
   "metadata": {},
   "outputs": [
    {
     "name": "stdout",
     "output_type": "stream",
     "text": [
      "the dataset contains 356001 rows and 2 columns\n"
     ]
    }
   ],
   "source": [
    "nrows, ncols = df.shape\n",
    "print(f'the dataset contains {nrows} rows and {ncols} columns')"
   ]
  },
  {
   "cell_type": "markdown",
   "metadata": {},
   "source": [
    "Here are the first few rows:"
   ]
  },
  {
   "cell_type": "code",
   "execution_count": 71,
   "metadata": {},
   "outputs": [
    {
     "data": {
      "text/html": [
       "<div>\n",
       "<style scoped>\n",
       "    .dataframe tbody tr th:only-of-type {\n",
       "        vertical-align: middle;\n",
       "    }\n",
       "\n",
       "    .dataframe tbody tr th {\n",
       "        vertical-align: top;\n",
       "    }\n",
       "\n",
       "    .dataframe thead th {\n",
       "        text-align: right;\n",
       "    }\n",
       "</style>\n",
       "<table border=\"1\" class=\"dataframe\">\n",
       "  <thead>\n",
       "    <tr style=\"text-align: right;\">\n",
       "      <th></th>\n",
       "      <th>countries_tags</th>\n",
       "      <th>ingredients_text</th>\n",
       "    </tr>\n",
       "  </thead>\n",
       "  <tbody>\n",
       "    <tr>\n",
       "      <th>0</th>\n",
       "      <td>en:france</td>\n",
       "      <td>NaN</td>\n",
       "    </tr>\n",
       "    <tr>\n",
       "      <th>1</th>\n",
       "      <td>en:united-states</td>\n",
       "      <td>Bananas, vegetable oil (coconut oil, corn oil ...</td>\n",
       "    </tr>\n",
       "    <tr>\n",
       "      <th>2</th>\n",
       "      <td>en:united-states</td>\n",
       "      <td>Peanuts, wheat flour, sugar, rice flour, tapio...</td>\n",
       "    </tr>\n",
       "    <tr>\n",
       "      <th>3</th>\n",
       "      <td>en:united-states</td>\n",
       "      <td>Organic hazelnuts, organic cashews, organic wa...</td>\n",
       "    </tr>\n",
       "    <tr>\n",
       "      <th>4</th>\n",
       "      <td>en:united-states</td>\n",
       "      <td>Organic polenta</td>\n",
       "    </tr>\n",
       "  </tbody>\n",
       "</table>\n",
       "</div>"
      ],
      "text/plain": [
       "     countries_tags                                   ingredients_text\n",
       "0         en:france                                                NaN\n",
       "1  en:united-states  Bananas, vegetable oil (coconut oil, corn oil ...\n",
       "2  en:united-states  Peanuts, wheat flour, sugar, rice flour, tapio...\n",
       "3  en:united-states  Organic hazelnuts, organic cashews, organic wa...\n",
       "4  en:united-states                                    Organic polenta"
      ]
     },
     "execution_count": 71,
     "metadata": {},
     "output_type": "execute_result"
    }
   ],
   "source": [
    "df.head()"
   ]
  },
  {
   "cell_type": "markdown",
   "metadata": {},
   "source": [
    "## Data exploration<a name=\"task-c-data-exploration\"></a> ([top](#top))\n",
    "---"
   ]
  },
  {
   "cell_type": "markdown",
   "metadata": {},
   "source": [
    "**Observations:** After manually inspecting multiple records (spot-checking), we were able to make the following observations:\n",
    "\n",
    "* **Content:** The majority of entries seem to be valid entries that contain a list of ingredients. Some invalid entries were clearly created on purpose (e.g. for *code: 355951*, we have *product\\_name:* _Ma b***_ (English: _My d***_)). Other invalid entries might be the resulf of a genuine mix-up (e.g. for *code: 355945*, we have *product\\_name:* _La pratique du vocabulaire allemand_ (English: _German vocabulary_)).\n",
    "\n",
    "* **Language:** In the majority of cases, the list of ingredients seem to use a single language. In some cases it uses two or more languages (e.g. for *code: 930*, it uses English, French and Dutch). In the majority of cases the *country\\_tags* column seems to be a good proxy for the language used.\n",
    "\n",
    "* **Format:** The \"ideal\" underlying format seem to be a delimited list of ingredients (that uses the comma as a delimiter), where each ingredient may be either \"simple\" or \"composite\". A \"composite\" ingredient is followed by the list of its own ingredients (recursion). The list in question is enclosed in matching parentheses. Very few entries conform to this \"ideal\" format, though. **Parentheses:** In some cases they are used to precise the percentage of an ingredient (e.g. for *code: 155*, we have _\"[...] milk chocolate (32%) (sugar, cocoa butter [...]\"_) or to provide clarification (e.g. for *code: 24* we have _\"[...] soy lecithin (an emulsifier) [...]\"_). Different types of parentheses are used, such as round brackets and square brackets. **Delimiters:** Different types of delimiters are used, such as comma, colon and bullets to name a few."
   ]
  },
  {
   "cell_type": "markdown",
   "metadata": {},
   "source": [
    "**Assumptions:** In order to keep complexity under control, we make the following assumptions:\n",
    "* Entries are valid and contain a list of ingredients.\n",
    "* Entries use a single language. The *country\\_tags* column is a good proxy for the language used.\n",
    "* The format is a delimited list of ingredients (that uses \"some\" type of delimiter), where each ingredient may be either \"simple\" or \"composite\". A \"composite\" ingredient is followed by the list of its own ingredients (recursion). The list in questions starts with \"some\" type of opening parenthesis.\n",
    "\n",
    "We expect entries that do not conform to the above to be \"infrequent enough\" so as to not impact the final result."
   ]
  },
  {
   "cell_type": "markdown",
   "metadata": {},
   "source": [
    "**Scope:** In order to keep complexity under control, we take the following decisions:\n",
    "* We will limit oursevles to the **USA** and **France**. Each one is a rather large country, with a single official language (that we understand). (For the USA, although there is no official language, English is considered to be the de-facto official language. For France, French is the official language.)"
   ]
  },
  {
   "cell_type": "markdown",
   "metadata": {},
   "source": [
    "## Implementation<a name=\"task-c-implementation\"></a>\n",
    "---"
   ]
  },
  {
   "cell_type": "markdown",
   "metadata": {},
   "source": [
    "In order not to clutter the notebook, most of the code is in a separate module - _ingredients.py_."
   ]
  },
  {
   "cell_type": "markdown",
   "metadata": {},
   "source": [
    "**Tokenization:** The first step is to split a given list of ingredients into tokens. For that we decided to roll-out our own tokenizer. Another way would have been to use NLTK (e.g. the [nltk.chunk](https://www.nltk.org/api/nltk.chunk.html) package) or another 3rd party library. The code is quite short (< 150 lines). We use 2 phases.\n",
    "\n",
    "**Phase 1:** Language agnostic. We use regular expressions to split the text into tokens:\n",
    "* `SPACE`: A sequence of white spaces\n",
    "* `DELIM`: A delimiter\n",
    "* `LPAR`: A left parenthesis\n",
    "* `RPAR`: A right parenthesis\n",
    "* `FIELD`: This is everything in-between tokens of the above types. If a _'.'_ or a _','_ is surrounded by digits, we do not treat it as a delimiter\n",
    "* `END`: This is an additional type, used to communicate that we reached the end-of-input\n",
    "* `INVALID`: This is an additional type, used to communicate that we encountered an error (and the sequence of characters that had to be skipped until we could re-synchronize with the input)\n",
    "\n",
    "\n",
    "**Phase 2:** Language-specific. Tokens of type `FIELD` are further split on language-specific delimiters (e.g. _and, or, and/or, or/and_ for English, _et, ou, et/ou, ou/et_ for French)."
   ]
  },
  {
   "cell_type": "code",
   "execution_count": 130,
   "metadata": {},
   "outputs": [],
   "source": [
    "delims_en = ['and/or', 'or/and', 'and', 'or']  # order matters due to substrings\n",
    "delims_fr = ['et/ou', 'ou/et', 'et',  'ou']  # ditto"
   ]
  },
  {
   "cell_type": "markdown",
   "metadata": {},
   "source": [
    "Here is a small example. We print the type of the token and highlight its position in the text with `[` and `]`:"
   ]
  },
  {
   "cell_type": "code",
   "execution_count": 131,
   "metadata": {},
   "outputs": [
    {
     "name": "stdout",
     "output_type": "stream",
     "text": [
      "FIELD | [Organic dry roasted pumpkin seeds], tamari (soybeans, water and salt), garlic and cayenne.\n",
      "DELIM | Organic dry roasted pumpkin seeds[,] tamari (soybeans, water and salt), garlic and cayenne.\n",
      "FIELD | Organic dry roasted pumpkin seeds, [tamari] (soybeans, water and salt), garlic and cayenne.\n",
      "LPAR  | Organic dry roasted pumpkin seeds, tamari [(]soybeans, water and salt), garlic and cayenne.\n",
      "FIELD | Organic dry roasted pumpkin seeds, tamari ([soybeans], water and salt), garlic and cayenne.\n",
      "DELIM | Organic dry roasted pumpkin seeds, tamari (soybeans[,] water and salt), garlic and cayenne.\n",
      "FIELD | Organic dry roasted pumpkin seeds, tamari (soybeans, [water] and salt), garlic and cayenne.\n",
      "DELIM | Organic dry roasted pumpkin seeds, tamari (soybeans, water [and] salt), garlic and cayenne.\n",
      "FIELD | Organic dry roasted pumpkin seeds, tamari (soybeans, water and [salt]), garlic and cayenne.\n",
      "RPAR  | Organic dry roasted pumpkin seeds, tamari (soybeans, water and salt[)], garlic and cayenne.\n",
      "DELIM | Organic dry roasted pumpkin seeds, tamari (soybeans, water and salt)[,] garlic and cayenne.\n",
      "FIELD | Organic dry roasted pumpkin seeds, tamari (soybeans, water and salt), [garlic] and cayenne.\n",
      "DELIM | Organic dry roasted pumpkin seeds, tamari (soybeans, water and salt), garlic [and] cayenne.\n",
      "FIELD | Organic dry roasted pumpkin seeds, tamari (soybeans, water and salt), garlic and [cayenne].\n",
      "DELIM | Organic dry roasted pumpkin seeds, tamari (soybeans, water and salt), garlic and cayenne[.]\n",
      "END   | Organic dry roasted pumpkin seeds, tamari (soybeans, water and salt), garlic and cayenne.[]\n"
     ]
    }
   ],
   "source": [
    "text = 'Organic dry roasted pumpkin seeds, tamari (soybeans, water and salt), garlic and cayenne.'\n",
    "\n",
    "for token in ingredients.tokenize(text, delims_en):\n",
    "    print(f\"{token.type.name:5} | {ingredients.highglight_token(text, token, '[', ']')}\")"
   ]
  },
  {
   "cell_type": "markdown",
   "metadata": {},
   "source": [
    "We will use the utility funtion below to iterate over tokens using a sliding window of width 2:"
   ]
  },
  {
   "cell_type": "code",
   "execution_count": 151,
   "metadata": {},
   "outputs": [],
   "source": [
    "# This is an old itertools recipe:\n",
    "def window(seq: t.Iterable[t.Any], n=2) -> t.Iterable[t.Sequence[t.Any]]:\n",
    "    \"\"\"\\\n",
    "    Returns a sliding window (of width ``n``) over data from the iterable.\n",
    "    For a sequence ``s``, the result will be ``(s0, s1, ..., s[n-1]), (s1, s2, ..., s[n]), ...``.\n",
    "    \"\"\"\n",
    "    it = iter(seq)\n",
    "    result = tuple(itertools.islice(it, n))\n",
    "    if len(result) == n:\n",
    "        yield result    \n",
    "    for elem in it:\n",
    "        result = result[1:] + (elem,)\n",
    "        yield result"
   ]
  },
  {
   "cell_type": "markdown",
   "metadata": {},
   "source": [
    "We will use the utility function below to convert a sequence of tokens into a list of pairs _(ingredient, is-composite)_:"
   ]
  },
  {
   "cell_type": "code",
   "execution_count": 175,
   "metadata": {},
   "outputs": [],
   "source": [
    "def tokens_to_ingredients(tokens: t.Iterable[ingredients.Token]) -> t.Iterable[t.Tuple[str, bool]]:\n",
    "    from ingredients import TokenType\n",
    "    for t1, t2 in window(tokens, 2):\n",
    "        if t1.type == TokenType.END:\n",
    "            break\n",
    "        # Discard tokens of a type other than 'FIELD':\n",
    "        if t1.type == TokenType.FIELD:\n",
    "            is_composite = (t2.type == TokenType.LPAR)  # see assumptions\n",
    "            yield (t1.text, is_composite)"
   ]
  },
  {
   "cell_type": "markdown",
   "metadata": {},
   "source": [
    "We will use the function below to convert a list of ingredients into a list of pairs _(normalized-ingredient, is-composite)_:"
   ]
  },
  {
   "cell_type": "code",
   "execution_count": 197,
   "metadata": {},
   "outputs": [],
   "source": [
    "def text_to_ingredients(text: str, delims: t.Sequence[str]) -> t.Iterable[t.Tuple[str, bool]]:\n",
    "    from ingredients import tokenize, normalize\n",
    "    yield from tokens_to_ingredients(normalize(tokenize(text, delims)))"
   ]
  },
  {
   "cell_type": "markdown",
   "metadata": {},
   "source": [
    "## Processing<a name=\"task-c-processing\"></a>\n",
    "---"
   ]
  },
  {
   "cell_type": "markdown",
   "metadata": {},
   "source": [
    "We create a separate data-frame for each country and discard rows with NA values:"
   ]
  },
  {
   "cell_type": "markdown",
   "metadata": {},
   "source": [
    "**/!\\ TODO: Load the cleaned-up data-frame once it is available!**"
   ]
  },
  {
   "cell_type": "code",
   "execution_count": 177,
   "metadata": {},
   "outputs": [],
   "source": [
    "def filter_country(country: str) -> pd.DataFrame:\n",
    "    is_country = df['countries_tags'].str.contains(country, na=False, regex=False)\n",
    "    df_country = df[is_country & df['ingredients_text'].notna()]\n",
    "    return df_country[['ingredients_text']]"
   ]
  },
  {
   "cell_type": "code",
   "execution_count": 178,
   "metadata": {},
   "outputs": [
    {
     "name": "stdout",
     "output_type": "stream",
     "text": [
      "the dataset 'usa' contains 171874 rows and 1 columns\n"
     ]
    },
    {
     "data": {
      "text/html": [
       "<div>\n",
       "<style scoped>\n",
       "    .dataframe tbody tr th:only-of-type {\n",
       "        vertical-align: middle;\n",
       "    }\n",
       "\n",
       "    .dataframe tbody tr th {\n",
       "        vertical-align: top;\n",
       "    }\n",
       "\n",
       "    .dataframe thead th {\n",
       "        text-align: right;\n",
       "    }\n",
       "</style>\n",
       "<table border=\"1\" class=\"dataframe\">\n",
       "  <thead>\n",
       "    <tr style=\"text-align: right;\">\n",
       "      <th></th>\n",
       "      <th>ingredients_text</th>\n",
       "    </tr>\n",
       "  </thead>\n",
       "  <tbody>\n",
       "    <tr>\n",
       "      <th>1</th>\n",
       "      <td>Bananas, vegetable oil (coconut oil, corn oil ...</td>\n",
       "    </tr>\n",
       "    <tr>\n",
       "      <th>2</th>\n",
       "      <td>Peanuts, wheat flour, sugar, rice flour, tapio...</td>\n",
       "    </tr>\n",
       "    <tr>\n",
       "      <th>3</th>\n",
       "      <td>Organic hazelnuts, organic cashews, organic wa...</td>\n",
       "    </tr>\n",
       "    <tr>\n",
       "      <th>4</th>\n",
       "      <td>Organic polenta</td>\n",
       "    </tr>\n",
       "    <tr>\n",
       "      <th>5</th>\n",
       "      <td>Rolled oats, grape concentrate, expeller press...</td>\n",
       "    </tr>\n",
       "  </tbody>\n",
       "</table>\n",
       "</div>"
      ],
      "text/plain": [
       "                                    ingredients_text\n",
       "1  Bananas, vegetable oil (coconut oil, corn oil ...\n",
       "2  Peanuts, wheat flour, sugar, rice flour, tapio...\n",
       "3  Organic hazelnuts, organic cashews, organic wa...\n",
       "4                                    Organic polenta\n",
       "5  Rolled oats, grape concentrate, expeller press..."
      ]
     },
     "execution_count": 178,
     "metadata": {},
     "output_type": "execute_result"
    }
   ],
   "source": [
    "df_usa = filter_country('united-states')\n",
    "\n",
    "nrows, ncols = df_usa.shape\n",
    "print(f\"the dataset 'usa' contains {nrows} rows and {ncols} columns\")\n",
    "\n",
    "df_usa.head()"
   ]
  },
  {
   "cell_type": "code",
   "execution_count": 179,
   "metadata": {},
   "outputs": [
    {
     "name": "stdout",
     "output_type": "stream",
     "text": [
      "the dataset 'france' contains 86743 rows and 1 columns\n"
     ]
    },
    {
     "data": {
      "text/html": [
       "<div>\n",
       "<style scoped>\n",
       "    .dataframe tbody tr th:only-of-type {\n",
       "        vertical-align: middle;\n",
       "    }\n",
       "\n",
       "    .dataframe tbody tr th {\n",
       "        vertical-align: top;\n",
       "    }\n",
       "\n",
       "    .dataframe thead th {\n",
       "        text-align: right;\n",
       "    }\n",
       "</style>\n",
       "<table border=\"1\" class=\"dataframe\">\n",
       "  <thead>\n",
       "    <tr style=\"text-align: right;\">\n",
       "      <th></th>\n",
       "      <th>ingredients_text</th>\n",
       "    </tr>\n",
       "  </thead>\n",
       "  <tbody>\n",
       "    <tr>\n",
       "      <th>184</th>\n",
       "      <td>lentilles vertes</td>\n",
       "    </tr>\n",
       "    <tr>\n",
       "      <th>185</th>\n",
       "      <td>Eau gazéifiée, sirop de maïs à haute teneur en...</td>\n",
       "    </tr>\n",
       "    <tr>\n",
       "      <th>186</th>\n",
       "      <td>Sucre, farine de _Blé_, graisse et huiles végé...</td>\n",
       "    </tr>\n",
       "    <tr>\n",
       "      <th>190</th>\n",
       "      <td>Thé noir aromatisé à la fleur de violette et p...</td>\n",
       "    </tr>\n",
       "    <tr>\n",
       "      <th>191</th>\n",
       "      <td>Thé noir de Chine, zestes d'oranges 7,5 %, arô...</td>\n",
       "    </tr>\n",
       "  </tbody>\n",
       "</table>\n",
       "</div>"
      ],
      "text/plain": [
       "                                      ingredients_text\n",
       "184                                   lentilles vertes\n",
       "185  Eau gazéifiée, sirop de maïs à haute teneur en...\n",
       "186  Sucre, farine de _Blé_, graisse et huiles végé...\n",
       "190  Thé noir aromatisé à la fleur de violette et p...\n",
       "191  Thé noir de Chine, zestes d'oranges 7,5 %, arô..."
      ]
     },
     "execution_count": 179,
     "metadata": {},
     "output_type": "execute_result"
    }
   ],
   "source": [
    "df_france = filter_country('france')\n",
    "\n",
    "nrows, ncols = df_france.shape\n",
    "print(f\"the dataset 'france' contains {nrows} rows and {ncols} columns\")\n",
    "\n",
    "df_france.head()"
   ]
  },
  {
   "cell_type": "markdown",
   "metadata": {},
   "source": [
    "We convert each dataset into a data-frame with columns _(ingredient, is-composite)_:"
   ]
  },
  {
   "cell_type": "code",
   "execution_count": 201,
   "metadata": {},
   "outputs": [],
   "source": [
    "def texts_to_ingredients(texts: pd.Series, delims: t.Sequence[str]) -> t.Iterable[t.Tuple[str, bool]]:\n",
    "    for _, text in texts.iteritems():\n",
    "        yield from text_to_ingredients(text, delims)\n",
    "\n",
    "        \n",
    "def texts_to_ingredients_df(texts: pd.Series, delims: t.Sequence[str]) -> pd.DataFrame:\n",
    "    return pd.DataFrame.from_records(\n",
    "        texts_to_ingredients(texts, delims), columns=['ingredient', 'is_composite'])"
   ]
  },
  {
   "cell_type": "code",
   "execution_count": 203,
   "metadata": {},
   "outputs": [
    {
     "name": "stdout",
     "output_type": "stream",
     "text": [
      "the dataset 'usa_ingredients' contains 2224133 rows and 2 columns\n"
     ]
    },
    {
     "data": {
      "text/html": [
       "<div>\n",
       "<style scoped>\n",
       "    .dataframe tbody tr th:only-of-type {\n",
       "        vertical-align: middle;\n",
       "    }\n",
       "\n",
       "    .dataframe tbody tr th {\n",
       "        vertical-align: top;\n",
       "    }\n",
       "\n",
       "    .dataframe thead th {\n",
       "        text-align: right;\n",
       "    }\n",
       "</style>\n",
       "<table border=\"1\" class=\"dataframe\">\n",
       "  <thead>\n",
       "    <tr style=\"text-align: right;\">\n",
       "      <th></th>\n",
       "      <th>ingredient</th>\n",
       "      <th>is_composite</th>\n",
       "    </tr>\n",
       "  </thead>\n",
       "  <tbody>\n",
       "    <tr>\n",
       "      <th>0</th>\n",
       "      <td>bananas</td>\n",
       "      <td>False</td>\n",
       "    </tr>\n",
       "    <tr>\n",
       "      <th>1</th>\n",
       "      <td>vegetable oil</td>\n",
       "      <td>True</td>\n",
       "    </tr>\n",
       "    <tr>\n",
       "      <th>2</th>\n",
       "      <td>coconut oil</td>\n",
       "      <td>False</td>\n",
       "    </tr>\n",
       "    <tr>\n",
       "      <th>3</th>\n",
       "      <td>corn oil</td>\n",
       "      <td>False</td>\n",
       "    </tr>\n",
       "    <tr>\n",
       "      <th>4</th>\n",
       "      <td>palm oil</td>\n",
       "      <td>False</td>\n",
       "    </tr>\n",
       "  </tbody>\n",
       "</table>\n",
       "</div>"
      ],
      "text/plain": [
       "      ingredient  is_composite\n",
       "0        bananas         False\n",
       "1  vegetable oil          True\n",
       "2    coconut oil         False\n",
       "3       corn oil         False\n",
       "4       palm oil         False"
      ]
     },
     "execution_count": 203,
     "metadata": {},
     "output_type": "execute_result"
    }
   ],
   "source": [
    "df_usa_ingredients = texts_to_ingredients_df(df_usa['ingredients_text'], delims_en)\n",
    "\n",
    "nrows, ncols = df_usa_ingredients.shape\n",
    "print(f\"the dataset 'usa_ingredients' contains {nrows} rows and {ncols} columns\")\n",
    "\n",
    "df_usa_ingredients.head()"
   ]
  },
  {
   "cell_type": "code",
   "execution_count": 204,
   "metadata": {},
   "outputs": [
    {
     "name": "stdout",
     "output_type": "stream",
     "text": [
      "the dataset 'france_ingredients' contains 1131704 rows and 2 columns\n"
     ]
    },
    {
     "data": {
      "text/html": [
       "<div>\n",
       "<style scoped>\n",
       "    .dataframe tbody tr th:only-of-type {\n",
       "        vertical-align: middle;\n",
       "    }\n",
       "\n",
       "    .dataframe tbody tr th {\n",
       "        vertical-align: top;\n",
       "    }\n",
       "\n",
       "    .dataframe thead th {\n",
       "        text-align: right;\n",
       "    }\n",
       "</style>\n",
       "<table border=\"1\" class=\"dataframe\">\n",
       "  <thead>\n",
       "    <tr style=\"text-align: right;\">\n",
       "      <th></th>\n",
       "      <th>ingredient</th>\n",
       "      <th>is_composite</th>\n",
       "    </tr>\n",
       "  </thead>\n",
       "  <tbody>\n",
       "    <tr>\n",
       "      <th>0</th>\n",
       "      <td>lentilles vertes</td>\n",
       "      <td>False</td>\n",
       "    </tr>\n",
       "    <tr>\n",
       "      <th>1</th>\n",
       "      <td>eau gazeifiee</td>\n",
       "      <td>False</td>\n",
       "    </tr>\n",
       "    <tr>\n",
       "      <th>2</th>\n",
       "      <td>sirop de mais a haute teneur en fructose</td>\n",
       "      <td>False</td>\n",
       "    </tr>\n",
       "    <tr>\n",
       "      <th>3</th>\n",
       "      <td>colorant caramel</td>\n",
       "      <td>False</td>\n",
       "    </tr>\n",
       "    <tr>\n",
       "      <th>4</th>\n",
       "      <td>conservateur e211</td>\n",
       "      <td>False</td>\n",
       "    </tr>\n",
       "  </tbody>\n",
       "</table>\n",
       "</div>"
      ],
      "text/plain": [
       "                                 ingredient  is_composite\n",
       "0                          lentilles vertes         False\n",
       "1                             eau gazeifiee         False\n",
       "2  sirop de mais a haute teneur en fructose         False\n",
       "3                          colorant caramel         False\n",
       "4                         conservateur e211         False"
      ]
     },
     "execution_count": 204,
     "metadata": {},
     "output_type": "execute_result"
    }
   ],
   "source": [
    "df_france_ingredients = texts_to_ingredients_df(df_france['ingredients_text'], delims_fr)\n",
    "\n",
    "nrows, ncols = df_france_ingredients.shape\n",
    "print(f\"the dataset 'france_ingredients' contains {nrows} rows and {ncols} columns\")\n",
    "\n",
    "df_france_ingredients.head()"
   ]
  },
  {
   "cell_type": "markdown",
   "metadata": {},
   "source": [
    "Some ingredients appear multiple times, sometimes marked as \"simple\" and sometime marked as \"composite\". Some form of \"reconciliation\" is thus required. In order for an ingredient to be considered as \"composite\", we require that the fraction of instances marked as \"composite\" be greater than 0.5:"
   ]
  },
  {
   "cell_type": "code",
   "execution_count": 205,
   "metadata": {},
   "outputs": [],
   "source": [
    "def reconcile_composite(df: pd.DataFrame, threshold: float = 0.5) -> pd.DataFrame:\n",
    "    # Compute count and mean:\n",
    "    df_reconciled = (\n",
    "        df\n",
    "        .groupby(by='ingredient')\n",
    "        .agg(['count', 'mean'])  # can be applied to a column of type 'bool'\n",
    "        .rename(columns={'count': 'count', 'mean': 'composite_mean'})\n",
    "    )\n",
    "    # Get rid of the multi-index:\n",
    "    df_reconciled.columns = df_reconciled.columns.get_level_values(1)\n",
    "    # Reconcile:\n",
    "    df_reconciled['is_composite'] = (df_reconciled['composite_mean'] > threshold)\n",
    "    df_reconciled = df_reconciled.drop(columns=['composite_mean'])\n",
    "    return df_reconciled"
   ]
  },
  {
   "cell_type": "code",
   "execution_count": 233,
   "metadata": {},
   "outputs": [],
   "source": [
    "df_usa_final = reconcile_composite(df_usa_ingredients)\n",
    "df_france_final = reconcile_composite(df_france_ingredients)"
   ]
  },
  {
   "cell_type": "markdown",
   "metadata": {},
   "source": [
    "We can easily compute the prevalence of each ingredient, i.e. the percentage of products that contain that ingredient:"
   ]
  },
  {
   "cell_type": "code",
   "execution_count": 257,
   "metadata": {},
   "outputs": [],
   "source": [
    "def compute_prevalence(df: pd.DataFrame, nproducts: int) -> pd.DataFrame:\n",
    "    df['prevalence'] = df['count'] / nproducts\n",
    "    df = df.style.format({\n",
    "        'prevalence': lambda n: f'{n*100:.2f} %'\n",
    "    })\n",
    "    return df"
   ]
  },
  {
   "cell_type": "markdown",
   "metadata": {},
   "source": [
    "We find the 5 most common \"simple\" ingredients:"
   ]
  },
  {
   "cell_type": "code",
   "execution_count": 260,
   "metadata": {},
   "outputs": [],
   "source": [
    "def top_n_simple(df: pd.DataFrame, nproducts: int) -> pd.DataFrame:\n",
    "    df_result = (df[~df['is_composite']].nlargest(5, columns=['count']))[['count']]#, 'prevalence']]\n",
    "    return compute_prevalence(df_result, nproducts)"
   ]
  },
  {
   "cell_type": "code",
   "execution_count": 261,
   "metadata": {},
   "outputs": [
    {
     "data": {
      "text/html": [
       "<style  type=\"text/css\" >\n",
       "</style><table id=\"T_6b4c38f6_7f40_11e9_90fe_c869cdc070be\" ><thead>    <tr>        <th class=\"blank level0\" ></th>        <th class=\"col_heading level0 col0\" >count</th>        <th class=\"col_heading level0 col1\" >prevalence</th>    </tr>    <tr>        <th class=\"index_name level0\" >ingredient</th>        <th class=\"blank\" ></th>        <th class=\"blank\" ></th>    </tr></thead><tbody>\n",
       "                <tr>\n",
       "                        <th id=\"T_6b4c38f6_7f40_11e9_90fe_c869cdc070belevel0_row0\" class=\"row_heading level0 row0\" >salt</th>\n",
       "                        <td id=\"T_6b4c38f6_7f40_11e9_90fe_c869cdc070berow0_col0\" class=\"data row0 col0\" >104185</td>\n",
       "                        <td id=\"T_6b4c38f6_7f40_11e9_90fe_c869cdc070berow0_col1\" class=\"data row0 col1\" >60.62 %</td>\n",
       "            </tr>\n",
       "            <tr>\n",
       "                        <th id=\"T_6b4c38f6_7f40_11e9_90fe_c869cdc070belevel0_row1\" class=\"row_heading level0 row1\" >sugar</th>\n",
       "                        <td id=\"T_6b4c38f6_7f40_11e9_90fe_c869cdc070berow1_col0\" class=\"data row1 col0\" >77324</td>\n",
       "                        <td id=\"T_6b4c38f6_7f40_11e9_90fe_c869cdc070berow1_col1\" class=\"data row1 col1\" >44.99 %</td>\n",
       "            </tr>\n",
       "            <tr>\n",
       "                        <th id=\"T_6b4c38f6_7f40_11e9_90fe_c869cdc070belevel0_row2\" class=\"row_heading level0 row2\" >water</th>\n",
       "                        <td id=\"T_6b4c38f6_7f40_11e9_90fe_c869cdc070berow2_col0\" class=\"data row2 col0\" >71782</td>\n",
       "                        <td id=\"T_6b4c38f6_7f40_11e9_90fe_c869cdc070berow2_col1\" class=\"data row2 col1\" >41.76 %</td>\n",
       "            </tr>\n",
       "            <tr>\n",
       "                        <th id=\"T_6b4c38f6_7f40_11e9_90fe_c869cdc070belevel0_row3\" class=\"row_heading level0 row3\" >citric acid</th>\n",
       "                        <td id=\"T_6b4c38f6_7f40_11e9_90fe_c869cdc070berow3_col0\" class=\"data row3 col0\" >34816</td>\n",
       "                        <td id=\"T_6b4c38f6_7f40_11e9_90fe_c869cdc070berow3_col1\" class=\"data row3 col1\" >20.26 %</td>\n",
       "            </tr>\n",
       "            <tr>\n",
       "                        <th id=\"T_6b4c38f6_7f40_11e9_90fe_c869cdc070belevel0_row4\" class=\"row_heading level0 row4\" >riboflavin</th>\n",
       "                        <td id=\"T_6b4c38f6_7f40_11e9_90fe_c869cdc070berow4_col0\" class=\"data row4 col0\" >22454</td>\n",
       "                        <td id=\"T_6b4c38f6_7f40_11e9_90fe_c869cdc070berow4_col1\" class=\"data row4 col1\" >13.06 %</td>\n",
       "            </tr>\n",
       "    </tbody></table>"
      ],
      "text/plain": [
       "<pandas.io.formats.style.Styler at 0x11be49c18>"
      ]
     },
     "execution_count": 261,
     "metadata": {},
     "output_type": "execute_result"
    }
   ],
   "source": [
    "top_n_simple(df_usa_final, len(df_usa))"
   ]
  },
  {
   "cell_type": "code",
   "execution_count": 262,
   "metadata": {},
   "outputs": [
    {
     "data": {
      "text/html": [
       "<style  type=\"text/css\" >\n",
       "</style><table id=\"T_70e310f0_7f40_11e9_a0e6_c869cdc070be\" ><thead>    <tr>        <th class=\"blank level0\" ></th>        <th class=\"col_heading level0 col0\" >count</th>        <th class=\"col_heading level0 col1\" >prevalence</th>    </tr>    <tr>        <th class=\"index_name level0\" >ingredient</th>        <th class=\"blank\" ></th>        <th class=\"blank\" ></th>    </tr></thead><tbody>\n",
       "                <tr>\n",
       "                        <th id=\"T_70e310f0_7f40_11e9_a0e6_c869cdc070belevel0_row0\" class=\"row_heading level0 row0\" >sel</th>\n",
       "                        <td id=\"T_70e310f0_7f40_11e9_a0e6_c869cdc070berow0_col0\" class=\"data row0 col0\" >51797</td>\n",
       "                        <td id=\"T_70e310f0_7f40_11e9_a0e6_c869cdc070berow0_col1\" class=\"data row0 col1\" >59.71 %</td>\n",
       "            </tr>\n",
       "            <tr>\n",
       "                        <th id=\"T_70e310f0_7f40_11e9_a0e6_c869cdc070belevel0_row1\" class=\"row_heading level0 row1\" >sucre</th>\n",
       "                        <td id=\"T_70e310f0_7f40_11e9_a0e6_c869cdc070berow1_col0\" class=\"data row1 col0\" >37257</td>\n",
       "                        <td id=\"T_70e310f0_7f40_11e9_a0e6_c869cdc070berow1_col1\" class=\"data row1 col1\" >42.95 %</td>\n",
       "            </tr>\n",
       "            <tr>\n",
       "                        <th id=\"T_70e310f0_7f40_11e9_a0e6_c869cdc070belevel0_row2\" class=\"row_heading level0 row2\" >eau</th>\n",
       "                        <td id=\"T_70e310f0_7f40_11e9_a0e6_c869cdc070berow2_col0\" class=\"data row2 col0\" >35605</td>\n",
       "                        <td id=\"T_70e310f0_7f40_11e9_a0e6_c869cdc070berow2_col1\" class=\"data row2 col1\" >41.05 %</td>\n",
       "            </tr>\n",
       "            <tr>\n",
       "                        <th id=\"T_70e310f0_7f40_11e9_a0e6_c869cdc070belevel0_row3\" class=\"row_heading level0 row3\" >farine de ble</th>\n",
       "                        <td id=\"T_70e310f0_7f40_11e9_a0e6_c869cdc070berow3_col0\" class=\"data row3 col0\" >13053</td>\n",
       "                        <td id=\"T_70e310f0_7f40_11e9_a0e6_c869cdc070berow3_col1\" class=\"data row3 col1\" >15.05 %</td>\n",
       "            </tr>\n",
       "            <tr>\n",
       "                        <th id=\"T_70e310f0_7f40_11e9_a0e6_c869cdc070belevel0_row4\" class=\"row_heading level0 row4\" >huile de tournesol</th>\n",
       "                        <td id=\"T_70e310f0_7f40_11e9_a0e6_c869cdc070berow4_col0\" class=\"data row4 col0\" >9063</td>\n",
       "                        <td id=\"T_70e310f0_7f40_11e9_a0e6_c869cdc070berow4_col1\" class=\"data row4 col1\" >10.45 %</td>\n",
       "            </tr>\n",
       "    </tbody></table>"
      ],
      "text/plain": [
       "<pandas.io.formats.style.Styler at 0x1323b7eb8>"
      ]
     },
     "execution_count": 262,
     "metadata": {},
     "output_type": "execute_result"
    }
   ],
   "source": [
    "top_n_simple(df_france_final, len(df_france))"
   ]
  },
  {
   "cell_type": "markdown",
   "metadata": {},
   "source": [
    "These are also the 5 most common ingredients overall:"
   ]
  },
  {
   "cell_type": "code",
   "execution_count": 263,
   "metadata": {},
   "outputs": [],
   "source": [
    "def top_n_overall(df: pd.DataFrame ,nproducts: int) -> pd.DataFrame:\n",
    "    df_result = df.nlargest(5, columns=['count'])[['count']]#, 'prevalence']]\n",
    "    return compute_prevalence(df_result, nproducts)"
   ]
  },
  {
   "cell_type": "code",
   "execution_count": 264,
   "metadata": {},
   "outputs": [
    {
     "data": {
      "text/html": [
       "<style  type=\"text/css\" >\n",
       "</style><table id=\"T_7b35848c_7f40_11e9_9d6e_c869cdc070be\" ><thead>    <tr>        <th class=\"blank level0\" ></th>        <th class=\"col_heading level0 col0\" >count</th>        <th class=\"col_heading level0 col1\" >prevalence</th>    </tr>    <tr>        <th class=\"index_name level0\" >ingredient</th>        <th class=\"blank\" ></th>        <th class=\"blank\" ></th>    </tr></thead><tbody>\n",
       "                <tr>\n",
       "                        <th id=\"T_7b35848c_7f40_11e9_9d6e_c869cdc070belevel0_row0\" class=\"row_heading level0 row0\" >salt</th>\n",
       "                        <td id=\"T_7b35848c_7f40_11e9_9d6e_c869cdc070berow0_col0\" class=\"data row0 col0\" >104185</td>\n",
       "                        <td id=\"T_7b35848c_7f40_11e9_9d6e_c869cdc070berow0_col1\" class=\"data row0 col1\" >60.62 %</td>\n",
       "            </tr>\n",
       "            <tr>\n",
       "                        <th id=\"T_7b35848c_7f40_11e9_9d6e_c869cdc070belevel0_row1\" class=\"row_heading level0 row1\" >sugar</th>\n",
       "                        <td id=\"T_7b35848c_7f40_11e9_9d6e_c869cdc070berow1_col0\" class=\"data row1 col0\" >77324</td>\n",
       "                        <td id=\"T_7b35848c_7f40_11e9_9d6e_c869cdc070berow1_col1\" class=\"data row1 col1\" >44.99 %</td>\n",
       "            </tr>\n",
       "            <tr>\n",
       "                        <th id=\"T_7b35848c_7f40_11e9_9d6e_c869cdc070belevel0_row2\" class=\"row_heading level0 row2\" >water</th>\n",
       "                        <td id=\"T_7b35848c_7f40_11e9_9d6e_c869cdc070berow2_col0\" class=\"data row2 col0\" >71782</td>\n",
       "                        <td id=\"T_7b35848c_7f40_11e9_9d6e_c869cdc070berow2_col1\" class=\"data row2 col1\" >41.76 %</td>\n",
       "            </tr>\n",
       "            <tr>\n",
       "                        <th id=\"T_7b35848c_7f40_11e9_9d6e_c869cdc070belevel0_row3\" class=\"row_heading level0 row3\" >citric acid</th>\n",
       "                        <td id=\"T_7b35848c_7f40_11e9_9d6e_c869cdc070berow3_col0\" class=\"data row3 col0\" >34816</td>\n",
       "                        <td id=\"T_7b35848c_7f40_11e9_9d6e_c869cdc070berow3_col1\" class=\"data row3 col1\" >20.26 %</td>\n",
       "            </tr>\n",
       "            <tr>\n",
       "                        <th id=\"T_7b35848c_7f40_11e9_9d6e_c869cdc070belevel0_row4\" class=\"row_heading level0 row4\" >riboflavin</th>\n",
       "                        <td id=\"T_7b35848c_7f40_11e9_9d6e_c869cdc070berow4_col0\" class=\"data row4 col0\" >22454</td>\n",
       "                        <td id=\"T_7b35848c_7f40_11e9_9d6e_c869cdc070berow4_col1\" class=\"data row4 col1\" >13.06 %</td>\n",
       "            </tr>\n",
       "    </tbody></table>"
      ],
      "text/plain": [
       "<pandas.io.formats.style.Styler at 0x11215a6a0>"
      ]
     },
     "execution_count": 264,
     "metadata": {},
     "output_type": "execute_result"
    }
   ],
   "source": [
    "top_n_overall(df_usa_final, len(df_usa))"
   ]
  },
  {
   "cell_type": "code",
   "execution_count": 265,
   "metadata": {},
   "outputs": [
    {
     "data": {
      "text/html": [
       "<style  type=\"text/css\" >\n",
       "</style><table id=\"T_7b95940a_7f40_11e9_a2d3_c869cdc070be\" ><thead>    <tr>        <th class=\"blank level0\" ></th>        <th class=\"col_heading level0 col0\" >count</th>        <th class=\"col_heading level0 col1\" >prevalence</th>    </tr>    <tr>        <th class=\"index_name level0\" >ingredient</th>        <th class=\"blank\" ></th>        <th class=\"blank\" ></th>    </tr></thead><tbody>\n",
       "                <tr>\n",
       "                        <th id=\"T_7b95940a_7f40_11e9_a2d3_c869cdc070belevel0_row0\" class=\"row_heading level0 row0\" >sel</th>\n",
       "                        <td id=\"T_7b95940a_7f40_11e9_a2d3_c869cdc070berow0_col0\" class=\"data row0 col0\" >51797</td>\n",
       "                        <td id=\"T_7b95940a_7f40_11e9_a2d3_c869cdc070berow0_col1\" class=\"data row0 col1\" >59.71 %</td>\n",
       "            </tr>\n",
       "            <tr>\n",
       "                        <th id=\"T_7b95940a_7f40_11e9_a2d3_c869cdc070belevel0_row1\" class=\"row_heading level0 row1\" >sucre</th>\n",
       "                        <td id=\"T_7b95940a_7f40_11e9_a2d3_c869cdc070berow1_col0\" class=\"data row1 col0\" >37257</td>\n",
       "                        <td id=\"T_7b95940a_7f40_11e9_a2d3_c869cdc070berow1_col1\" class=\"data row1 col1\" >42.95 %</td>\n",
       "            </tr>\n",
       "            <tr>\n",
       "                        <th id=\"T_7b95940a_7f40_11e9_a2d3_c869cdc070belevel0_row2\" class=\"row_heading level0 row2\" >eau</th>\n",
       "                        <td id=\"T_7b95940a_7f40_11e9_a2d3_c869cdc070berow2_col0\" class=\"data row2 col0\" >35605</td>\n",
       "                        <td id=\"T_7b95940a_7f40_11e9_a2d3_c869cdc070berow2_col1\" class=\"data row2 col1\" >41.05 %</td>\n",
       "            </tr>\n",
       "            <tr>\n",
       "                        <th id=\"T_7b95940a_7f40_11e9_a2d3_c869cdc070belevel0_row3\" class=\"row_heading level0 row3\" >farine de ble</th>\n",
       "                        <td id=\"T_7b95940a_7f40_11e9_a2d3_c869cdc070berow3_col0\" class=\"data row3 col0\" >13053</td>\n",
       "                        <td id=\"T_7b95940a_7f40_11e9_a2d3_c869cdc070berow3_col1\" class=\"data row3 col1\" >15.05 %</td>\n",
       "            </tr>\n",
       "            <tr>\n",
       "                        <th id=\"T_7b95940a_7f40_11e9_a2d3_c869cdc070belevel0_row4\" class=\"row_heading level0 row4\" >huile de tournesol</th>\n",
       "                        <td id=\"T_7b95940a_7f40_11e9_a2d3_c869cdc070berow4_col0\" class=\"data row4 col0\" >9063</td>\n",
       "                        <td id=\"T_7b95940a_7f40_11e9_a2d3_c869cdc070berow4_col1\" class=\"data row4 col1\" >10.45 %</td>\n",
       "            </tr>\n",
       "    </tbody></table>"
      ],
      "text/plain": [
       "<pandas.io.formats.style.Styler at 0x13721ada0>"
      ]
     },
     "execution_count": 265,
     "metadata": {},
     "output_type": "execute_result"
    }
   ],
   "source": [
    "top_n_overall(df_france_final, len(df_france))"
   ]
  },
  {
   "cell_type": "markdown",
   "metadata": {},
   "source": [
    "We find the 5 most common \"composite\" ingredients:"
   ]
  },
  {
   "cell_type": "code",
   "execution_count": 266,
   "metadata": {},
   "outputs": [],
   "source": [
    "def top_n_composite(df, nproducts):\n",
    "    df_result = (df[df['is_composite']].nlargest(5, columns=['count']))[['count']]#, 'prevalence']]\n",
    "    return compute_prevalence(df_result, nproducts)"
   ]
  },
  {
   "cell_type": "code",
   "execution_count": 267,
   "metadata": {},
   "outputs": [
    {
     "data": {
      "text/html": [
       "<style  type=\"text/css\" >\n",
       "</style><table id=\"T_8458eb1e_7f40_11e9_9936_c869cdc070be\" ><thead>    <tr>        <th class=\"blank level0\" ></th>        <th class=\"col_heading level0 col0\" >count</th>        <th class=\"col_heading level0 col1\" >prevalence</th>    </tr>    <tr>        <th class=\"index_name level0\" >ingredient</th>        <th class=\"blank\" ></th>        <th class=\"blank\" ></th>    </tr></thead><tbody>\n",
       "                <tr>\n",
       "                        <th id=\"T_8458eb1e_7f40_11e9_9936_c869cdc070belevel0_row0\" class=\"row_heading level0 row0\" >ascorbic acid</th>\n",
       "                        <td id=\"T_8458eb1e_7f40_11e9_9936_c869cdc070berow0_col0\" class=\"data row0 col0\" >8938</td>\n",
       "                        <td id=\"T_8458eb1e_7f40_11e9_9936_c869cdc070berow0_col1\" class=\"data row0 col1\" >5.20 %</td>\n",
       "            </tr>\n",
       "            <tr>\n",
       "                        <th id=\"T_8458eb1e_7f40_11e9_9936_c869cdc070belevel0_row1\" class=\"row_heading level0 row1\" >vegetable oil</th>\n",
       "                        <td id=\"T_8458eb1e_7f40_11e9_9936_c869cdc070berow1_col0\" class=\"data row1 col0\" >7922</td>\n",
       "                        <td id=\"T_8458eb1e_7f40_11e9_9936_c869cdc070berow1_col1\" class=\"data row1 col1\" >4.61 %</td>\n",
       "            </tr>\n",
       "            <tr>\n",
       "                        <th id=\"T_8458eb1e_7f40_11e9_9936_c869cdc070belevel0_row2\" class=\"row_heading level0 row2\" >potassium sorbate</th>\n",
       "                        <td id=\"T_8458eb1e_7f40_11e9_9936_c869cdc070berow2_col0\" class=\"data row2 col0\" >7681</td>\n",
       "                        <td id=\"T_8458eb1e_7f40_11e9_9936_c869cdc070berow2_col1\" class=\"data row2 col1\" >4.47 %</td>\n",
       "            </tr>\n",
       "            <tr>\n",
       "                        <th id=\"T_8458eb1e_7f40_11e9_9936_c869cdc070belevel0_row3\" class=\"row_heading level0 row3\" >butter</th>\n",
       "                        <td id=\"T_8458eb1e_7f40_11e9_9936_c869cdc070berow3_col0\" class=\"data row3 col0\" >5626</td>\n",
       "                        <td id=\"T_8458eb1e_7f40_11e9_9936_c869cdc070berow3_col1\" class=\"data row3 col1\" >3.27 %</td>\n",
       "            </tr>\n",
       "            <tr>\n",
       "                        <th id=\"T_8458eb1e_7f40_11e9_9936_c869cdc070belevel0_row4\" class=\"row_heading level0 row4\" >sodium benzoate</th>\n",
       "                        <td id=\"T_8458eb1e_7f40_11e9_9936_c869cdc070berow4_col0\" class=\"data row4 col0\" >5380</td>\n",
       "                        <td id=\"T_8458eb1e_7f40_11e9_9936_c869cdc070berow4_col1\" class=\"data row4 col1\" >3.13 %</td>\n",
       "            </tr>\n",
       "    </tbody></table>"
      ],
      "text/plain": [
       "<pandas.io.formats.style.Styler at 0x136962208>"
      ]
     },
     "execution_count": 267,
     "metadata": {},
     "output_type": "execute_result"
    }
   ],
   "source": [
    "top_n_composite(df_usa_final, len(df_usa))"
   ]
  },
  {
   "cell_type": "code",
   "execution_count": 269,
   "metadata": {},
   "outputs": [
    {
     "data": {
      "text/html": [
       "<style  type=\"text/css\" >\n",
       "</style><table id=\"T_89110290_7f40_11e9_8409_c869cdc070be\" ><thead>    <tr>        <th class=\"blank level0\" ></th>        <th class=\"col_heading level0 col0\" >count</th>        <th class=\"col_heading level0 col1\" >prevalence</th>    </tr>    <tr>        <th class=\"index_name level0\" >ingredient</th>        <th class=\"blank\" ></th>        <th class=\"blank\" ></th>    </tr></thead><tbody>\n",
       "                <tr>\n",
       "                        <th id=\"T_89110290_7f40_11e9_8409_c869cdc070belevel0_row0\" class=\"row_heading level0 row0\" >emulsifiant</th>\n",
       "                        <td id=\"T_89110290_7f40_11e9_8409_c869cdc070berow0_col0\" class=\"data row0 col0\" >2781</td>\n",
       "                        <td id=\"T_89110290_7f40_11e9_8409_c869cdc070berow0_col1\" class=\"data row0 col1\" >3.21 %</td>\n",
       "            </tr>\n",
       "            <tr>\n",
       "                        <th id=\"T_89110290_7f40_11e9_8409_c869cdc070belevel0_row1\" class=\"row_heading level0 row1\" >legumes</th>\n",
       "                        <td id=\"T_89110290_7f40_11e9_8409_c869cdc070berow1_col0\" class=\"data row1 col0\" >1624</td>\n",
       "                        <td id=\"T_89110290_7f40_11e9_8409_c869cdc070berow1_col1\" class=\"data row1 col1\" >1.87 %</td>\n",
       "            </tr>\n",
       "            <tr>\n",
       "                        <th id=\"T_89110290_7f40_11e9_8409_c869cdc070belevel0_row2\" class=\"row_heading level0 row2\" >huiles vegetales</th>\n",
       "                        <td id=\"T_89110290_7f40_11e9_8409_c869cdc070berow2_col0\" class=\"data row2 col0\" >1614</td>\n",
       "                        <td id=\"T_89110290_7f40_11e9_8409_c869cdc070berow2_col1\" class=\"data row2 col1\" >1.86 %</td>\n",
       "            </tr>\n",
       "            <tr>\n",
       "                        <th id=\"T_89110290_7f40_11e9_8409_c869cdc070belevel0_row3\" class=\"row_heading level0 row3\" >colorant</th>\n",
       "                        <td id=\"T_89110290_7f40_11e9_8409_c869cdc070berow3_col0\" class=\"data row3 col0\" >1461</td>\n",
       "                        <td id=\"T_89110290_7f40_11e9_8409_c869cdc070berow3_col1\" class=\"data row3 col1\" >1.68 %</td>\n",
       "            </tr>\n",
       "            <tr>\n",
       "                        <th id=\"T_89110290_7f40_11e9_8409_c869cdc070belevel0_row4\" class=\"row_heading level0 row4\" >acidifiant</th>\n",
       "                        <td id=\"T_89110290_7f40_11e9_8409_c869cdc070berow4_col0\" class=\"data row4 col0\" >1202</td>\n",
       "                        <td id=\"T_89110290_7f40_11e9_8409_c869cdc070berow4_col1\" class=\"data row4 col1\" >1.39 %</td>\n",
       "            </tr>\n",
       "    </tbody></table>"
      ],
      "text/plain": [
       "<pandas.io.formats.style.Styler at 0x13721af28>"
      ]
     },
     "execution_count": 269,
     "metadata": {},
     "output_type": "execute_result"
    }
   ],
   "source": [
    "top_n_composite(df_france_final, len(df_france))"
   ]
  },
  {
   "cell_type": "code",
   "execution_count": 272,
   "metadata": {},
   "outputs": [
    {
     "data": {
      "text/html": [
       "<div>\n",
       "<style scoped>\n",
       "    .dataframe tbody tr th:only-of-type {\n",
       "        vertical-align: middle;\n",
       "    }\n",
       "\n",
       "    .dataframe tbody tr th {\n",
       "        vertical-align: top;\n",
       "    }\n",
       "\n",
       "    .dataframe thead th {\n",
       "        text-align: right;\n",
       "    }\n",
       "</style>\n",
       "<table border=\"1\" class=\"dataframe\">\n",
       "  <thead>\n",
       "    <tr style=\"text-align: right;\">\n",
       "      <th></th>\n",
       "      <th>ingredients_text</th>\n",
       "    </tr>\n",
       "  </thead>\n",
       "  <tbody>\n",
       "    <tr>\n",
       "      <th>200</th>\n",
       "      <td>Wheat flour, butter (cream), water, yeast, sugar, salt, eggs, wheat gluten, ascorbic acid, enzymes.</td>\n",
       "    </tr>\n",
       "    <tr>\n",
       "      <th>202</th>\n",
       "      <td>Enriched wheat flour (wheat flour niacin, reduced iron, thiamine mononitrate, riboflavin, folic acid) malted barley flour, water, soybean oil, wheat gluten, yeast, sugar, salt, calcium sulfate, ascorbic acid, enzymes, sorbic acid, vegetable oil, monoglyce</td>\n",
       "    </tr>\n",
       "    <tr>\n",
       "      <th>212</th>\n",
       "      <td>Enriched wheatflour (wheat flour, niacin, reduced iron, thiamin mononitrate, riboflavin, folic acid), water, yeast, vegetable oil, salt, dough improver (yeast, wheatflour. enzymes, soybean oil, ascorbic acid).</td>\n",
       "    </tr>\n",
       "    <tr>\n",
       "      <th>215</th>\n",
       "      <td>Pastry: unbleached wheat flour (wheat flour, malted barley flour, niacin, iron, thiamine mononitrate, riboflavin, folic acid), water, non hydrogenated palm oil, sugar, salt, ascorbic acid, beta carotene. filling: cherries, sugar, water, corn syrup, modifi</td>\n",
       "    </tr>\n",
       "    <tr>\n",
       "      <th>216</th>\n",
       "      <td>Pastry: unbleached wheat flour (wheat flour, malted barley flour, niacin, iron, thiamine mononitrate, riboflavin, folic acid), water, non hydrogenated palm oil, sugar, salt, ascorbic acid, beta carotene. filling: apples, sugar, water, corn syrup, modified</td>\n",
       "    </tr>\n",
       "    <tr>\n",
       "      <th>218</th>\n",
       "      <td>Pastry dough [unbleached enriched wheat flour (wheat flour, malted barley flour, ascorbic acid, niacin, thiamin mononitrate, riboflavin, folic acid), water, shortening (palm oil, beta-carotene [for color]), sugar, salt], fruit filling [water, sugar, apple</td>\n",
       "    </tr>\n",
       "    <tr>\n",
       "      <th>219</th>\n",
       "      <td>Wheat flour, butter, water, chocolate (sugar, cocoa mass, cocoa butter, natural vanilla flavor, soy lecithin), sugar, yeast, whole milk powder, salt, wheat gluten, rapeseed oil lecithin, egg wash (eggs, water), ascorbic acid, enzymes.</td>\n",
       "    </tr>\n",
       "    <tr>\n",
       "      <th>338</th>\n",
       "      <td>Water, xylitol, citric acid, lactic acid, apple juice concentrate*, ascorbic acid, malic acid, natural and artificial flavors, sucralose, blueberry juice concentrate, sodium benzoate and potassium sorbate (as a preservative).</td>\n",
       "    </tr>\n",
       "    <tr>\n",
       "      <th>339</th>\n",
       "      <td>Water, glycerin, citric acid, xylitol, apple juice concentrate*, ascorbic acid, xanthan gum, sucralose, malic acid, natural and artificial flavors, sodium benzoate and potassium sorbate (as preservatives), yellow #5, blue #1.</td>\n",
       "    </tr>\n",
       "    <tr>\n",
       "      <th>359</th>\n",
       "      <td>Concentrated apple puree, concentrated apple juice, ascorbic acid (vitamin c), natural pineapple flavor, natural mango flavor, concentrated black carrot juice (for color), pectin, coconut oil, shellac, beeswax.</td>\n",
       "    </tr>\n",
       "    <tr>\n",
       "      <th>360</th>\n",
       "      <td>Concentrated apple puree, concentrated apple juice, ascorbic acid (vitamin c), natural blueberry flavor, natural pomegranate flavor, concentrated black carrot juice (for color), pectin, coconut oil, shellac, beeswax.</td>\n",
       "    </tr>\n",
       "    <tr>\n",
       "      <th>374</th>\n",
       "      <td>Corn syrup, sugar, water, apple juice concentrate, modified food starch (corn), gelatin, dextrose, apple puree, citric acid, artificial flavor, ascorbic acid, mineral oil, carnuba wax, artificial colors (fd&amp;c red 40, yellow 5, blue 1).</td>\n",
       "    </tr>\n",
       "    <tr>\n",
       "      <th>379</th>\n",
       "      <td>Fuji apples, ascorbic acid, citric acid.</td>\n",
       "    </tr>\n",
       "    <tr>\n",
       "      <th>387</th>\n",
       "      <td>Dried apricots, natural flavors, sulfur dioxide (to preserve flavor), citric acid, ascorbic acid, malic acid.</td>\n",
       "    </tr>\n",
       "    <tr>\n",
       "      <th>404</th>\n",
       "      <td>Grape juice, concentrate, corn syrup, sugar, modified food starch, apple puree, gelatin, citric acid, sodium citrate, ascorbic acid (vitamin c), natural and artificial flavors, fd&amp;c red 40, yellow 5, blue 1, red 3, carnauba wax.</td>\n",
       "    </tr>\n",
       "    <tr>\n",
       "      <th>405</th>\n",
       "      <td>Grape juice concentrate, corn syrup, modified food starch, apple puree, gelatin, citric acid, sodium citrate, ascorbic acid (vitamin c), natural &amp; artificial flavors, fd&amp;c red 40, yellow 5, blue 1, red 3, carnauba wax.</td>\n",
       "    </tr>\n",
       "    <tr>\n",
       "      <th>406</th>\n",
       "      <td>Sugar, white grape juice from concentrate, corn syrup, modified corn starch, gelatin, citric acid, apple puree, natural and artificial flavors, sodium citrate, ascorbic acid (vitamin c), carnauba wax, artificial colors (fd&amp;c red 40, yellow 5, yellow 6, re</td>\n",
       "    </tr>\n",
       "    <tr>\n",
       "      <th>407</th>\n",
       "      <td>Corn syrup, sugar, water, apple juice concentrate, modified food starch (corn), gelatin, dextrose, apple puree, citric acid, natural &amp; artificial flavor, ascorbic acid (vitamin c), mineral oil, carnauba wax, artificial colors (fd&amp;c red 40, yellow 5, yello</td>\n",
       "    </tr>\n",
       "    <tr>\n",
       "      <th>427</th>\n",
       "      <td>Organic coconut water, ascorbic acid.</td>\n",
       "    </tr>\n",
       "    <tr>\n",
       "      <th>703</th>\n",
       "      <td>Organic whole grain and seed blend (organic oats, organic cracked wheat, organic barley flakes, organic triticale flakes, organic soft white wheat flakes, organic rye flakes, organic amaranth, organic brown flax seed, organic yellow corn meal, organic wheat bran), filtered water, organic enriched unbleached wheat flour (organic wheat flour, niacin, reduced iron, thiamin mononitrate, riboflavin and folic acid), organic whole wheat flour, organic vital wheat gluten, organic dried cane syrup, organic brown sugar, contains 2% or less of each of the following: yeast, organic whole grain oats, organic sunflower seeds, sea salt, organic soybean oil, organic cultured wheat flour, enzymes, ascorbic acid.</td>\n",
       "    </tr>\n",
       "    <tr>\n",
       "      <th>705</th>\n",
       "      <td>Ingredients: organic whole grains (organic whole cracked wheat, organic whole wheat flour), filtered water, organic enriched unbleached wheat flour (organic wheat flour, niacin, reduced iron, thiamin mononitrate, riboflavin and folic acid), organic grain and seed blend (organic whole brown flax seed, organic sunflower seed kernels, organic sesame seeds, organic black sesame seeds, organic blue poppy seeds, organic quinoa, organic red quinoa, organic black quinoa), organic dried cane syrup, organic vital wheat gluten, yeast, organic agave nectar, contains 2% or less of each of the following: organic sunflower seeds, organic pumpkin seeds, organic whole grain steel cut oats, organic oat fiber, sea salt, organic soybean oil, organic cultured wheat flour, enzymes, ascorbic acid.</td>\n",
       "    </tr>\n",
       "    <tr>\n",
       "      <th>720</th>\n",
       "      <td>Tomato puree (water, tomato paste, high fructose corn syrup, water, wheat flour, contains 2% or less of the following: salt, ascorbic acid, natural flavor.</td>\n",
       "    </tr>\n",
       "    <tr>\n",
       "      <th>785</th>\n",
       "      <td>Lentils, water, salt, antioxidant: ascorbic acid.</td>\n",
       "    </tr>\n",
       "    <tr>\n",
       "      <th>1077</th>\n",
       "      <td>Butter beans, water, salt, ascorbic acid.</td>\n",
       "    </tr>\n",
       "    <tr>\n",
       "      <th>1293</th>\n",
       "      <td>Sugar, maltodextrin, gum arabic, tartaric acid, rice starch, natural and artificial flavors, magnesium stearate, malic acid, citric acid, ascorbic acid, dried lemon juice, carnauba wax, red 40, blue 1.</td>\n",
       "    </tr>\n",
       "    <tr>\n",
       "      <th>1302</th>\n",
       "      <td>Sugar, maltodextrin, tartaric acid, natural and artificial flavors, rice starch, gum arabic, magnesium stearate, ascorbic acid, yellow 6, carnauba wax.</td>\n",
       "    </tr>\n",
       "    <tr>\n",
       "      <th>1303</th>\n",
       "      <td>Sugar, maltodextrin, gun arabic, tartaric acid, rice starch, natural and artificial flavors, magnesium stearate, citric acid, dried lemon juice, ascorbic acid, carnauba wax, blue 1.</td>\n",
       "    </tr>\n",
       "    <tr>\n",
       "      <th>1306</th>\n",
       "      <td>Sugar, dextrin, gum arabic, tartaric acid, rice starch, natural and artificial flavors, malic acid, magnesium stearate, citric acid, dried acerola extract, dried green apple carnauba wax, ascorbic acid, yellow 6, yellow 5, red 40, blue 1.</td>\n",
       "    </tr>\n",
       "    <tr>\n",
       "      <th>1307</th>\n",
       "      <td>Sugar, dextrin, gum arabic, tartaric acid, rice starch, natural and artificial flavors, malic acid, magnesium stearate, citric acid, dried acerola extract, dried green apple, carnauba wax, ascorbic acid, yellow 6, yellow 5, red 40, blue 1.</td>\n",
       "    </tr>\n",
       "    <tr>\n",
       "      <th>1309</th>\n",
       "      <td>Sugar, maltodextrin, tartaric acid, natural and artificial flavors, rice starch, gum arabic, magnesium, ascorbic acid, yellow 6, carnauba wax.</td>\n",
       "    </tr>\n",
       "    <tr>\n",
       "      <th>...</th>\n",
       "      <td>...</td>\n",
       "    </tr>\n",
       "    <tr>\n",
       "      <th>339435</th>\n",
       "      <td>Water, pitted green manzanilla olive, salt, acidifying (citric and lactic acids), antioxidant (l-ascorbic acid).</td>\n",
       "    </tr>\n",
       "    <tr>\n",
       "      <th>340200</th>\n",
       "      <td>Loquat, sugar, water and citric acid, antioxidant: ascorbic acid</td>\n",
       "    </tr>\n",
       "    <tr>\n",
       "      <th>340288</th>\n",
       "      <td>Water, green manzanilla olives, anchovy (fish), salt, flavor enhancer: potasium sorbate, acidifier: citric acid and lactic acid, stabilizer: sodium alginate, antioxidant: ascorbic acid.</td>\n",
       "    </tr>\n",
       "    <tr>\n",
       "      <th>340801</th>\n",
       "      <td>Pitted gordal olives, water and salt, green chilli, disodium guanylate, disodium inosinate and monosodium glutamate, citric acid, lactic acid and ascorbic acid.</td>\n",
       "    </tr>\n",
       "    <tr>\n",
       "      <th>340802</th>\n",
       "      <td>Pitted gordal olives, water and salt, citric acid, lactic acid and ascorbic acid.</td>\n",
       "    </tr>\n",
       "    <tr>\n",
       "      <th>340803</th>\n",
       "      <td>Pitted manzanilla olives, water and salt, citric acid, lactic acid and ascorbic acid.</td>\n",
       "    </tr>\n",
       "    <tr>\n",
       "      <th>340804</th>\n",
       "      <td>Cracked verdial olives, water and salt, red pepper, garlic, vinegar, cumin, oregano, lactic acid and ascorbic acid.</td>\n",
       "    </tr>\n",
       "    <tr>\n",
       "      <th>340805</th>\n",
       "      <td>Whole manzanilla olives, water and salt, disodium guanylate, disodium inosinate and monosodium glutamate, citric acid, lactic acid and ascorbic acid.</td>\n",
       "    </tr>\n",
       "    <tr>\n",
       "      <th>343332</th>\n",
       "      <td>Hard apple cider, pear juice from concentrate, sugar, less than 0.5% of: artificial flavor, potassium sorbate and potassium metabisulphate (to preserve freshness), ascorbic acid (to protect flavor), lightly carbonated.</td>\n",
       "    </tr>\n",
       "    <tr>\n",
       "      <th>345517</th>\n",
       "      <td>Filtered water, organic lemon juice, organic cane sugar, organic natural flavors, ascorbic acid.</td>\n",
       "    </tr>\n",
       "    <tr>\n",
       "      <th>345519</th>\n",
       "      <td>Purified water, kevita probiotic culture* (bacillus coagulans gbi-30 6086, l.rhamnosus, l.plantarum, l.paracasei), apple cider vinegar*, apple juice concentrate*, fruit and vegetable juice (for color)*, tangerine whole plan extract*, ascorbic acid (vitami</td>\n",
       "    </tr>\n",
       "    <tr>\n",
       "      <th>345702</th>\n",
       "      <td>Filtered water, natural flavors (lemon &amp; other), natural erythritol (natural sweetener), malic acid, green tea†*, stevia, citric acid, ascorbic acid (vitamin c).</td>\n",
       "    </tr>\n",
       "    <tr>\n",
       "      <th>345718</th>\n",
       "      <td>Water, high fructose corn syrup, citric acid, potassium sorbate and sodium benzoate (as preservatives), malic acid, modified food starch, corn oil, ascorbic acid, xanthan gum, sodium citrate, natural and artificial flavor, sucralose, yellow 5, yellow 6, s</td>\n",
       "    </tr>\n",
       "    <tr>\n",
       "      <th>346103</th>\n",
       "      <td>Cane sugar, dextrose, sodium citrate, citric acid, magnesium lactate, calcium citrate, lemon juice powder, lime juice powder, potassium citrate, ascorbic acid (vitamin c)</td>\n",
       "    </tr>\n",
       "    <tr>\n",
       "      <th>346376</th>\n",
       "      <td>Water, fruit pop, sugar, xanthan gum, citric acid, ascorbic acid, sodium benzoate &amp; sodium metabisulfite, beta-carotene and flavor (mango, orange, pineapple).</td>\n",
       "    </tr>\n",
       "    <tr>\n",
       "      <th>350634</th>\n",
       "      <td>Enriched flour (wheat flour, niacin, reduced iron, thiamine mononitrate, riboflavin, folic acid), water, sprouted wheat flour, sea salt (salt, magnesium carbonate), yeast, vital wheat gluten, enzymes, dough conditioner (wheat gluten, ascorbic acid), ascor</td>\n",
       "    </tr>\n",
       "    <tr>\n",
       "      <th>350702</th>\n",
       "      <td>Peach puree, papaya puree, cane sugar, red grape juice concentrate, carrageenan, locust bean gum, natural flavors, potassium citrate, citric acid, ascorbic acid (to promote color retention), and sodium metabisulfite (preservative).</td>\n",
       "    </tr>\n",
       "    <tr>\n",
       "      <th>350833</th>\n",
       "      <td>Purified water, roasted corn, concentrated brown rice extracts, corn flavor, corn silk extracts, sodium hydrogen carbonate, l-ascorbic acid.</td>\n",
       "    </tr>\n",
       "    <tr>\n",
       "      <th>350949</th>\n",
       "      <td>Crystallized citron, sugar, water, honey, cmc(sodium carboxymethylcellulose), citric acid, l-ascorbic acid(vitamin c)</td>\n",
       "    </tr>\n",
       "    <tr>\n",
       "      <th>351067</th>\n",
       "      <td>Apples, ascorbic acid (vitamin c) to promote whiteness and calcium carbonate to maintain texture.</td>\n",
       "    </tr>\n",
       "    <tr>\n",
       "      <th>352060</th>\n",
       "      <td>Water, aloe vera juice and aloe vera pulp bits (19.5%), soucrose, peach juice (5.5%), peach flavor, citric acid (e330), sodium citrate (e331), ascorbic acid (e300).</td>\n",
       "    </tr>\n",
       "    <tr>\n",
       "      <th>352116</th>\n",
       "      <td>Wheat flour (70%), sugar, vegetable fat, milk and skimmed milk powder (4.1%), butter, yeast, salt, enzyme (amylase), emulsifier [sodium stearoyl-2-lactylate] and antioxidant (ascorbic acid)</td>\n",
       "    </tr>\n",
       "    <tr>\n",
       "      <th>352197</th>\n",
       "      <td>Water, mango pulp [16.2%], sugar, acidity regulator [citric acid], antioxidant [ascorbic acid], artificial mango flavor and colour fd &amp; c yellow no. 6</td>\n",
       "    </tr>\n",
       "    <tr>\n",
       "      <th>353460</th>\n",
       "      <td>Filtered water, sugar, mango puree, pear juice from concentrate, citric acid, ascorbic acid (vitamin c), beta carotene for color, natural flavors, gum acacia, ester gum.</td>\n",
       "    </tr>\n",
       "    <tr>\n",
       "      <th>354759</th>\n",
       "      <td>Carbonated water, cane sugar, lime juice from concentrate brew (2.4%) (water, cane sugar, gentian root, yeast), lemon juice (ascorbic acid), flavor, preservative benzoate, sulphur dioxide), juice, tomato lycopene extract)</td>\n",
       "    </tr>\n",
       "    <tr>\n",
       "      <th>354764</th>\n",
       "      <td>Carbonated water, cane sugar, peach juice from concentrate (5%), peach brew (water, peach fruit, sugar, yeast), flavourings, acid (citric acid), preservatives (e202, e211), colours (mixed carotenes, lycopene), stabiliser (e415), antioxidant (ascorbic acid</td>\n",
       "    </tr>\n",
       "    <tr>\n",
       "      <th>354768</th>\n",
       "      <td>Carbonated water, cane sugar, peach juice from concentrate (5%), peach brew (water, peach fruit, sugar, yeast), flavourings, acid (citric acid), preservatives (e202, e211), colours (mixed carotenes, lycopene), stabiliser (e415), antioxidant (ascorbic acid</td>\n",
       "    </tr>\n",
       "    <tr>\n",
       "      <th>355181</th>\n",
       "      <td>Apples, water, ascorbic acid (vitamin c), erythorbic acid (to maintain color).</td>\n",
       "    </tr>\n",
       "    <tr>\n",
       "      <th>355240</th>\n",
       "      <td>Almond milk, (filtered water, almond paste), apple juice, shredded apple, whole grain oats, chia seed, walnuts, acai puree, coconut sugar, virgin coconut oil, dried blueberries, ascorbic acid (vitamin c).</td>\n",
       "    </tr>\n",
       "    <tr>\n",
       "      <th>355241</th>\n",
       "      <td>Almond milk (filtered water and almond paste), apple juice, shredded apple, chia seeds, whole grain oats, pistachios, coconut sugar, virgin coconut oil, dried cranberries, ascorbic acid (vitamin c).</td>\n",
       "    </tr>\n",
       "  </tbody>\n",
       "</table>\n",
       "<p>9607 rows × 1 columns</p>\n",
       "</div>"
      ],
      "text/plain": [
       "                                                                                                                                                                                                                                                                                                                                                                                                                                                                                                                                                                                                                                                                                                                                                                                                         ingredients_text\n",
       "200     Wheat flour, butter (cream), water, yeast, sugar, salt, eggs, wheat gluten, ascorbic acid, enzymes.                                                                                                                                                                                                                                                                                                                                                                                                                                                                                                                                                                                                                                                                                                              \n",
       "202     Enriched wheat flour (wheat flour niacin, reduced iron, thiamine mononitrate, riboflavin, folic acid) malted barley flour, water, soybean oil, wheat gluten, yeast, sugar, salt, calcium sulfate, ascorbic acid, enzymes, sorbic acid, vegetable oil, monoglyce                                                                                                                                                                                                                                                                                                                                                                                                                                                                                                                                                  \n",
       "212     Enriched wheatflour (wheat flour, niacin, reduced iron, thiamin mononitrate, riboflavin, folic acid), water, yeast, vegetable oil, salt, dough improver (yeast, wheatflour. enzymes, soybean oil, ascorbic acid).                                                                                                                                                                                                                                                                                                                                                                                                                                                                                                                                                                                                \n",
       "215     Pastry: unbleached wheat flour (wheat flour, malted barley flour, niacin, iron, thiamine mononitrate, riboflavin, folic acid), water, non hydrogenated palm oil, sugar, salt, ascorbic acid, beta carotene. filling: cherries, sugar, water, corn syrup, modifi                                                                                                                                                                                                                                                                                                                                                                                                                                                                                                                                                  \n",
       "216     Pastry: unbleached wheat flour (wheat flour, malted barley flour, niacin, iron, thiamine mononitrate, riboflavin, folic acid), water, non hydrogenated palm oil, sugar, salt, ascorbic acid, beta carotene. filling: apples, sugar, water, corn syrup, modified                                                                                                                                                                                                                                                                                                                                                                                                                                                                                                                                                  \n",
       "218     Pastry dough [unbleached enriched wheat flour (wheat flour, malted barley flour, ascorbic acid, niacin, thiamin mononitrate, riboflavin, folic acid), water, shortening (palm oil, beta-carotene [for color]), sugar, salt], fruit filling [water, sugar, apple                                                                                                                                                                                                                                                                                                                                                                                                                                                                                                                                                  \n",
       "219     Wheat flour, butter, water, chocolate (sugar, cocoa mass, cocoa butter, natural vanilla flavor, soy lecithin), sugar, yeast, whole milk powder, salt, wheat gluten, rapeseed oil lecithin, egg wash (eggs, water), ascorbic acid, enzymes.                                                                                                                                                                                                                                                                                                                                                                                                                                                                                                                                                                       \n",
       "338     Water, xylitol, citric acid, lactic acid, apple juice concentrate*, ascorbic acid, malic acid, natural and artificial flavors, sucralose, blueberry juice concentrate, sodium benzoate and potassium sorbate (as a preservative).                                                                                                                                                                                                                                                                                                                                                                                                                                                                                                                                                                                \n",
       "339     Water, glycerin, citric acid, xylitol, apple juice concentrate*, ascorbic acid, xanthan gum, sucralose, malic acid, natural and artificial flavors, sodium benzoate and potassium sorbate (as preservatives), yellow #5, blue #1.                                                                                                                                                                                                                                                                                                                                                                                                                                                                                                                                                                                \n",
       "359     Concentrated apple puree, concentrated apple juice, ascorbic acid (vitamin c), natural pineapple flavor, natural mango flavor, concentrated black carrot juice (for color), pectin, coconut oil, shellac, beeswax.                                                                                                                                                                                                                                                                                                                                                                                                                                                                                                                                                                                               \n",
       "360     Concentrated apple puree, concentrated apple juice, ascorbic acid (vitamin c), natural blueberry flavor, natural pomegranate flavor, concentrated black carrot juice (for color), pectin, coconut oil, shellac, beeswax.                                                                                                                                                                                                                                                                                                                                                                                                                                                                                                                                                                                         \n",
       "374     Corn syrup, sugar, water, apple juice concentrate, modified food starch (corn), gelatin, dextrose, apple puree, citric acid, artificial flavor, ascorbic acid, mineral oil, carnuba wax, artificial colors (fd&c red 40, yellow 5, blue 1).                                                                                                                                                                                                                                                                                                                                                                                                                                                                                                                                                                      \n",
       "379     Fuji apples, ascorbic acid, citric acid.                                                                                                                                                                                                                                                                                                                                                                                                                                                                                                                                                                                                                                                                                                                                                                         \n",
       "387     Dried apricots, natural flavors, sulfur dioxide (to preserve flavor), citric acid, ascorbic acid, malic acid.                                                                                                                                                                                                                                                                                                                                                                                                                                                                                                                                                                                                                                                                                                    \n",
       "404     Grape juice, concentrate, corn syrup, sugar, modified food starch, apple puree, gelatin, citric acid, sodium citrate, ascorbic acid (vitamin c), natural and artificial flavors, fd&c red 40, yellow 5, blue 1, red 3, carnauba wax.                                                                                                                                                                                                                                                                                                                                                                                                                                                                                                                                                                             \n",
       "405     Grape juice concentrate, corn syrup, modified food starch, apple puree, gelatin, citric acid, sodium citrate, ascorbic acid (vitamin c), natural & artificial flavors, fd&c red 40, yellow 5, blue 1, red 3, carnauba wax.                                                                                                                                                                                                                                                                                                                                                                                                                                                                                                                                                                                       \n",
       "406     Sugar, white grape juice from concentrate, corn syrup, modified corn starch, gelatin, citric acid, apple puree, natural and artificial flavors, sodium citrate, ascorbic acid (vitamin c), carnauba wax, artificial colors (fd&c red 40, yellow 5, yellow 6, re                                                                                                                                                                                                                                                                                                                                                                                                                                                                                                                                                  \n",
       "407     Corn syrup, sugar, water, apple juice concentrate, modified food starch (corn), gelatin, dextrose, apple puree, citric acid, natural & artificial flavor, ascorbic acid (vitamin c), mineral oil, carnauba wax, artificial colors (fd&c red 40, yellow 5, yello                                                                                                                                                                                                                                                                                                                                                                                                                                                                                                                                                  \n",
       "427     Organic coconut water, ascorbic acid.                                                                                                                                                                                                                                                                                                                                                                                                                                                                                                                                                                                                                                                                                                                                                                            \n",
       "703     Organic whole grain and seed blend (organic oats, organic cracked wheat, organic barley flakes, organic triticale flakes, organic soft white wheat flakes, organic rye flakes, organic amaranth, organic brown flax seed, organic yellow corn meal, organic wheat bran), filtered water, organic enriched unbleached wheat flour (organic wheat flour, niacin, reduced iron, thiamin mononitrate, riboflavin and folic acid), organic whole wheat flour, organic vital wheat gluten, organic dried cane syrup, organic brown sugar, contains 2% or less of each of the following: yeast, organic whole grain oats, organic sunflower seeds, sea salt, organic soybean oil, organic cultured wheat flour, enzymes, ascorbic acid.                                                                                 \n",
       "705     Ingredients: organic whole grains (organic whole cracked wheat, organic whole wheat flour), filtered water, organic enriched unbleached wheat flour (organic wheat flour, niacin, reduced iron, thiamin mononitrate, riboflavin and folic acid), organic grain and seed blend (organic whole brown flax seed, organic sunflower seed kernels, organic sesame seeds, organic black sesame seeds, organic blue poppy seeds, organic quinoa, organic red quinoa, organic black quinoa), organic dried cane syrup, organic vital wheat gluten, yeast, organic agave nectar, contains 2% or less of each of the following: organic sunflower seeds, organic pumpkin seeds, organic whole grain steel cut oats, organic oat fiber, sea salt, organic soybean oil, organic cultured wheat flour, enzymes, ascorbic acid.\n",
       "720     Tomato puree (water, tomato paste, high fructose corn syrup, water, wheat flour, contains 2% or less of the following: salt, ascorbic acid, natural flavor.                                                                                                                                                                                                                                                                                                                                                                                                                                                                                                                                                                                                                                                      \n",
       "785     Lentils, water, salt, antioxidant: ascorbic acid.                                                                                                                                                                                                                                                                                                                                                                                                                                                                                                                                                                                                                                                                                                                                                                \n",
       "1077    Butter beans, water, salt, ascorbic acid.                                                                                                                                                                                                                                                                                                                                                                                                                                                                                                                                                                                                                                                                                                                                                                        \n",
       "1293    Sugar, maltodextrin, gum arabic, tartaric acid, rice starch, natural and artificial flavors, magnesium stearate, malic acid, citric acid, ascorbic acid, dried lemon juice, carnauba wax, red 40, blue 1.                                                                                                                                                                                                                                                                                                                                                                                                                                                                                                                                                                                                        \n",
       "1302    Sugar, maltodextrin, tartaric acid, natural and artificial flavors, rice starch, gum arabic, magnesium stearate, ascorbic acid, yellow 6, carnauba wax.                                                                                                                                                                                                                                                                                                                                                                                                                                                                                                                                                                                                                                                          \n",
       "1303    Sugar, maltodextrin, gun arabic, tartaric acid, rice starch, natural and artificial flavors, magnesium stearate, citric acid, dried lemon juice, ascorbic acid, carnauba wax, blue 1.                                                                                                                                                                                                                                                                                                                                                                                                                                                                                                                                                                                                                            \n",
       "1306    Sugar, dextrin, gum arabic, tartaric acid, rice starch, natural and artificial flavors, malic acid, magnesium stearate, citric acid, dried acerola extract, dried green apple carnauba wax, ascorbic acid, yellow 6, yellow 5, red 40, blue 1.                                                                                                                                                                                                                                                                                                                                                                                                                                                                                                                                                                   \n",
       "1307    Sugar, dextrin, gum arabic, tartaric acid, rice starch, natural and artificial flavors, malic acid, magnesium stearate, citric acid, dried acerola extract, dried green apple, carnauba wax, ascorbic acid, yellow 6, yellow 5, red 40, blue 1.                                                                                                                                                                                                                                                                                                                                                                                                                                                                                                                                                                  \n",
       "1309    Sugar, maltodextrin, tartaric acid, natural and artificial flavors, rice starch, gum arabic, magnesium, ascorbic acid, yellow 6, carnauba wax.                                                                                                                                                                                                                                                                                                                                                                                                                                                                                                                                                                                                                                                                   \n",
       "...                                                                                                                                                ...                                                                                                                                                                                                                                                                                                                                                                                                                                                                                                                                                                                                                                                                   \n",
       "339435  Water, pitted green manzanilla olive, salt, acidifying (citric and lactic acids), antioxidant (l-ascorbic acid).                                                                                                                                                                                                                                                                                                                                                                                                                                                                                                                                                                                                                                                                                                 \n",
       "340200  Loquat, sugar, water and citric acid, antioxidant: ascorbic acid                                                                                                                                                                                                                                                                                                                                                                                                                                                                                                                                                                                                                                                                                                                                                 \n",
       "340288  Water, green manzanilla olives, anchovy (fish), salt, flavor enhancer: potasium sorbate, acidifier: citric acid and lactic acid, stabilizer: sodium alginate, antioxidant: ascorbic acid.                                                                                                                                                                                                                                                                                                                                                                                                                                                                                                                                                                                                                        \n",
       "340801  Pitted gordal olives, water and salt, green chilli, disodium guanylate, disodium inosinate and monosodium glutamate, citric acid, lactic acid and ascorbic acid.                                                                                                                                                                                                                                                                                                                                                                                                                                                                                                                                                                                                                                                 \n",
       "340802  Pitted gordal olives, water and salt, citric acid, lactic acid and ascorbic acid.                                                                                                                                                                                                                                                                                                                                                                                                                                                                                                                                                                                                                                                                                                                                \n",
       "340803  Pitted manzanilla olives, water and salt, citric acid, lactic acid and ascorbic acid.                                                                                                                                                                                                                                                                                                                                                                                                                                                                                                                                                                                                                                                                                                                            \n",
       "340804  Cracked verdial olives, water and salt, red pepper, garlic, vinegar, cumin, oregano, lactic acid and ascorbic acid.                                                                                                                                                                                                                                                                                                                                                                                                                                                                                                                                                                                                                                                                                              \n",
       "340805  Whole manzanilla olives, water and salt, disodium guanylate, disodium inosinate and monosodium glutamate, citric acid, lactic acid and ascorbic acid.                                                                                                                                                                                                                                                                                                                                                                                                                                                                                                                                                                                                                                                            \n",
       "343332  Hard apple cider, pear juice from concentrate, sugar, less than 0.5% of: artificial flavor, potassium sorbate and potassium metabisulphate (to preserve freshness), ascorbic acid (to protect flavor), lightly carbonated.                                                                                                                                                                                                                                                                                                                                                                                                                                                                                                                                                                                       \n",
       "345517  Filtered water, organic lemon juice, organic cane sugar, organic natural flavors, ascorbic acid.                                                                                                                                                                                                                                                                                                                                                                                                                                                                                                                                                                                                                                                                                                                 \n",
       "345519  Purified water, kevita probiotic culture* (bacillus coagulans gbi-30 6086, l.rhamnosus, l.plantarum, l.paracasei), apple cider vinegar*, apple juice concentrate*, fruit and vegetable juice (for color)*, tangerine whole plan extract*, ascorbic acid (vitami                                                                                                                                                                                                                                                                                                                                                                                                                                                                                                                                                  \n",
       "345702  Filtered water, natural flavors (lemon & other), natural erythritol (natural sweetener), malic acid, green tea†*, stevia, citric acid, ascorbic acid (vitamin c).                                                                                                                                                                                                                                                                                                                                                                                                                                                                                                                                                                                                                                                \n",
       "345718  Water, high fructose corn syrup, citric acid, potassium sorbate and sodium benzoate (as preservatives), malic acid, modified food starch, corn oil, ascorbic acid, xanthan gum, sodium citrate, natural and artificial flavor, sucralose, yellow 5, yellow 6, s                                                                                                                                                                                                                                                                                                                                                                                                                                                                                                                                                  \n",
       "346103  Cane sugar, dextrose, sodium citrate, citric acid, magnesium lactate, calcium citrate, lemon juice powder, lime juice powder, potassium citrate, ascorbic acid (vitamin c)                                                                                                                                                                                                                                                                                                                                                                                                                                                                                                                                                                                                                                       \n",
       "346376  Water, fruit pop, sugar, xanthan gum, citric acid, ascorbic acid, sodium benzoate & sodium metabisulfite, beta-carotene and flavor (mango, orange, pineapple).                                                                                                                                                                                                                                                                                                                                                                                                                                                                                                                                                                                                                                                   \n",
       "350634  Enriched flour (wheat flour, niacin, reduced iron, thiamine mononitrate, riboflavin, folic acid), water, sprouted wheat flour, sea salt (salt, magnesium carbonate), yeast, vital wheat gluten, enzymes, dough conditioner (wheat gluten, ascorbic acid), ascor                                                                                                                                                                                                                                                                                                                                                                                                                                                                                                                                                  \n",
       "350702  Peach puree, papaya puree, cane sugar, red grape juice concentrate, carrageenan, locust bean gum, natural flavors, potassium citrate, citric acid, ascorbic acid (to promote color retention), and sodium metabisulfite (preservative).                                                                                                                                                                                                                                                                                                                                                                                                                                                                                                                                                                          \n",
       "350833  Purified water, roasted corn, concentrated brown rice extracts, corn flavor, corn silk extracts, sodium hydrogen carbonate, l-ascorbic acid.                                                                                                                                                                                                                                                                                                                                                                                                                                                                                                                                                                                                                                                                     \n",
       "350949  Crystallized citron, sugar, water, honey, cmc(sodium carboxymethylcellulose), citric acid, l-ascorbic acid(vitamin c)                                                                                                                                                                                                                                                                                                                                                                                                                                                                                                                                                                                                                                                                                            \n",
       "351067  Apples, ascorbic acid (vitamin c) to promote whiteness and calcium carbonate to maintain texture.                                                                                                                                                                                                                                                                                                                                                                                                                                                                                                                                                                                                                                                                                                                \n",
       "352060  Water, aloe vera juice and aloe vera pulp bits (19.5%), soucrose, peach juice (5.5%), peach flavor, citric acid (e330), sodium citrate (e331), ascorbic acid (e300).                                                                                                                                                                                                                                                                                                                                                                                                                                                                                                                                                                                                                                             \n",
       "352116  Wheat flour (70%), sugar, vegetable fat, milk and skimmed milk powder (4.1%), butter, yeast, salt, enzyme (amylase), emulsifier [sodium stearoyl-2-lactylate] and antioxidant (ascorbic acid)                                                                                                                                                                                                                                                                                                                                                                                                                                                                                                                                                                                                                    \n",
       "352197  Water, mango pulp [16.2%], sugar, acidity regulator [citric acid], antioxidant [ascorbic acid], artificial mango flavor and colour fd & c yellow no. 6                                                                                                                                                                                                                                                                                                                                                                                                                                                                                                                                                                                                                                                           \n",
       "353460  Filtered water, sugar, mango puree, pear juice from concentrate, citric acid, ascorbic acid (vitamin c), beta carotene for color, natural flavors, gum acacia, ester gum.                                                                                                                                                                                                                                                                                                                                                                                                                                                                                                                                                                                                                                        \n",
       "354759  Carbonated water, cane sugar, lime juice from concentrate brew (2.4%) (water, cane sugar, gentian root, yeast), lemon juice (ascorbic acid), flavor, preservative benzoate, sulphur dioxide), juice, tomato lycopene extract)                                                                                                                                                                                                                                                                                                                                                                                                                                                                                                                                                                                    \n",
       "354764  Carbonated water, cane sugar, peach juice from concentrate (5%), peach brew (water, peach fruit, sugar, yeast), flavourings, acid (citric acid), preservatives (e202, e211), colours (mixed carotenes, lycopene), stabiliser (e415), antioxidant (ascorbic acid                                                                                                                                                                                                                                                                                                                                                                                                                                                                                                                                                  \n",
       "354768  Carbonated water, cane sugar, peach juice from concentrate (5%), peach brew (water, peach fruit, sugar, yeast), flavourings, acid (citric acid), preservatives (e202, e211), colours (mixed carotenes, lycopene), stabiliser (e415), antioxidant (ascorbic acid                                                                                                                                                                                                                                                                                                                                                                                                                                                                                                                                                  \n",
       "355181  Apples, water, ascorbic acid (vitamin c), erythorbic acid (to maintain color).                                                                                                                                                                                                                                                                                                                                                                                                                                                                                                                                                                                                                                                                                                                                   \n",
       "355240  Almond milk, (filtered water, almond paste), apple juice, shredded apple, whole grain oats, chia seed, walnuts, acai puree, coconut sugar, virgin coconut oil, dried blueberries, ascorbic acid (vitamin c).                                                                                                                                                                                                                                                                                                                                                                                                                                                                                                                                                                                                     \n",
       "355241  Almond milk (filtered water and almond paste), apple juice, shredded apple, chia seeds, whole grain oats, pistachios, coconut sugar, virgin coconut oil, dried cranberries, ascorbic acid (vitamin c).                                                                                                                                                                                                                                                                                                                                                                                                                                                                                                                                                                                                           \n",
       "\n",
       "[9607 rows x 1 columns]"
      ]
     },
     "metadata": {},
     "output_type": "display_data"
    }
   ],
   "source": [
    "display_allcols_notrunc(df_usa[df_usa['ingredients_text'].str.contains('ascorbic acid')])"
   ]
  },
  {
   "cell_type": "code",
   "execution_count": null,
   "metadata": {},
   "outputs": [],
   "source": []
  }
 ],
 "metadata": {
  "kernelspec": {
   "display_name": "Python 3",
   "language": "python",
   "name": "python3"
  },
  "language_info": {
   "codemirror_mode": {
    "name": "ipython",
    "version": 3
   },
   "file_extension": ".py",
   "mimetype": "text/x-python",
   "name": "python",
   "nbconvert_exporter": "python",
   "pygments_lexer": "ipython3",
   "version": "3.6.7"
  }
 },
 "nbformat": 4,
 "nbformat_minor": 2
}
