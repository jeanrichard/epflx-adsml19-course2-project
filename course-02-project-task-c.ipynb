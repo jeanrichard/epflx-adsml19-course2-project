{
 "cells": [
  {
   "cell_type": "markdown",
   "metadata": {},
   "source": [
    "# Course 2: Project - Task C - Text data"
   ]
  },
  {
   "cell_type": "markdown",
   "metadata": {},
   "source": [
    "<a name=\"top\"></a>\n",
    "This notebook is concerned with task C.\n",
    "\n",
    "**Contents:**\n",
    "* [Imports](#imports)\n",
    "* [Preparatives](#preparatives)\n",
    "* [Data loading](#task-c-data-loading)\n",
    "* [Data exploration](#task-c-data-exploration)\n",
    "* [Implementation & execution](#task-c-implementation-and-execution)\n",
    "* [Results](#task-c-results)"
   ]
  },
  {
   "cell_type": "markdown",
   "metadata": {},
   "source": [
    "## Imports<a name=\"imports\"></a> ([top](#top))\n",
    "---"
   ]
  },
  {
   "cell_type": "code",
   "execution_count": 5,
   "metadata": {},
   "outputs": [],
   "source": [
    "# Standard library:\n",
    "import functools\n",
    "import itertools\n",
    "import pathlib\n",
    "import re\n",
    "import typing as t\n",
    "import unicodedata\n",
    "\n",
    "# 3rd party:\n",
    "import numpy as np\n",
    "import matplotlib.pyplot as plt\n",
    "import pandas as pd\n",
    "import pandas.io.formats.style\n",
    "import seaborn as sns\n",
    "\n",
    "# Project:\n",
    "import ingredients\n",
    "import importlib\n",
    "importlib.reload(ingredients)\n",
    "\n",
    "%matplotlib inline"
   ]
  },
  {
   "cell_type": "markdown",
   "metadata": {},
   "source": [
    "## Preparatives<a name=\"preparatives\"></a> ([top](#top))\n",
    "---"
   ]
  },
  {
   "cell_type": "markdown",
   "metadata": {},
   "source": [
    "This section regroups utility functions, etc. that we will use later in this notebook."
   ]
  },
  {
   "cell_type": "markdown",
   "metadata": {},
   "source": [
    "**/!\\ TODO: Load the cleaned-up data-frame once it is available!**"
   ]
  },
  {
   "cell_type": "markdown",
   "metadata": {},
   "source": [
    "### Utilities"
   ]
  },
  {
   "cell_type": "code",
   "execution_count": 4,
   "metadata": {},
   "outputs": [],
   "source": [
    "@functools.wraps(display)  # nicer for interactive use\n",
    "def display_allcols(*args, **kwargs):\n",
    "    \"\"\"Behaves exactly like ``display`` but in a context where Pandas display all columns.\"\"\"\n",
    "    with pd.option_context('display.max_columns', None):\n",
    "        display(*args, **kwargs)\n",
    "        \n",
    "        \n",
    "@functools.wraps(display)  # nicer for interactive use\n",
    "def display_allcols_notrunc(*args, **kwargs):\n",
    "    \"\"\"Behaves exactly like ``display`` but in a context where Pandas display all columns with no truncation.\"\"\"\n",
    "    with pd.option_context('display.max_columns', None, 'display.max_colwidth', -1):\n",
    "        display(*args, **kwargs)\n",
    "\n",
    "\n",
    "def move_after(words: t.List[str], word: str, word_to_move: str) -> t.List[str]:\n",
    "    \"\"\"Utility function to re-order columns.\"\"\"\n",
    "    try:\n",
    "        word_idx = words.index(word)\n",
    "        word_to_move_idx = words.index(word_to_move)\n",
    "    except ValueError:\n",
    "        pass\n",
    "    else:\n",
    "        if word_idx < word_to_move_idx:\n",
    "            words.pop(word_to_move_idx)\n",
    "            words.insert(word_idx + 1, word_to_move)\n",
    "        else:\n",
    "            words.insert(word_idx + 1, word_to_move)\n",
    "            words.pop(word_to_move_idx)\n",
    "    return words"
   ]
  },
  {
   "cell_type": "markdown",
   "metadata": {},
   "source": [
    "## Data loading<a name=\"task-c-data-loading\"></a> ([top](#top))\n",
    "---"
   ]
  },
  {
   "cell_type": "markdown",
   "metadata": {},
   "source": [
    "First, we load the subset of the cleaned-up dataset that we need:"
   ]
  },
  {
   "cell_type": "markdown",
   "metadata": {},
   "source": [
    "**/!\\ TODO: Load the cleaned-up data-frame once it is available!**"
   ]
  },
  {
   "cell_type": "code",
   "execution_count": 5,
   "metadata": {},
   "outputs": [],
   "source": [
    "data_filename = pathlib.Path.cwd().joinpath('en.openfoodfacts.org.products.tsv')"
   ]
  },
  {
   "cell_type": "code",
   "execution_count": 6,
   "metadata": {},
   "outputs": [],
   "source": [
    "df = pd.read_csv(data_filename,\n",
    "                 sep='\\t',\n",
    "                 usecols=['countries_tags', 'ingredients_text'],\n",
    "                 lineterminator='\\n')"
   ]
  },
  {
   "cell_type": "code",
   "execution_count": 7,
   "metadata": {},
   "outputs": [
    {
     "name": "stdout",
     "output_type": "stream",
     "text": [
      "the dataset contains 356001 rows and 2 columns\n"
     ]
    }
   ],
   "source": [
    "nrows, ncols = df.shape\n",
    "print(f'the dataset contains {nrows} rows and {ncols} columns')"
   ]
  },
  {
   "cell_type": "markdown",
   "metadata": {},
   "source": [
    "Here are the first few rows:"
   ]
  },
  {
   "cell_type": "code",
   "execution_count": 8,
   "metadata": {},
   "outputs": [
    {
     "data": {
      "text/html": [
       "<div>\n",
       "<style scoped>\n",
       "    .dataframe tbody tr th:only-of-type {\n",
       "        vertical-align: middle;\n",
       "    }\n",
       "\n",
       "    .dataframe tbody tr th {\n",
       "        vertical-align: top;\n",
       "    }\n",
       "\n",
       "    .dataframe thead th {\n",
       "        text-align: right;\n",
       "    }\n",
       "</style>\n",
       "<table border=\"1\" class=\"dataframe\">\n",
       "  <thead>\n",
       "    <tr style=\"text-align: right;\">\n",
       "      <th></th>\n",
       "      <th>countries_tags</th>\n",
       "      <th>ingredients_text</th>\n",
       "    </tr>\n",
       "  </thead>\n",
       "  <tbody>\n",
       "    <tr>\n",
       "      <th>0</th>\n",
       "      <td>en:france</td>\n",
       "      <td>NaN</td>\n",
       "    </tr>\n",
       "    <tr>\n",
       "      <th>1</th>\n",
       "      <td>en:united-states</td>\n",
       "      <td>Bananas, vegetable oil (coconut oil, corn oil ...</td>\n",
       "    </tr>\n",
       "    <tr>\n",
       "      <th>2</th>\n",
       "      <td>en:united-states</td>\n",
       "      <td>Peanuts, wheat flour, sugar, rice flour, tapio...</td>\n",
       "    </tr>\n",
       "    <tr>\n",
       "      <th>3</th>\n",
       "      <td>en:united-states</td>\n",
       "      <td>Organic hazelnuts, organic cashews, organic wa...</td>\n",
       "    </tr>\n",
       "    <tr>\n",
       "      <th>4</th>\n",
       "      <td>en:united-states</td>\n",
       "      <td>Organic polenta</td>\n",
       "    </tr>\n",
       "  </tbody>\n",
       "</table>\n",
       "</div>"
      ],
      "text/plain": [
       "     countries_tags                                   ingredients_text\n",
       "0         en:france                                                NaN\n",
       "1  en:united-states  Bananas, vegetable oil (coconut oil, corn oil ...\n",
       "2  en:united-states  Peanuts, wheat flour, sugar, rice flour, tapio...\n",
       "3  en:united-states  Organic hazelnuts, organic cashews, organic wa...\n",
       "4  en:united-states                                    Organic polenta"
      ]
     },
     "execution_count": 8,
     "metadata": {},
     "output_type": "execute_result"
    }
   ],
   "source": [
    "df.head()"
   ]
  },
  {
   "cell_type": "markdown",
   "metadata": {},
   "source": [
    "## Data exploration<a name=\"task-c-data-exploration\"></a> ([top](#top))\n",
    "---"
   ]
  },
  {
   "cell_type": "markdown",
   "metadata": {},
   "source": [
    "**Observations:** After manually inspecting multiple records (spot-checking), we are able to make the following observations:\n",
    "\n",
    "* **Content:** The majority of entries seem to be valid entries that contain a list of ingredients. Some invalid entries were clearly created on purpose (e.g. for *code: 355951*, we have *product\\_name:* _Ma b***_ (English: _My d***_)). Other invalid entries might be the resulf of a genuine mix-up (e.g. for *code: 355945*, we have *product\\_name:* _La pratique du vocabulaire allemand_ (English: _German vocabulary_)).\n",
    "\n",
    "* **Language:** In the majority of cases, the list of ingredients seem to use a single language. In some cases it uses two or more languages (e.g. for *code: 930*, it uses English, French and Dutch). In the majority of cases the *country\\_tags* column seems to be a good proxy for the language used.\n",
    "\n",
    "* **Format:** The \"ideal\" underlying format seem to be a comma-delimited list of ingredients, where each ingredient may be either \"simple\" or \"composite\". A \"composite\" ingredient is followed by the list of its own ingredients (recursion). The list in question is enclosed in matching parentheses. Very few entries conform to this \"ideal\" format, though. **Parentheses:** In some cases they are used to precise the percentage of an ingredient (e.g. for *code: 155*, we have _\"[...] milk chocolate (32%) (sugar, cocoa butter [...]\"_) or to provide clarification (e.g. for *code: 24* we have _\"[...] soy lecithin (an emulsifier) [...]\"_). Different types of parentheses are used, such as round brackets and square brackets. **Delimiters:** Different types of delimiters are used, such as comma, colon and bullets to name a few."
   ]
  },
  {
   "cell_type": "markdown",
   "metadata": {},
   "source": [
    "**Assumptions:** In order to keep complexity under control, we make the following assumptions:\n",
    "* Entries are valid and contain a list of ingredients.\n",
    "* Entries use a single language. The *country\\_tags* column is a good proxy for the language used.\n",
    "* The format is a delimited list of ingredients (that uses some type of delimiter), where each ingredient may be either \"simple\" or \"composite\". A \"composite\" ingredient is followed by the list of its own ingredients (recursion). The list in questions starts with some type of opening parenthesis and contains at least one ingredient.\n",
    "\n",
    "We expect entries that do not conform to the above to be \"infrequent enough\" so as to not impact the final result."
   ]
  },
  {
   "cell_type": "markdown",
   "metadata": {},
   "source": [
    "**Scope:** Still in order to keep complexity under control, we take the following decisions:\n",
    "* We will limit oursevles to the **USA** and **France**. Each one is a rather large country, with a single official language (that we understand). (For the USA, although there is no official language, English is considered to be the de-facto official language. For France, French is the official language.)"
   ]
  },
  {
   "cell_type": "markdown",
   "metadata": {},
   "source": [
    "## Implementation & execution<a name=\"task-c-implementation-and-execution\"></a> ([top](#top))\n",
    "---"
   ]
  },
  {
   "cell_type": "markdown",
   "metadata": {},
   "source": [
    "### Implementation"
   ]
  },
  {
   "cell_type": "markdown",
   "metadata": {},
   "source": [
    "In order not to clutter the notebook, most of the code is in a separate module - _ingredients.py_."
   ]
  },
  {
   "cell_type": "markdown",
   "metadata": {},
   "source": [
    "**Tokenization:** The first step is to split a given list of ingredients into tokens. For that we decided to hand-roll our own tokenizer. Another way would have been to use NLTK (e.g. the [nltk.chunk](https://www.nltk.org/api/nltk.chunk.html) package) or another 3rd party library. The code is quite short (< 150 lines). We use 2 phases.\n",
    "\n",
    "**Phase 1:** Language agnostic. We use regular expressions to split the text into tokens:\n",
    "* `SPACE`: A sequence of 1+ white spaces\n",
    "* `DELIM`: A delimiter\n",
    "* `LPAR`: A left parenthesis\n",
    "* `RPAR`: A right parenthesis\n",
    "* `FIELD`: This is everything in-between tokens of the above types. If a _'.'_ or a _','_ is surrounded by digits, we consider it as part of a decimal number and do not treat it as a delimiter\n",
    "* `END`: This is an additional type, used to communicate that we reached the end-of-input\n",
    "* `INVALID`: This is an additional type, used to communicate that we encountered an error (and the sequence of characters that had to be skipped until we could re-synchronize with the input)\n",
    "\n",
    "**Phase 2:** Language-specific. Tokens of type `FIELD` are further split on language-specific delimiters (e.g. _and_, _or_, for English; _et_, _ou_ for French)."
   ]
  },
  {
   "cell_type": "code",
   "execution_count": 9,
   "metadata": {},
   "outputs": [],
   "source": [
    "# Order matters due to substrings:\n",
    "delims_en = ['and/or', 'or/and', 'and', 'or']  \n",
    "delims_fr = ['et/ou', 'ou/et', 'et',  'ou']"
   ]
  },
  {
   "cell_type": "markdown",
   "metadata": {},
   "source": [
    "Here is a small example (for each token, we print its type and highlight its position in the text with `[` and `]`):"
   ]
  },
  {
   "cell_type": "code",
   "execution_count": 10,
   "metadata": {},
   "outputs": [
    {
     "name": "stdout",
     "output_type": "stream",
     "text": [
      "FIELD | [Organic dry roasted pumpkin seeds], tamari (soybeans, water and salt), garlic and cayenne.\n",
      "DELIM | Organic dry roasted pumpkin seeds[,] tamari (soybeans, water and salt), garlic and cayenne.\n",
      "FIELD | Organic dry roasted pumpkin seeds, [tamari] (soybeans, water and salt), garlic and cayenne.\n",
      "LPAR  | Organic dry roasted pumpkin seeds, tamari [(]soybeans, water and salt), garlic and cayenne.\n",
      "FIELD | Organic dry roasted pumpkin seeds, tamari ([soybeans], water and salt), garlic and cayenne.\n",
      "DELIM | Organic dry roasted pumpkin seeds, tamari (soybeans[,] water and salt), garlic and cayenne.\n",
      "FIELD | Organic dry roasted pumpkin seeds, tamari (soybeans, [water] and salt), garlic and cayenne.\n",
      "DELIM | Organic dry roasted pumpkin seeds, tamari (soybeans, water [and] salt), garlic and cayenne.\n",
      "FIELD | Organic dry roasted pumpkin seeds, tamari (soybeans, water and [salt]), garlic and cayenne.\n",
      "RPAR  | Organic dry roasted pumpkin seeds, tamari (soybeans, water and salt[)], garlic and cayenne.\n",
      "DELIM | Organic dry roasted pumpkin seeds, tamari (soybeans, water and salt)[,] garlic and cayenne.\n",
      "FIELD | Organic dry roasted pumpkin seeds, tamari (soybeans, water and salt), [garlic] and cayenne.\n",
      "DELIM | Organic dry roasted pumpkin seeds, tamari (soybeans, water and salt), garlic [and] cayenne.\n",
      "FIELD | Organic dry roasted pumpkin seeds, tamari (soybeans, water and salt), garlic and [cayenne].\n",
      "DELIM | Organic dry roasted pumpkin seeds, tamari (soybeans, water and salt), garlic and cayenne[.]\n",
      "END   | Organic dry roasted pumpkin seeds, tamari (soybeans, water and salt), garlic and cayenne.[]\n"
     ]
    }
   ],
   "source": [
    "text = 'Organic dry roasted pumpkin seeds, tamari (soybeans, water and salt), garlic and cayenne.'\n",
    "\n",
    "for token in ingredients.tokenize(text, delims_en):\n",
    "    print(f\"{token.type.name:5} | {ingredients.highglight_token(text, token, '[', ']')}\")"
   ]
  },
  {
   "cell_type": "markdown",
   "metadata": {},
   "source": [
    "The utility funtion below allows to iterate over tokens using a sliding window of width _n_:"
   ]
  },
  {
   "cell_type": "code",
   "execution_count": 11,
   "metadata": {},
   "outputs": [],
   "source": [
    "# This is an old itertools recipe:\n",
    "def window(seq: t.Iterable[t.Any], n=2) -> t.Iterable[t.Sequence[t.Any]]:\n",
    "    \"\"\"\\\n",
    "    Returns a sliding window (of width ``n``) over data from the iterable.\n",
    "    For a sequence ``s``, the result will be ``(s0, s1, ..., s[n-1]), (s1, s2, ..., s[n]), ...``.\n",
    "    \"\"\"\n",
    "    it = iter(seq)\n",
    "    result = tuple(itertools.islice(it, n))\n",
    "    if len(result) == n:\n",
    "        yield result    \n",
    "    for elem in it:\n",
    "        result = result[1:] + (elem,)\n",
    "        yield result"
   ]
  },
  {
   "cell_type": "markdown",
   "metadata": {},
   "source": [
    "The utility function below allows to convert a sequence of tokens into a list of pairs _(ingredient, is-composite)_:"
   ]
  },
  {
   "cell_type": "code",
   "execution_count": 12,
   "metadata": {},
   "outputs": [],
   "source": [
    "def tokens_to_ingredients(tokens: t.Iterable[ingredients.Token]) -> t.Iterable[t.Tuple[str, int]]:\n",
    "    from ingredients import TokenType\n",
    "    # Peek 3 tokens ahead:\n",
    "    for t1, t2, t3 in window(tokens, 3):\n",
    "        if t1.type == TokenType.END:\n",
    "            break\n",
    "        # Discard tokens of a type other than 'FIELD':\n",
    "        if t1.type == TokenType.FIELD:\n",
    "            # Figure out if the ingredient is composite (see assumptions):\n",
    "            is_composite = (t2.type == TokenType.LPAR and\n",
    "                            t3.type == TokenType.FIELD)\n",
    "            yield (t1.text, int(is_composite))"
   ]
  },
  {
   "cell_type": "markdown",
   "metadata": {},
   "source": [
    "**Normalization:** We performs the following steps to normalize the names of ingredients:\n",
    "- Convert to lower-case\n",
    "- Remove numbers\n",
    "- Replace punctuation marks by a single space\n",
    "- Remove accents\n",
    "- Replace a sequence of 1+ white spaces by a single space\n",
    "- Strip leading and trailing white spaces"
   ]
  },
  {
   "cell_type": "markdown",
   "metadata": {},
   "source": [
    "The 1st utility functions below allows to convert a single list of ingredients into a (single) lists of pairs _(normalized-ingredient, is-composite)_. The 2nd utility function below allows to convert multiple lists of ingredients into a (single) list of pairs _(normalized-ingredient, is-composite)_. The last function allows to convert multiple lists of ingredients into a data-frame:"
   ]
  },
  {
   "cell_type": "code",
   "execution_count": 13,
   "metadata": {},
   "outputs": [],
   "source": [
    "def text_to_ingredients(text: str, delims: t.Sequence[str]) -> t.Iterable[t.Tuple[str, int]]:\n",
    "    from ingredients import tokenize, normalize\n",
    "    yield from tokens_to_ingredients(normalize(tokenize(text, delims, 4)))\n",
    "    \n",
    "\n",
    "def texts_to_ingredients(texts: t.Iterable[str], delims: t.Sequence[str]) -> t.Iterable[t.Tuple[str, int]]:\n",
    "    for text in texts:\n",
    "        yield from text_to_ingredients(text, delims)\n",
    "\n",
    "\n",
    "def texts_to_ingredients_df(texts: pd.Series, delims: t.Sequence[str]) -> pd.DataFrame:\n",
    "    return pd.DataFrame.from_records(\n",
    "        texts_to_ingredients(texts, delims), columns=['ingredient', 'is_composite'])"
   ]
  },
  {
   "cell_type": "markdown",
   "metadata": {},
   "source": [
    "Here is a small example:"
   ]
  },
  {
   "cell_type": "code",
   "execution_count": 14,
   "metadata": {},
   "outputs": [
    {
     "data": {
      "text/html": [
       "<div>\n",
       "<style scoped>\n",
       "    .dataframe tbody tr th:only-of-type {\n",
       "        vertical-align: middle;\n",
       "    }\n",
       "\n",
       "    .dataframe tbody tr th {\n",
       "        vertical-align: top;\n",
       "    }\n",
       "\n",
       "    .dataframe thead th {\n",
       "        text-align: right;\n",
       "    }\n",
       "</style>\n",
       "<table border=\"1\" class=\"dataframe\">\n",
       "  <thead>\n",
       "    <tr style=\"text-align: right;\">\n",
       "      <th></th>\n",
       "      <th>ingredient</th>\n",
       "      <th>is_composite</th>\n",
       "    </tr>\n",
       "  </thead>\n",
       "  <tbody>\n",
       "    <tr>\n",
       "      <th>0</th>\n",
       "      <td>the noir de chine</td>\n",
       "      <td>0</td>\n",
       "    </tr>\n",
       "    <tr>\n",
       "      <th>1</th>\n",
       "      <td>zestes d oranges</td>\n",
       "      <td>0</td>\n",
       "    </tr>\n",
       "    <tr>\n",
       "      <th>2</th>\n",
       "      <td>aromes naturels</td>\n",
       "      <td>1</td>\n",
       "    </tr>\n",
       "    <tr>\n",
       "      <th>3</th>\n",
       "      <td>cannelle</td>\n",
       "      <td>0</td>\n",
       "    </tr>\n",
       "    <tr>\n",
       "      <th>4</th>\n",
       "      <td>orange</td>\n",
       "      <td>0</td>\n",
       "    </tr>\n",
       "    <tr>\n",
       "      <th>5</th>\n",
       "      <td>poudre de cannelle</td>\n",
       "      <td>0</td>\n",
       "    </tr>\n",
       "  </tbody>\n",
       "</table>\n",
       "</div>"
      ],
      "text/plain": [
       "           ingredient  is_composite\n",
       "0   the noir de chine             0\n",
       "1    zestes d oranges             0\n",
       "2     aromes naturels             1\n",
       "3            cannelle             0\n",
       "4              orange             0\n",
       "5  poudre de cannelle             0"
      ]
     },
     "execution_count": 14,
     "metadata": {},
     "output_type": "execute_result"
    }
   ],
   "source": [
    "text = \"Thé noir de Chine, zestes d'oranges 7,5 %, arômes naturels (cannelle 4,7 %, orange 4,7 %, poudre de cannelle 3,9 %).\"\n",
    "\n",
    "texts_to_ingredients_df([text], delims_fr)"
   ]
  },
  {
   "cell_type": "markdown",
   "metadata": {},
   "source": [
    "### Execution"
   ]
  },
  {
   "cell_type": "markdown",
   "metadata": {},
   "source": [
    "We create a separate data-frame for each country and discard rows with NA values:"
   ]
  },
  {
   "cell_type": "markdown",
   "metadata": {},
   "source": [
    "**/!\\ TODO: Make use of the cleaned-up data-frame once it is available!**"
   ]
  },
  {
   "cell_type": "code",
   "execution_count": 15,
   "metadata": {},
   "outputs": [],
   "source": [
    "def filter_country(country: str) -> pd.DataFrame:\n",
    "    is_country = df['countries_tags'].str.contains(country, na=False, regex=False)\n",
    "    df_country = df[is_country & df['ingredients_text'].notna()]\n",
    "    return df_country[['ingredients_text']]"
   ]
  },
  {
   "cell_type": "code",
   "execution_count": 16,
   "metadata": {},
   "outputs": [
    {
     "name": "stdout",
     "output_type": "stream",
     "text": [
      "the dataset 'usa' contains 171874 rows and 1 columns\n"
     ]
    },
    {
     "data": {
      "text/html": [
       "<div>\n",
       "<style scoped>\n",
       "    .dataframe tbody tr th:only-of-type {\n",
       "        vertical-align: middle;\n",
       "    }\n",
       "\n",
       "    .dataframe tbody tr th {\n",
       "        vertical-align: top;\n",
       "    }\n",
       "\n",
       "    .dataframe thead th {\n",
       "        text-align: right;\n",
       "    }\n",
       "</style>\n",
       "<table border=\"1\" class=\"dataframe\">\n",
       "  <thead>\n",
       "    <tr style=\"text-align: right;\">\n",
       "      <th></th>\n",
       "      <th>ingredients_text</th>\n",
       "    </tr>\n",
       "  </thead>\n",
       "  <tbody>\n",
       "    <tr>\n",
       "      <th>1</th>\n",
       "      <td>Bananas, vegetable oil (coconut oil, corn oil ...</td>\n",
       "    </tr>\n",
       "    <tr>\n",
       "      <th>2</th>\n",
       "      <td>Peanuts, wheat flour, sugar, rice flour, tapio...</td>\n",
       "    </tr>\n",
       "    <tr>\n",
       "      <th>3</th>\n",
       "      <td>Organic hazelnuts, organic cashews, organic wa...</td>\n",
       "    </tr>\n",
       "    <tr>\n",
       "      <th>4</th>\n",
       "      <td>Organic polenta</td>\n",
       "    </tr>\n",
       "    <tr>\n",
       "      <th>5</th>\n",
       "      <td>Rolled oats, grape concentrate, expeller press...</td>\n",
       "    </tr>\n",
       "  </tbody>\n",
       "</table>\n",
       "</div>"
      ],
      "text/plain": [
       "                                    ingredients_text\n",
       "1  Bananas, vegetable oil (coconut oil, corn oil ...\n",
       "2  Peanuts, wheat flour, sugar, rice flour, tapio...\n",
       "3  Organic hazelnuts, organic cashews, organic wa...\n",
       "4                                    Organic polenta\n",
       "5  Rolled oats, grape concentrate, expeller press..."
      ]
     },
     "execution_count": 16,
     "metadata": {},
     "output_type": "execute_result"
    }
   ],
   "source": [
    "df_usa = filter_country('united-states')\n",
    "\n",
    "nrows, ncols = df_usa.shape\n",
    "print(f\"the dataset 'usa' contains {nrows} rows and {ncols} columns\")\n",
    "\n",
    "df_usa.head()"
   ]
  },
  {
   "cell_type": "code",
   "execution_count": 17,
   "metadata": {},
   "outputs": [
    {
     "name": "stdout",
     "output_type": "stream",
     "text": [
      "the dataset 'france' contains 86743 rows and 1 columns\n"
     ]
    },
    {
     "data": {
      "text/html": [
       "<div>\n",
       "<style scoped>\n",
       "    .dataframe tbody tr th:only-of-type {\n",
       "        vertical-align: middle;\n",
       "    }\n",
       "\n",
       "    .dataframe tbody tr th {\n",
       "        vertical-align: top;\n",
       "    }\n",
       "\n",
       "    .dataframe thead th {\n",
       "        text-align: right;\n",
       "    }\n",
       "</style>\n",
       "<table border=\"1\" class=\"dataframe\">\n",
       "  <thead>\n",
       "    <tr style=\"text-align: right;\">\n",
       "      <th></th>\n",
       "      <th>ingredients_text</th>\n",
       "    </tr>\n",
       "  </thead>\n",
       "  <tbody>\n",
       "    <tr>\n",
       "      <th>184</th>\n",
       "      <td>lentilles vertes</td>\n",
       "    </tr>\n",
       "    <tr>\n",
       "      <th>185</th>\n",
       "      <td>Eau gazéifiée, sirop de maïs à haute teneur en...</td>\n",
       "    </tr>\n",
       "    <tr>\n",
       "      <th>186</th>\n",
       "      <td>Sucre, farine de _Blé_, graisse et huiles végé...</td>\n",
       "    </tr>\n",
       "    <tr>\n",
       "      <th>190</th>\n",
       "      <td>Thé noir aromatisé à la fleur de violette et p...</td>\n",
       "    </tr>\n",
       "    <tr>\n",
       "      <th>191</th>\n",
       "      <td>Thé noir de Chine, zestes d'oranges 7,5 %, arô...</td>\n",
       "    </tr>\n",
       "  </tbody>\n",
       "</table>\n",
       "</div>"
      ],
      "text/plain": [
       "                                      ingredients_text\n",
       "184                                   lentilles vertes\n",
       "185  Eau gazéifiée, sirop de maïs à haute teneur en...\n",
       "186  Sucre, farine de _Blé_, graisse et huiles végé...\n",
       "190  Thé noir aromatisé à la fleur de violette et p...\n",
       "191  Thé noir de Chine, zestes d'oranges 7,5 %, arô..."
      ]
     },
     "execution_count": 17,
     "metadata": {},
     "output_type": "execute_result"
    }
   ],
   "source": [
    "df_france = filter_country('france')\n",
    "\n",
    "nrows, ncols = df_france.shape\n",
    "print(f\"the dataset 'france' contains {nrows} rows and {ncols} columns\")\n",
    "\n",
    "df_france.head()"
   ]
  },
  {
   "cell_type": "markdown",
   "metadata": {},
   "source": [
    "We convert each dataset into a data-frame with columns _(ingredient, is-composite)_:"
   ]
  },
  {
   "cell_type": "code",
   "execution_count": 18,
   "metadata": {},
   "outputs": [],
   "source": [
    "df_usa_ingredients = texts_to_ingredients_df(df_usa['ingredients_text'], delims_en)\n",
    "df_france_ingredients = texts_to_ingredients_df(df_france['ingredients_text'], delims_fr)"
   ]
  },
  {
   "cell_type": "markdown",
   "metadata": {},
   "source": [
    "**Note:** Some ingredients appear multiple times, sometimes marked as \"simple\" and sometime marked as \"composite\". Some form of \"reconciliation\" is thus required. In order for an ingredient to be considered as \"composite\", we require that the fraction of instances marked as \"composite\" be greater than 0.5:"
   ]
  },
  {
   "cell_type": "code",
   "execution_count": 20,
   "metadata": {},
   "outputs": [],
   "source": [
    "def reconcile_composite(df: pd.DataFrame, threshold: float = 0.5) -> pd.DataFrame:\n",
    "    # Compute count and mean:\n",
    "    df_reconciled = (\n",
    "        df\n",
    "        .groupby(by='ingredient')\n",
    "        .agg(['count', 'mean'])\n",
    "        .rename(columns={'count': 'count', 'mean': 'composite_mean'})\n",
    "    )\n",
    "    # Get rid of the multi-index:\n",
    "    df_reconciled.columns = df_reconciled.columns.get_level_values(1)\n",
    "    # Reconcile:\n",
    "    df_reconciled['is_composite'] = (df_reconciled['composite_mean'] > threshold)\n",
    "    df_reconciled = df_reconciled.drop(columns=['composite_mean'])\n",
    "    return df_reconciled"
   ]
  },
  {
   "cell_type": "markdown",
   "metadata": {},
   "source": [
    "Finally, we can easily compute the prevalence of each ingredient, i.e. the percentage of products that contain that ingredient:"
   ]
  },
  {
   "cell_type": "code",
   "execution_count": 6,
   "metadata": {},
   "outputs": [],
   "source": [
    "def compute_prevalence(df: pd.DataFrame, nproducts: int) -> pd.DataFrame:\n",
    "    df['prevalence'] = df['count'] / nproducts\n",
    "    return df\n",
    "\n",
    "\n",
    "# Custom format for the 'prevalence' column:\n",
    "def styled(df: pd.DataFrame) -> pd.io.formats.style.Styler:\n",
    "    df = df.style.format({\n",
    "        'prevalence': lambda n: f'{n*100:.2f} %'\n",
    "    })\n",
    "    return df"
   ]
  },
  {
   "cell_type": "code",
   "execution_count": 22,
   "metadata": {},
   "outputs": [],
   "source": [
    "df_usa_final = reconcile_composite(df_usa_ingredients)\n",
    "df_france_final = reconcile_composite(df_france_ingredients)"
   ]
  },
  {
   "cell_type": "markdown",
   "metadata": {},
   "source": [
    "## Results<a name=\"task-c-results\"></a> ([top](#top))\n",
    "---"
   ]
  },
  {
   "cell_type": "markdown",
   "metadata": {},
   "source": [
    "We find the 5 most common \"simple\" ingredients:"
   ]
  },
  {
   "cell_type": "code",
   "execution_count": 23,
   "metadata": {},
   "outputs": [],
   "source": [
    "def top_n_simple(df: pd.DataFrame, nproducts: int) -> pd.DataFrame:\n",
    "    df_result = df[~df['is_composite']].nlargest(5, columns=['count'])[['count']]\n",
    "    return styled(compute_prevalence(df_result, nproducts))"
   ]
  },
  {
   "cell_type": "code",
   "execution_count": 36,
   "metadata": {},
   "outputs": [
    {
     "data": {
      "text/html": [
       "<style  type=\"text/css\" >\n",
       "</style><table id=\"T_adb8c1b4_80c1_11e9_98a5_c869cdc070be\" ><thead>    <tr>        <th class=\"blank level0\" ></th>        <th class=\"col_heading level0 col0\" >count</th>        <th class=\"col_heading level0 col1\" >prevalence</th>    </tr>    <tr>        <th class=\"index_name level0\" >ingredient</th>        <th class=\"blank\" ></th>        <th class=\"blank\" ></th>    </tr></thead><tbody>\n",
       "                <tr>\n",
       "                        <th id=\"T_adb8c1b4_80c1_11e9_98a5_c869cdc070belevel0_row0\" class=\"row_heading level0 row0\" >salt</th>\n",
       "                        <td id=\"T_adb8c1b4_80c1_11e9_98a5_c869cdc070berow0_col0\" class=\"data row0 col0\" >104185</td>\n",
       "                        <td id=\"T_adb8c1b4_80c1_11e9_98a5_c869cdc070berow0_col1\" class=\"data row0 col1\" >60.62 %</td>\n",
       "            </tr>\n",
       "            <tr>\n",
       "                        <th id=\"T_adb8c1b4_80c1_11e9_98a5_c869cdc070belevel0_row1\" class=\"row_heading level0 row1\" >sugar</th>\n",
       "                        <td id=\"T_adb8c1b4_80c1_11e9_98a5_c869cdc070berow1_col0\" class=\"data row1 col0\" >77324</td>\n",
       "                        <td id=\"T_adb8c1b4_80c1_11e9_98a5_c869cdc070berow1_col1\" class=\"data row1 col1\" >44.99 %</td>\n",
       "            </tr>\n",
       "            <tr>\n",
       "                        <th id=\"T_adb8c1b4_80c1_11e9_98a5_c869cdc070belevel0_row2\" class=\"row_heading level0 row2\" >water</th>\n",
       "                        <td id=\"T_adb8c1b4_80c1_11e9_98a5_c869cdc070berow2_col0\" class=\"data row2 col0\" >71782</td>\n",
       "                        <td id=\"T_adb8c1b4_80c1_11e9_98a5_c869cdc070berow2_col1\" class=\"data row2 col1\" >41.76 %</td>\n",
       "            </tr>\n",
       "            <tr>\n",
       "                        <th id=\"T_adb8c1b4_80c1_11e9_98a5_c869cdc070belevel0_row3\" class=\"row_heading level0 row3\" >citric acid</th>\n",
       "                        <td id=\"T_adb8c1b4_80c1_11e9_98a5_c869cdc070berow3_col0\" class=\"data row3 col0\" >34816</td>\n",
       "                        <td id=\"T_adb8c1b4_80c1_11e9_98a5_c869cdc070berow3_col1\" class=\"data row3 col1\" >20.26 %</td>\n",
       "            </tr>\n",
       "            <tr>\n",
       "                        <th id=\"T_adb8c1b4_80c1_11e9_98a5_c869cdc070belevel0_row4\" class=\"row_heading level0 row4\" >riboflavin</th>\n",
       "                        <td id=\"T_adb8c1b4_80c1_11e9_98a5_c869cdc070berow4_col0\" class=\"data row4 col0\" >22454</td>\n",
       "                        <td id=\"T_adb8c1b4_80c1_11e9_98a5_c869cdc070berow4_col1\" class=\"data row4 col1\" >13.06 %</td>\n",
       "            </tr>\n",
       "    </tbody></table>"
      ],
      "text/plain": [
       "<pandas.io.formats.style.Styler at 0x12b827fd0>"
      ]
     },
     "execution_count": 36,
     "metadata": {},
     "output_type": "execute_result"
    }
   ],
   "source": [
    "top_n_simple(df_usa_final, len(df_usa))"
   ]
  },
  {
   "cell_type": "code",
   "execution_count": 25,
   "metadata": {},
   "outputs": [
    {
     "data": {
      "text/html": [
       "<style  type=\"text/css\" >\n",
       "</style><table id=\"T_6ac300e2_80c1_11e9_85ee_c869cdc070be\" ><thead>    <tr>        <th class=\"blank level0\" ></th>        <th class=\"col_heading level0 col0\" >count</th>        <th class=\"col_heading level0 col1\" >prevalence</th>    </tr>    <tr>        <th class=\"index_name level0\" >ingredient</th>        <th class=\"blank\" ></th>        <th class=\"blank\" ></th>    </tr></thead><tbody>\n",
       "                <tr>\n",
       "                        <th id=\"T_6ac300e2_80c1_11e9_85ee_c869cdc070belevel0_row0\" class=\"row_heading level0 row0\" >sel</th>\n",
       "                        <td id=\"T_6ac300e2_80c1_11e9_85ee_c869cdc070berow0_col0\" class=\"data row0 col0\" >51797</td>\n",
       "                        <td id=\"T_6ac300e2_80c1_11e9_85ee_c869cdc070berow0_col1\" class=\"data row0 col1\" >59.71 %</td>\n",
       "            </tr>\n",
       "            <tr>\n",
       "                        <th id=\"T_6ac300e2_80c1_11e9_85ee_c869cdc070belevel0_row1\" class=\"row_heading level0 row1\" >sucre</th>\n",
       "                        <td id=\"T_6ac300e2_80c1_11e9_85ee_c869cdc070berow1_col0\" class=\"data row1 col0\" >37257</td>\n",
       "                        <td id=\"T_6ac300e2_80c1_11e9_85ee_c869cdc070berow1_col1\" class=\"data row1 col1\" >42.95 %</td>\n",
       "            </tr>\n",
       "            <tr>\n",
       "                        <th id=\"T_6ac300e2_80c1_11e9_85ee_c869cdc070belevel0_row2\" class=\"row_heading level0 row2\" >eau</th>\n",
       "                        <td id=\"T_6ac300e2_80c1_11e9_85ee_c869cdc070berow2_col0\" class=\"data row2 col0\" >35605</td>\n",
       "                        <td id=\"T_6ac300e2_80c1_11e9_85ee_c869cdc070berow2_col1\" class=\"data row2 col1\" >41.05 %</td>\n",
       "            </tr>\n",
       "            <tr>\n",
       "                        <th id=\"T_6ac300e2_80c1_11e9_85ee_c869cdc070belevel0_row3\" class=\"row_heading level0 row3\" >farine de ble</th>\n",
       "                        <td id=\"T_6ac300e2_80c1_11e9_85ee_c869cdc070berow3_col0\" class=\"data row3 col0\" >13053</td>\n",
       "                        <td id=\"T_6ac300e2_80c1_11e9_85ee_c869cdc070berow3_col1\" class=\"data row3 col1\" >15.05 %</td>\n",
       "            </tr>\n",
       "            <tr>\n",
       "                        <th id=\"T_6ac300e2_80c1_11e9_85ee_c869cdc070belevel0_row4\" class=\"row_heading level0 row4\" >huile de tournesol</th>\n",
       "                        <td id=\"T_6ac300e2_80c1_11e9_85ee_c869cdc070berow4_col0\" class=\"data row4 col0\" >9063</td>\n",
       "                        <td id=\"T_6ac300e2_80c1_11e9_85ee_c869cdc070berow4_col1\" class=\"data row4 col1\" >10.45 %</td>\n",
       "            </tr>\n",
       "    </tbody></table>"
      ],
      "text/plain": [
       "<pandas.io.formats.style.Styler at 0x105cda6a0>"
      ]
     },
     "execution_count": 25,
     "metadata": {},
     "output_type": "execute_result"
    }
   ],
   "source": [
    "top_n_simple(df_france_final, len(df_france))"
   ]
  },
  {
   "cell_type": "markdown",
   "metadata": {},
   "source": [
    "**Comment:** Salt, sugar and water top the ranking for both USA and France and are present in a large percentage of all products."
   ]
  },
  {
   "cell_type": "markdown",
   "metadata": {},
   "source": [
    "The 5 most common \"simple\" ingredients are also the 5 most common ingredients overall:"
   ]
  },
  {
   "cell_type": "code",
   "execution_count": 26,
   "metadata": {},
   "outputs": [],
   "source": [
    "def top_n_overall(df: pd.DataFrame ,nproducts: int) -> pd.DataFrame:\n",
    "    df_result = df.nlargest(5, columns=['count'])[['count']]\n",
    "    return styled(compute_prevalence(df_result, nproducts))"
   ]
  },
  {
   "cell_type": "code",
   "execution_count": 27,
   "metadata": {},
   "outputs": [
    {
     "data": {
      "text/html": [
       "<style  type=\"text/css\" >\n",
       "</style><table id=\"T_6ace2236_80c1_11e9_ac04_c869cdc070be\" ><thead>    <tr>        <th class=\"blank level0\" ></th>        <th class=\"col_heading level0 col0\" >count</th>        <th class=\"col_heading level0 col1\" >prevalence</th>    </tr>    <tr>        <th class=\"index_name level0\" >ingredient</th>        <th class=\"blank\" ></th>        <th class=\"blank\" ></th>    </tr></thead><tbody>\n",
       "                <tr>\n",
       "                        <th id=\"T_6ace2236_80c1_11e9_ac04_c869cdc070belevel0_row0\" class=\"row_heading level0 row0\" >salt</th>\n",
       "                        <td id=\"T_6ace2236_80c1_11e9_ac04_c869cdc070berow0_col0\" class=\"data row0 col0\" >104185</td>\n",
       "                        <td id=\"T_6ace2236_80c1_11e9_ac04_c869cdc070berow0_col1\" class=\"data row0 col1\" >60.62 %</td>\n",
       "            </tr>\n",
       "            <tr>\n",
       "                        <th id=\"T_6ace2236_80c1_11e9_ac04_c869cdc070belevel0_row1\" class=\"row_heading level0 row1\" >sugar</th>\n",
       "                        <td id=\"T_6ace2236_80c1_11e9_ac04_c869cdc070berow1_col0\" class=\"data row1 col0\" >77324</td>\n",
       "                        <td id=\"T_6ace2236_80c1_11e9_ac04_c869cdc070berow1_col1\" class=\"data row1 col1\" >44.99 %</td>\n",
       "            </tr>\n",
       "            <tr>\n",
       "                        <th id=\"T_6ace2236_80c1_11e9_ac04_c869cdc070belevel0_row2\" class=\"row_heading level0 row2\" >water</th>\n",
       "                        <td id=\"T_6ace2236_80c1_11e9_ac04_c869cdc070berow2_col0\" class=\"data row2 col0\" >71782</td>\n",
       "                        <td id=\"T_6ace2236_80c1_11e9_ac04_c869cdc070berow2_col1\" class=\"data row2 col1\" >41.76 %</td>\n",
       "            </tr>\n",
       "            <tr>\n",
       "                        <th id=\"T_6ace2236_80c1_11e9_ac04_c869cdc070belevel0_row3\" class=\"row_heading level0 row3\" >citric acid</th>\n",
       "                        <td id=\"T_6ace2236_80c1_11e9_ac04_c869cdc070berow3_col0\" class=\"data row3 col0\" >34816</td>\n",
       "                        <td id=\"T_6ace2236_80c1_11e9_ac04_c869cdc070berow3_col1\" class=\"data row3 col1\" >20.26 %</td>\n",
       "            </tr>\n",
       "            <tr>\n",
       "                        <th id=\"T_6ace2236_80c1_11e9_ac04_c869cdc070belevel0_row4\" class=\"row_heading level0 row4\" >riboflavin</th>\n",
       "                        <td id=\"T_6ace2236_80c1_11e9_ac04_c869cdc070berow4_col0\" class=\"data row4 col0\" >22454</td>\n",
       "                        <td id=\"T_6ace2236_80c1_11e9_ac04_c869cdc070berow4_col1\" class=\"data row4 col1\" >13.06 %</td>\n",
       "            </tr>\n",
       "    </tbody></table>"
      ],
      "text/plain": [
       "<pandas.io.formats.style.Styler at 0x12b15d048>"
      ]
     },
     "execution_count": 27,
     "metadata": {},
     "output_type": "execute_result"
    }
   ],
   "source": [
    "top_n_overall(df_usa_final, len(df_usa))"
   ]
  },
  {
   "cell_type": "code",
   "execution_count": 28,
   "metadata": {},
   "outputs": [
    {
     "data": {
      "text/html": [
       "<style  type=\"text/css\" >\n",
       "</style><table id=\"T_6ad9dcde_80c1_11e9_9a01_c869cdc070be\" ><thead>    <tr>        <th class=\"blank level0\" ></th>        <th class=\"col_heading level0 col0\" >count</th>        <th class=\"col_heading level0 col1\" >prevalence</th>    </tr>    <tr>        <th class=\"index_name level0\" >ingredient</th>        <th class=\"blank\" ></th>        <th class=\"blank\" ></th>    </tr></thead><tbody>\n",
       "                <tr>\n",
       "                        <th id=\"T_6ad9dcde_80c1_11e9_9a01_c869cdc070belevel0_row0\" class=\"row_heading level0 row0\" >sel</th>\n",
       "                        <td id=\"T_6ad9dcde_80c1_11e9_9a01_c869cdc070berow0_col0\" class=\"data row0 col0\" >51797</td>\n",
       "                        <td id=\"T_6ad9dcde_80c1_11e9_9a01_c869cdc070berow0_col1\" class=\"data row0 col1\" >59.71 %</td>\n",
       "            </tr>\n",
       "            <tr>\n",
       "                        <th id=\"T_6ad9dcde_80c1_11e9_9a01_c869cdc070belevel0_row1\" class=\"row_heading level0 row1\" >sucre</th>\n",
       "                        <td id=\"T_6ad9dcde_80c1_11e9_9a01_c869cdc070berow1_col0\" class=\"data row1 col0\" >37257</td>\n",
       "                        <td id=\"T_6ad9dcde_80c1_11e9_9a01_c869cdc070berow1_col1\" class=\"data row1 col1\" >42.95 %</td>\n",
       "            </tr>\n",
       "            <tr>\n",
       "                        <th id=\"T_6ad9dcde_80c1_11e9_9a01_c869cdc070belevel0_row2\" class=\"row_heading level0 row2\" >eau</th>\n",
       "                        <td id=\"T_6ad9dcde_80c1_11e9_9a01_c869cdc070berow2_col0\" class=\"data row2 col0\" >35605</td>\n",
       "                        <td id=\"T_6ad9dcde_80c1_11e9_9a01_c869cdc070berow2_col1\" class=\"data row2 col1\" >41.05 %</td>\n",
       "            </tr>\n",
       "            <tr>\n",
       "                        <th id=\"T_6ad9dcde_80c1_11e9_9a01_c869cdc070belevel0_row3\" class=\"row_heading level0 row3\" >farine de ble</th>\n",
       "                        <td id=\"T_6ad9dcde_80c1_11e9_9a01_c869cdc070berow3_col0\" class=\"data row3 col0\" >13053</td>\n",
       "                        <td id=\"T_6ad9dcde_80c1_11e9_9a01_c869cdc070berow3_col1\" class=\"data row3 col1\" >15.05 %</td>\n",
       "            </tr>\n",
       "            <tr>\n",
       "                        <th id=\"T_6ad9dcde_80c1_11e9_9a01_c869cdc070belevel0_row4\" class=\"row_heading level0 row4\" >huile de tournesol</th>\n",
       "                        <td id=\"T_6ad9dcde_80c1_11e9_9a01_c869cdc070berow4_col0\" class=\"data row4 col0\" >9063</td>\n",
       "                        <td id=\"T_6ad9dcde_80c1_11e9_9a01_c869cdc070berow4_col1\" class=\"data row4 col1\" >10.45 %</td>\n",
       "            </tr>\n",
       "    </tbody></table>"
      ],
      "text/plain": [
       "<pandas.io.formats.style.Styler at 0x12b15d630>"
      ]
     },
     "execution_count": 28,
     "metadata": {},
     "output_type": "execute_result"
    }
   ],
   "source": [
    "top_n_overall(df_france_final, len(df_france))"
   ]
  },
  {
   "cell_type": "markdown",
   "metadata": {},
   "source": [
    "Finally, we find the 5 most common \"composite\" ingredients:"
   ]
  },
  {
   "cell_type": "code",
   "execution_count": 29,
   "metadata": {},
   "outputs": [],
   "source": [
    "def top_n_composite(df, nproducts):\n",
    "    df_result = (df[df['is_composite']].nlargest(5, columns=['count']))[['count']]\n",
    "    return styled(compute_prevalence(df_result, nproducts))"
   ]
  },
  {
   "cell_type": "code",
   "execution_count": 30,
   "metadata": {},
   "outputs": [
    {
     "data": {
      "text/html": [
       "<style  type=\"text/css\" >\n",
       "</style><table id=\"T_6aeca834_80c1_11e9_86d5_c869cdc070be\" ><thead>    <tr>        <th class=\"blank level0\" ></th>        <th class=\"col_heading level0 col0\" >count</th>        <th class=\"col_heading level0 col1\" >prevalence</th>    </tr>    <tr>        <th class=\"index_name level0\" >ingredient</th>        <th class=\"blank\" ></th>        <th class=\"blank\" ></th>    </tr></thead><tbody>\n",
       "                <tr>\n",
       "                        <th id=\"T_6aeca834_80c1_11e9_86d5_c869cdc070belevel0_row0\" class=\"row_heading level0 row0\" >ascorbic acid</th>\n",
       "                        <td id=\"T_6aeca834_80c1_11e9_86d5_c869cdc070berow0_col0\" class=\"data row0 col0\" >8938</td>\n",
       "                        <td id=\"T_6aeca834_80c1_11e9_86d5_c869cdc070berow0_col1\" class=\"data row0 col1\" >5.20 %</td>\n",
       "            </tr>\n",
       "            <tr>\n",
       "                        <th id=\"T_6aeca834_80c1_11e9_86d5_c869cdc070belevel0_row1\" class=\"row_heading level0 row1\" >vegetable oil</th>\n",
       "                        <td id=\"T_6aeca834_80c1_11e9_86d5_c869cdc070berow1_col0\" class=\"data row1 col0\" >7922</td>\n",
       "                        <td id=\"T_6aeca834_80c1_11e9_86d5_c869cdc070berow1_col1\" class=\"data row1 col1\" >4.61 %</td>\n",
       "            </tr>\n",
       "            <tr>\n",
       "                        <th id=\"T_6aeca834_80c1_11e9_86d5_c869cdc070belevel0_row2\" class=\"row_heading level0 row2\" >potassium sorbate</th>\n",
       "                        <td id=\"T_6aeca834_80c1_11e9_86d5_c869cdc070berow2_col0\" class=\"data row2 col0\" >7681</td>\n",
       "                        <td id=\"T_6aeca834_80c1_11e9_86d5_c869cdc070berow2_col1\" class=\"data row2 col1\" >4.47 %</td>\n",
       "            </tr>\n",
       "            <tr>\n",
       "                        <th id=\"T_6aeca834_80c1_11e9_86d5_c869cdc070belevel0_row3\" class=\"row_heading level0 row3\" >butter</th>\n",
       "                        <td id=\"T_6aeca834_80c1_11e9_86d5_c869cdc070berow3_col0\" class=\"data row3 col0\" >5626</td>\n",
       "                        <td id=\"T_6aeca834_80c1_11e9_86d5_c869cdc070berow3_col1\" class=\"data row3 col1\" >3.27 %</td>\n",
       "            </tr>\n",
       "            <tr>\n",
       "                        <th id=\"T_6aeca834_80c1_11e9_86d5_c869cdc070belevel0_row4\" class=\"row_heading level0 row4\" >sodium benzoate</th>\n",
       "                        <td id=\"T_6aeca834_80c1_11e9_86d5_c869cdc070berow4_col0\" class=\"data row4 col0\" >5380</td>\n",
       "                        <td id=\"T_6aeca834_80c1_11e9_86d5_c869cdc070berow4_col1\" class=\"data row4 col1\" >3.13 %</td>\n",
       "            </tr>\n",
       "    </tbody></table>"
      ],
      "text/plain": [
       "<pandas.io.formats.style.Styler at 0x12b1a0320>"
      ]
     },
     "execution_count": 30,
     "metadata": {},
     "output_type": "execute_result"
    }
   ],
   "source": [
    "top_n_composite(df_usa_final, len(df_usa))"
   ]
  },
  {
   "cell_type": "code",
   "execution_count": 31,
   "metadata": {},
   "outputs": [
    {
     "data": {
      "text/html": [
       "<style  type=\"text/css\" >\n",
       "</style><table id=\"T_6afab9ae_80c1_11e9_9747_c869cdc070be\" ><thead>    <tr>        <th class=\"blank level0\" ></th>        <th class=\"col_heading level0 col0\" >count</th>        <th class=\"col_heading level0 col1\" >prevalence</th>    </tr>    <tr>        <th class=\"index_name level0\" >ingredient</th>        <th class=\"blank\" ></th>        <th class=\"blank\" ></th>    </tr></thead><tbody>\n",
       "                <tr>\n",
       "                        <th id=\"T_6afab9ae_80c1_11e9_9747_c869cdc070belevel0_row0\" class=\"row_heading level0 row0\" >emulsifiant</th>\n",
       "                        <td id=\"T_6afab9ae_80c1_11e9_9747_c869cdc070berow0_col0\" class=\"data row0 col0\" >2781</td>\n",
       "                        <td id=\"T_6afab9ae_80c1_11e9_9747_c869cdc070berow0_col1\" class=\"data row0 col1\" >3.21 %</td>\n",
       "            </tr>\n",
       "            <tr>\n",
       "                        <th id=\"T_6afab9ae_80c1_11e9_9747_c869cdc070belevel0_row1\" class=\"row_heading level0 row1\" >legumes</th>\n",
       "                        <td id=\"T_6afab9ae_80c1_11e9_9747_c869cdc070berow1_col0\" class=\"data row1 col0\" >1624</td>\n",
       "                        <td id=\"T_6afab9ae_80c1_11e9_9747_c869cdc070berow1_col1\" class=\"data row1 col1\" >1.87 %</td>\n",
       "            </tr>\n",
       "            <tr>\n",
       "                        <th id=\"T_6afab9ae_80c1_11e9_9747_c869cdc070belevel0_row2\" class=\"row_heading level0 row2\" >huiles vegetales</th>\n",
       "                        <td id=\"T_6afab9ae_80c1_11e9_9747_c869cdc070berow2_col0\" class=\"data row2 col0\" >1614</td>\n",
       "                        <td id=\"T_6afab9ae_80c1_11e9_9747_c869cdc070berow2_col1\" class=\"data row2 col1\" >1.86 %</td>\n",
       "            </tr>\n",
       "            <tr>\n",
       "                        <th id=\"T_6afab9ae_80c1_11e9_9747_c869cdc070belevel0_row3\" class=\"row_heading level0 row3\" >colorant</th>\n",
       "                        <td id=\"T_6afab9ae_80c1_11e9_9747_c869cdc070berow3_col0\" class=\"data row3 col0\" >1461</td>\n",
       "                        <td id=\"T_6afab9ae_80c1_11e9_9747_c869cdc070berow3_col1\" class=\"data row3 col1\" >1.68 %</td>\n",
       "            </tr>\n",
       "            <tr>\n",
       "                        <th id=\"T_6afab9ae_80c1_11e9_9747_c869cdc070belevel0_row4\" class=\"row_heading level0 row4\" >acidifiant</th>\n",
       "                        <td id=\"T_6afab9ae_80c1_11e9_9747_c869cdc070berow4_col0\" class=\"data row4 col0\" >1202</td>\n",
       "                        <td id=\"T_6afab9ae_80c1_11e9_9747_c869cdc070berow4_col1\" class=\"data row4 col1\" >1.39 %</td>\n",
       "            </tr>\n",
       "    </tbody></table>"
      ],
      "text/plain": [
       "<pandas.io.formats.style.Styler at 0x12b184e48>"
      ]
     },
     "execution_count": 31,
     "metadata": {},
     "output_type": "execute_result"
    }
   ],
   "source": [
    "top_n_composite(df_france_final, len(df_france))"
   ]
  },
  {
   "cell_type": "code",
   "execution_count": null,
   "metadata": {},
   "outputs": [],
   "source": []
  }
 ],
 "metadata": {
  "kernelspec": {
   "display_name": "Python 3",
   "language": "python",
   "name": "python3"
  },
  "language_info": {
   "codemirror_mode": {
    "name": "ipython",
    "version": 3
   },
   "file_extension": ".py",
   "mimetype": "text/x-python",
   "name": "python",
   "nbconvert_exporter": "python",
   "pygments_lexer": "ipython3",
   "version": "3.6.7"
  }
 },
 "nbformat": 4,
 "nbformat_minor": 2
}
